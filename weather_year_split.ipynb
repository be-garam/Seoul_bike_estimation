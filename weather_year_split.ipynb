{
 "cells": [
  {
   "cell_type": "markdown",
   "id": "cfe14bf8",
   "metadata": {},
   "source": [
    "## Weather split by year"
   ]
  },
  {
   "cell_type": "code",
   "execution_count": 1,
   "id": "52919a69",
   "metadata": {},
   "outputs": [],
   "source": [
    "import geopandas as gpd\n",
    "import matplotlib.pyplot as plt\n",
    "import pandas as pd\n",
    "from shapely.geometry import Point\n",
    "import pyproj\n",
    "from fiona.crs import from_epsg\n",
    "import numpy as np\n",
    "import openpyxl"
   ]
  },
  {
   "cell_type": "code",
   "execution_count": 2,
   "id": "8499360c",
   "metadata": {},
   "outputs": [
    {
     "data": {
      "text/html": [
       "<div>\n",
       "<style scoped>\n",
       "    .dataframe tbody tr th:only-of-type {\n",
       "        vertical-align: middle;\n",
       "    }\n",
       "\n",
       "    .dataframe tbody tr th {\n",
       "        vertical-align: top;\n",
       "    }\n",
       "\n",
       "    .dataframe thead th {\n",
       "        text-align: right;\n",
       "    }\n",
       "</style>\n",
       "<table border=\"1\" class=\"dataframe\">\n",
       "  <thead>\n",
       "    <tr style=\"text-align: right;\">\n",
       "      <th></th>\n",
       "      <th>SIG_CD</th>\n",
       "      <th>SIG_ENG_NM</th>\n",
       "      <th>SIG_KOR_NM</th>\n",
       "      <th>SG_NM</th>\n",
       "      <th>latitude</th>\n",
       "      <th>longitude</th>\n",
       "      <th>geometry</th>\n",
       "    </tr>\n",
       "  </thead>\n",
       "  <tbody>\n",
       "    <tr>\n",
       "      <th>0</th>\n",
       "      <td>11110</td>\n",
       "      <td>Jongno-gu</td>\n",
       "      <td>종로구</td>\n",
       "      <td>서울특별시</td>\n",
       "      <td>37.594920</td>\n",
       "      <td>126.977317</td>\n",
       "      <td>POLYGON ((127.00864 37.58047, 127.00871 37.580...</td>\n",
       "    </tr>\n",
       "    <tr>\n",
       "      <th>1</th>\n",
       "      <td>11140</td>\n",
       "      <td>Jung-gu</td>\n",
       "      <td>중구</td>\n",
       "      <td>서울특별시</td>\n",
       "      <td>37.560143</td>\n",
       "      <td>126.995968</td>\n",
       "      <td>POLYGON ((127.02314 37.57196, 127.02336 37.571...</td>\n",
       "    </tr>\n",
       "    <tr>\n",
       "      <th>2</th>\n",
       "      <td>11170</td>\n",
       "      <td>Yongsan-gu</td>\n",
       "      <td>용산구</td>\n",
       "      <td>서울특별시</td>\n",
       "      <td>37.531386</td>\n",
       "      <td>126.979908</td>\n",
       "      <td>POLYGON ((126.96918 37.55566, 126.96917 37.554...</td>\n",
       "    </tr>\n",
       "    <tr>\n",
       "      <th>3</th>\n",
       "      <td>11200</td>\n",
       "      <td>Seongdong-gu</td>\n",
       "      <td>성동구</td>\n",
       "      <td>서울특별시</td>\n",
       "      <td>37.551030</td>\n",
       "      <td>127.041059</td>\n",
       "      <td>POLYGON ((127.04341 37.57234, 127.04524 37.571...</td>\n",
       "    </tr>\n",
       "    <tr>\n",
       "      <th>4</th>\n",
       "      <td>11215</td>\n",
       "      <td>Gwangjin-gu</td>\n",
       "      <td>광진구</td>\n",
       "      <td>서울특별시</td>\n",
       "      <td>37.546722</td>\n",
       "      <td>127.085746</td>\n",
       "      <td>POLYGON ((127.10166 37.57240, 127.10224 37.572...</td>\n",
       "    </tr>\n",
       "  </tbody>\n",
       "</table>\n",
       "</div>"
      ],
      "text/plain": [
       "  SIG_CD    SIG_ENG_NM SIG_KOR_NM  SG_NM   latitude   longitude  \\\n",
       "0  11110     Jongno-gu        종로구  서울특별시  37.594920  126.977317   \n",
       "1  11140       Jung-gu         중구  서울특별시  37.560143  126.995968   \n",
       "2  11170    Yongsan-gu        용산구  서울특별시  37.531386  126.979908   \n",
       "3  11200  Seongdong-gu        성동구  서울특별시  37.551030  127.041059   \n",
       "4  11215   Gwangjin-gu        광진구  서울특별시  37.546722  127.085746   \n",
       "\n",
       "                                            geometry  \n",
       "0  POLYGON ((127.00864 37.58047, 127.00871 37.580...  \n",
       "1  POLYGON ((127.02314 37.57196, 127.02336 37.571...  \n",
       "2  POLYGON ((126.96918 37.55566, 126.96917 37.554...  \n",
       "3  POLYGON ((127.04341 37.57234, 127.04524 37.571...  \n",
       "4  POLYGON ((127.10166 37.57240, 127.10224 37.572...  "
      ]
     },
     "execution_count": 2,
     "metadata": {},
     "output_type": "execute_result"
    }
   ],
   "source": [
    "geo_shp = gpd.read_file(\"../geo_data/geo_final.shp\", encoding=\"euc-kr\")\n",
    "geo_shp.head()"
   ]
  },
  {
   "cell_type": "code",
   "execution_count": 3,
   "id": "587a4ac9",
   "metadata": {},
   "outputs": [
    {
     "name": "stdout",
     "output_type": "stream",
     "text": [
      "250 <class 'str'>\n"
     ]
    }
   ],
   "source": [
    "geo_sig_id = list(geo_shp[\"SIG_CD\"])\n",
    "geo_sg_n = list(geo_shp[\"SG_NM\"])\n",
    "geo_sig_n = list(geo_shp[\"SIG_KOR_NM\"])\n",
    "\n",
    "geo_n_l = [[geo_sg_n[i], geo_sig_n[i]] for i in range(len(geo_sg_n))]\n",
    "\n",
    "sig_df = dict(zip(geo_sig_id, geo_n_l))\n",
    "keys = list(sig_df.keys())\n",
    "print(len(keys), type(keys[0]))"
   ]
  },
  {
   "cell_type": "code",
   "execution_count": 6,
   "id": "3459d1e1",
   "metadata": {},
   "outputs": [],
   "source": [
    "def year_df(year, weather, target):\n",
    "    year_df = weather[weather[\"year\"]==year]\n",
    "    year_df = year_df.groupby(\"SIG_CD\").mean()\n",
    "    year_df.drop([\"year\"], axis=1, inplace=True)\n",
    "    sg_l = [sig_df[str(key)][0] for key in year_df.index]\n",
    "    sig_l = [sig_df[str(key)][1] for key in year_df.index]\n",
    "    year_df[\"SG_NM\"] = sg_l\n",
    "    year_df[\"SIG_KOR_NM\"] = sig_l\n",
    "    year_df[\"year\"] = [year] * len(sg_l)\n",
    "    year_df.reset_index(inplace=True)\n",
    "    year_df.head()\n",
    "    year_df.to_csv(f\"./{year}_{target}.csv\")"
   ]
  },
  {
   "cell_type": "code",
   "execution_count": 7,
   "id": "4d88b04c",
   "metadata": {},
   "outputs": [],
   "source": [
    "def make_year_df(path,year_l):\n",
    "    target = path.split(\"/\")[-1].split(\".\")[0]\n",
    "    weather = pd.read_csv(path)\n",
    "    weather.drop([\"SD_ENG_NM\"], axis=1, inplace=True)\n",
    "    weather[\"year\"] = list(int(i) for i in weather[\"year\"])\n",
    "    for year in year_l:\n",
    "        year_df(year, weather, target)"
   ]
  },
  {
   "cell_type": "code",
   "execution_count": 8,
   "id": "a3edf050",
   "metadata": {},
   "outputs": [],
   "source": [
    "year_l = [i for i in range(2014,2019)]"
   ]
  },
  {
   "cell_type": "code",
   "execution_count": 9,
   "id": "38939055",
   "metadata": {},
   "outputs": [],
   "source": [
    "path = \"./pre/precipitation.csv\"\n",
    "make_year_df(path,year_l)"
   ]
  },
  {
   "cell_type": "code",
   "execution_count": 10,
   "id": "7805f20a",
   "metadata": {},
   "outputs": [],
   "source": [
    "path = \"./pre/pressure.csv\"\n",
    "make_year_df(path,year_l)"
   ]
  },
  {
   "cell_type": "code",
   "execution_count": 11,
   "id": "da107756",
   "metadata": {},
   "outputs": [],
   "source": [
    "path = \"./pre/temperature.csv\"\n",
    "make_year_df(path,year_l)"
   ]
  }
 ],
 "metadata": {
  "kernelspec": {
   "display_name": "Python 3",
   "language": "python",
   "name": "python3"
  },
  "language_info": {
   "codemirror_mode": {
    "name": "ipython",
    "version": 3
   },
   "file_extension": ".py",
   "mimetype": "text/x-python",
   "name": "python",
   "nbconvert_exporter": "python",
   "pygments_lexer": "ipython3",
   "version": "3.8.8"
  }
 },
 "nbformat": 4,
 "nbformat_minor": 5
}
