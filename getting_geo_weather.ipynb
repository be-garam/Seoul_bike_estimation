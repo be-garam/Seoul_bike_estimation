{
 "cells": [
  {
   "cell_type": "code",
   "execution_count": 24,
   "id": "d740e274",
   "metadata": {},
   "outputs": [],
   "source": [
    "import geopandas as gpd\n",
    "import matplotlib.pyplot as plt\n",
    "import pandas as pd\n",
    "\n",
    "from shapely.geometry import Point\n",
    "import pyproj\n",
    "from fiona.crs import from_epsg\n",
    "import numpy as np\n",
    "from geopandas import GeoDataFrame\n",
    "import datetime\n",
    "from datetime import timedelta, date"
   ]
  },
  {
   "cell_type": "code",
   "execution_count": 25,
   "id": "6a370d29",
   "metadata": {},
   "outputs": [],
   "source": [
    "plt.rcParams[\"font.family\"] = \"NanumGothic\"\n",
    "plt.rcParams[\"figure.figsize\"] = (10,20)"
   ]
  },
  {
   "cell_type": "code",
   "execution_count": 26,
   "id": "72de9578",
   "metadata": {},
   "outputs": [],
   "source": [
    "clear_day_data = pd.read_csv(\"./variable/pre/clear_day_table.csv\", encoding='utf-8')\n",
    "day_view_time_data = pd.read_csv(\"./variable/pre/day_view_time_table.csv\", encoding='utf-8')\n",
    "lst_data = pd.read_csv(\"./variable/pre/land_surface_temperature_table.csv\", encoding='utf-8')"
   ]
  },
  {
   "cell_type": "code",
   "execution_count": 27,
   "id": "334c425c",
   "metadata": {},
   "outputs": [],
   "source": [
    "data = clear_day_data\n",
    "name = \"clear_day\""
   ]
  },
  {
   "cell_type": "code",
   "execution_count": 28,
   "id": "4a622c7f",
   "metadata": {},
   "outputs": [
    {
     "data": {
      "text/html": [
       "<div>\n",
       "<style scoped>\n",
       "    .dataframe tbody tr th:only-of-type {\n",
       "        vertical-align: middle;\n",
       "    }\n",
       "\n",
       "    .dataframe tbody tr th {\n",
       "        vertical-align: top;\n",
       "    }\n",
       "\n",
       "    .dataframe thead th {\n",
       "        text-align: right;\n",
       "    }\n",
       "</style>\n",
       "<table border=\"1\" class=\"dataframe\">\n",
       "  <thead>\n",
       "    <tr style=\"text-align: right;\">\n",
       "      <th></th>\n",
       "      <th>date</th>\n",
       "      <th>SG_NM</th>\n",
       "      <th>SIG_KOR_NM</th>\n",
       "      <th>SIG_CD</th>\n",
       "      <th>mean</th>\n",
       "    </tr>\n",
       "  </thead>\n",
       "  <tbody>\n",
       "    <tr>\n",
       "      <th>0</th>\n",
       "      <td>2018-01-01T00:00:00</td>\n",
       "      <td>서울특별시</td>\n",
       "      <td>종로구</td>\n",
       "      <td>11110</td>\n",
       "      <td>3449.171147</td>\n",
       "    </tr>\n",
       "    <tr>\n",
       "      <th>1</th>\n",
       "      <td>2018-01-01T00:00:00</td>\n",
       "      <td>서울특별시</td>\n",
       "      <td>중구</td>\n",
       "      <td>11140</td>\n",
       "      <td>3163.524149</td>\n",
       "    </tr>\n",
       "    <tr>\n",
       "      <th>2</th>\n",
       "      <td>2018-01-01T00:00:00</td>\n",
       "      <td>서울특별시</td>\n",
       "      <td>용산구</td>\n",
       "      <td>11170</td>\n",
       "      <td>3338.655168</td>\n",
       "    </tr>\n",
       "    <tr>\n",
       "      <th>3</th>\n",
       "      <td>2018-01-01T00:00:00</td>\n",
       "      <td>서울특별시</td>\n",
       "      <td>성동구</td>\n",
       "      <td>11200</td>\n",
       "      <td>3270.112224</td>\n",
       "    </tr>\n",
       "    <tr>\n",
       "      <th>4</th>\n",
       "      <td>2018-01-01T00:00:00</td>\n",
       "      <td>서울특별시</td>\n",
       "      <td>광진구</td>\n",
       "      <td>11215</td>\n",
       "      <td>3488.000365</td>\n",
       "    </tr>\n",
       "  </tbody>\n",
       "</table>\n",
       "</div>"
      ],
      "text/plain": [
       "                  date  SG_NM SIG_KOR_NM  SIG_CD         mean\n",
       "0  2018-01-01T00:00:00  서울특별시        종로구   11110  3449.171147\n",
       "1  2018-01-01T00:00:00  서울특별시         중구   11140  3163.524149\n",
       "2  2018-01-01T00:00:00  서울특별시        용산구   11170  3338.655168\n",
       "3  2018-01-01T00:00:00  서울특별시        성동구   11200  3270.112224\n",
       "4  2018-01-01T00:00:00  서울특별시        광진구   11215  3488.000365"
      ]
     },
     "execution_count": 28,
     "metadata": {},
     "output_type": "execute_result"
    }
   ],
   "source": [
    "data.head()"
   ]
  },
  {
   "cell_type": "code",
   "execution_count": 29,
   "id": "b11801a3",
   "metadata": {},
   "outputs": [],
   "source": [
    "data_1 = data[data.SIG_KOR_NM==\"광진구\"]\n",
    "data_2 = data[data.SIG_KOR_NM==\"동대문구\"]\n",
    "data_3 = data[data.SIG_KOR_NM==\"성동구\"]\n",
    "data_4 = data[data.SIG_KOR_NM==\"중랑구\"]"
   ]
  },
  {
   "cell_type": "code",
   "execution_count": 30,
   "id": "b8417981",
   "metadata": {},
   "outputs": [],
   "source": [
    "def converting_to_real_dt(l):\n",
    "    new_l = []\n",
    "    format_t = '%Y-%m-%dT%H:%M:%S'\n",
    "    for i in l:\n",
    "        dt = datetime.datetime.strptime(i, format_t).date()\n",
    "        new_l.append(dt)\n",
    "    return new_l"
   ]
  },
  {
   "cell_type": "code",
   "execution_count": 31,
   "id": "a86e5432",
   "metadata": {},
   "outputs": [
    {
     "name": "stderr",
     "output_type": "stream",
     "text": [
      "C:\\Users\\skyri\\anaconda3\\lib\\site-packages\\pandas\\core\\generic.py:5494: SettingWithCopyWarning: \n",
      "A value is trying to be set on a copy of a slice from a DataFrame.\n",
      "Try using .loc[row_indexer,col_indexer] = value instead\n",
      "\n",
      "See the caveats in the documentation: https://pandas.pydata.org/pandas-docs/stable/user_guide/indexing.html#returning-a-view-versus-a-copy\n",
      "  self[name] = value\n"
     ]
    }
   ],
   "source": [
    "data_1.date = converting_to_real_dt(data_1[\"date\"])\n",
    "data_2.date = converting_to_real_dt(data_2[\"date\"])\n",
    "data_3.date = converting_to_real_dt(data_3[\"date\"])\n",
    "data_4.date = converting_to_real_dt(data_4[\"date\"])"
   ]
  },
  {
   "cell_type": "code",
   "execution_count": 32,
   "id": "c12329f3",
   "metadata": {},
   "outputs": [],
   "source": [
    "def cleaning_df(df, name):\n",
    "    f_df = df[[\"date\", \"mean\"]]\n",
    "    f_df.rename(columns = {'mean' : name}, inplace = True)\n",
    "    f_df.reset_index(drop=True, inplace=True)\n",
    "    return f_df"
   ]
  },
  {
   "cell_type": "code",
   "execution_count": 33,
   "id": "2ec3adc1",
   "metadata": {},
   "outputs": [
    {
     "name": "stderr",
     "output_type": "stream",
     "text": [
      "C:\\Users\\skyri\\anaconda3\\lib\\site-packages\\pandas\\core\\frame.py:4441: SettingWithCopyWarning: \n",
      "A value is trying to be set on a copy of a slice from a DataFrame\n",
      "\n",
      "See the caveats in the documentation: https://pandas.pydata.org/pandas-docs/stable/user_guide/indexing.html#returning-a-view-versus-a-copy\n",
      "  return super().rename(\n"
     ]
    }
   ],
   "source": [
    "f_data_1 = cleaning_df(data_1, name)\n",
    "f_data_2 = cleaning_df(data_2, name)\n",
    "f_data_3 = cleaning_df(data_3, name)\n",
    "f_data_4 = cleaning_df(data_4, name)"
   ]
  },
  {
   "cell_type": "code",
   "execution_count": 34,
   "id": "0d773a94",
   "metadata": {},
   "outputs": [
    {
     "data": {
      "text/html": [
       "<div>\n",
       "<style scoped>\n",
       "    .dataframe tbody tr th:only-of-type {\n",
       "        vertical-align: middle;\n",
       "    }\n",
       "\n",
       "    .dataframe tbody tr th {\n",
       "        vertical-align: top;\n",
       "    }\n",
       "\n",
       "    .dataframe thead th {\n",
       "        text-align: right;\n",
       "    }\n",
       "</style>\n",
       "<table border=\"1\" class=\"dataframe\">\n",
       "  <thead>\n",
       "    <tr style=\"text-align: right;\">\n",
       "      <th></th>\n",
       "      <th>date</th>\n",
       "      <th>clear_day</th>\n",
       "    </tr>\n",
       "  </thead>\n",
       "  <tbody>\n",
       "    <tr>\n",
       "      <th>0</th>\n",
       "      <td>2018-01-01</td>\n",
       "      <td>3488.000365</td>\n",
       "    </tr>\n",
       "    <tr>\n",
       "      <th>1</th>\n",
       "      <td>2018-01-02</td>\n",
       "      <td>2032.498815</td>\n",
       "    </tr>\n",
       "    <tr>\n",
       "      <th>2</th>\n",
       "      <td>2018-01-03</td>\n",
       "      <td>3226.988696</td>\n",
       "    </tr>\n",
       "    <tr>\n",
       "      <th>3</th>\n",
       "      <td>2018-01-04</td>\n",
       "      <td>1981.037362</td>\n",
       "    </tr>\n",
       "    <tr>\n",
       "      <th>4</th>\n",
       "      <td>2018-01-05</td>\n",
       "      <td>3105.680583</td>\n",
       "    </tr>\n",
       "  </tbody>\n",
       "</table>\n",
       "</div>"
      ],
      "text/plain": [
       "         date    clear_day\n",
       "0  2018-01-01  3488.000365\n",
       "1  2018-01-02  2032.498815\n",
       "2  2018-01-03  3226.988696\n",
       "3  2018-01-04  1981.037362\n",
       "4  2018-01-05  3105.680583"
      ]
     },
     "execution_count": 34,
     "metadata": {},
     "output_type": "execute_result"
    }
   ],
   "source": [
    "f_data_1.head()"
   ]
  },
  {
   "cell_type": "code",
   "execution_count": 35,
   "id": "134700f5",
   "metadata": {},
   "outputs": [],
   "source": [
    "def preprocessing_weather(data, name):\n",
    "    data_1 = data[data.SIG_KOR_NM==\"광진구\"]\n",
    "    data_2 = data[data.SIG_KOR_NM==\"동대문구\"]\n",
    "    data_3 = data[data.SIG_KOR_NM==\"성동구\"]\n",
    "    data_4 = data[data.SIG_KOR_NM==\"중랑구\"]\n",
    "    data_1.date = converting_to_real_dt(data_1[\"date\"])\n",
    "    data_2.date = converting_to_real_dt(data_2[\"date\"])\n",
    "    data_3.date = converting_to_real_dt(data_3[\"date\"])\n",
    "    data_4.date = converting_to_real_dt(data_4[\"date\"])\n",
    "    f_data_1 = cleaning_df(data_1, name)\n",
    "    f_data_2 = cleaning_df(data_2, name)\n",
    "    f_data_3 = cleaning_df(data_3, name)\n",
    "    f_data_4 = cleaning_df(data_4, name)\n",
    "    return f_data_1, f_data_2, f_data_3, f_data_4"
   ]
  },
  {
   "cell_type": "code",
   "execution_count": 36,
   "id": "22e89a1a",
   "metadata": {},
   "outputs": [
    {
     "name": "stderr",
     "output_type": "stream",
     "text": [
      "C:\\Users\\skyri\\anaconda3\\lib\\site-packages\\pandas\\core\\generic.py:5494: SettingWithCopyWarning: \n",
      "A value is trying to be set on a copy of a slice from a DataFrame.\n",
      "Try using .loc[row_indexer,col_indexer] = value instead\n",
      "\n",
      "See the caveats in the documentation: https://pandas.pydata.org/pandas-docs/stable/user_guide/indexing.html#returning-a-view-versus-a-copy\n",
      "  self[name] = value\n",
      "C:\\Users\\skyri\\anaconda3\\lib\\site-packages\\pandas\\core\\frame.py:4441: SettingWithCopyWarning: \n",
      "A value is trying to be set on a copy of a slice from a DataFrame\n",
      "\n",
      "See the caveats in the documentation: https://pandas.pydata.org/pandas-docs/stable/user_guide/indexing.html#returning-a-view-versus-a-copy\n",
      "  return super().rename(\n"
     ]
    }
   ],
   "source": [
    "clear_day_1, clear_day_2, clear_day_3, clear_day_4 = preprocessing_weather(clear_day_data, \"clear_day\")\n",
    "day_view_time_1, day_view_time_2, day_view_time_3, day_view_time_4 = preprocessing_weather(day_view_time_data, \"day_view_time\")\n",
    "lst_1, lst_2, lst_3, lst_4 = preprocessing_weather(lst_data, \"lst\")"
   ]
  },
  {
   "cell_type": "code",
   "execution_count": 37,
   "id": "8188adc4",
   "metadata": {
    "scrolled": true
   },
   "outputs": [
    {
     "data": {
      "text/plain": [
       "{datetime.date(2018, 2, 12),\n",
       " datetime.date(2018, 3, 5),\n",
       " datetime.date(2018, 3, 9),\n",
       " datetime.date(2018, 4, 13),\n",
       " datetime.date(2018, 6, 15),\n",
       " datetime.date(2018, 6, 27),\n",
       " datetime.date(2018, 8, 12),\n",
       " datetime.date(2018, 8, 30),\n",
       " datetime.date(2018, 11, 17),\n",
       " datetime.date(2018, 12, 2),\n",
       " datetime.date(2018, 12, 6),\n",
       " datetime.date(2018, 12, 17),\n",
       " datetime.date(2018, 12, 26),\n",
       " datetime.date(2019, 1, 4),\n",
       " datetime.date(2019, 2, 18),\n",
       " datetime.date(2019, 5, 8),\n",
       " datetime.date(2019, 7, 12),\n",
       " datetime.date(2019, 10, 16),\n",
       " datetime.date(2019, 10, 18),\n",
       " datetime.date(2019, 10, 26),\n",
       " datetime.date(2019, 12, 4),\n",
       " datetime.date(2019, 12, 20),\n",
       " datetime.date(2019, 12, 27),\n",
       " datetime.date(2020, 4, 25),\n",
       " datetime.date(2020, 5, 1),\n",
       " datetime.date(2020, 5, 21),\n",
       " datetime.date(2020, 6, 17),\n",
       " datetime.date(2020, 8, 25),\n",
       " datetime.date(2020, 9, 30),\n",
       " datetime.date(2020, 10, 13),\n",
       " datetime.date(2020, 12, 6),\n",
       " datetime.date(2020, 12, 15),\n",
       " datetime.date(2020, 12, 22),\n",
       " datetime.date(2020, 12, 31),\n",
       " datetime.date(2021, 1, 8),\n",
       " datetime.date(2021, 4, 2),\n",
       " datetime.date(2021, 6, 22),\n",
       " datetime.date(2021, 6, 24),\n",
       " datetime.date(2021, 9, 10),\n",
       " datetime.date(2021, 9, 22),\n",
       " datetime.date(2021, 11, 10),\n",
       " datetime.date(2021, 11, 19),\n",
       " datetime.date(2021, 11, 25),\n",
       " datetime.date(2021, 12, 16),\n",
       " datetime.date(2022, 1, 15),\n",
       " datetime.date(2022, 3, 27)}"
      ]
     },
     "execution_count": 37,
     "metadata": {},
     "output_type": "execute_result"
    }
   ],
   "source": [
    "set(clear_day_1.date)-set(clear_day_2.date)"
   ]
  },
  {
   "cell_type": "code",
   "execution_count": 38,
   "id": "0af09785",
   "metadata": {},
   "outputs": [],
   "source": [
    "weather_gwang = pd.concat([clear_day_1, day_view_time_1, lst_1], axis=1, join=\"inner\")[[\"clear_day\", \"day_view_time\", \"lst\"]]\n",
    "weather_dong = pd.concat([clear_day_2, day_view_time_2, lst_2], axis=1, join=\"inner\")[[\"clear_day\", \"day_view_time\", \"lst\"]]\n",
    "weather_seong = pd.concat([clear_day_3, day_view_time_3, lst_3], axis=1, join=\"inner\")[[\"clear_day\", \"day_view_time\", \"lst\"]]\n",
    "weather_jung = pd.concat([clear_day_4, day_view_time_4, lst_4], axis=1, join=\"inner\")[[\"clear_day\", \"day_view_time\", \"lst\"]]"
   ]
  },
  {
   "cell_type": "code",
   "execution_count": 39,
   "id": "e0fd43f0",
   "metadata": {},
   "outputs": [
    {
     "name": "stdout",
     "output_type": "stream",
     "text": [
      "944 917 921 946\n"
     ]
    }
   ],
   "source": [
    "print(len(weather_gwang), len(weather_dong), len(weather_jung), len(weather_seong))"
   ]
  },
  {
   "cell_type": "code",
   "execution_count": 40,
   "id": "f8c46601",
   "metadata": {},
   "outputs": [],
   "source": [
    "date_l = []\n",
    "def daterange(date1, date2):\n",
    "    for n in range(int ((date2 - date1).days)+1):\n",
    "        yield date1 + timedelta(n)\n",
    "\n",
    "start_dt = date(2018, 1, 1)\n",
    "end_dt = date(2022, 6, 24)\n",
    "for dt in daterange(start_dt, end_dt):\n",
    "    date_l.append(dt)"
   ]
  },
  {
   "cell_type": "code",
   "execution_count": 41,
   "id": "f9eb00ff",
   "metadata": {},
   "outputs": [
    {
     "data": {
      "text/plain": [
       "1636"
      ]
     },
     "execution_count": 41,
     "metadata": {},
     "output_type": "execute_result"
    }
   ],
   "source": [
    "len(date_l)"
   ]
  },
  {
   "cell_type": "code",
   "execution_count": 42,
   "id": "14f7e453",
   "metadata": {},
   "outputs": [
    {
     "data": {
      "text/html": [
       "<div>\n",
       "<style scoped>\n",
       "    .dataframe tbody tr th:only-of-type {\n",
       "        vertical-align: middle;\n",
       "    }\n",
       "\n",
       "    .dataframe tbody tr th {\n",
       "        vertical-align: top;\n",
       "    }\n",
       "\n",
       "    .dataframe thead th {\n",
       "        text-align: right;\n",
       "    }\n",
       "</style>\n",
       "<table border=\"1\" class=\"dataframe\">\n",
       "  <thead>\n",
       "    <tr style=\"text-align: right;\">\n",
       "      <th></th>\n",
       "      <th>date</th>\n",
       "    </tr>\n",
       "  </thead>\n",
       "  <tbody>\n",
       "    <tr>\n",
       "      <th>0</th>\n",
       "      <td>2018-01-01</td>\n",
       "    </tr>\n",
       "    <tr>\n",
       "      <th>1</th>\n",
       "      <td>2018-01-02</td>\n",
       "    </tr>\n",
       "    <tr>\n",
       "      <th>2</th>\n",
       "      <td>2018-01-03</td>\n",
       "    </tr>\n",
       "    <tr>\n",
       "      <th>3</th>\n",
       "      <td>2018-01-04</td>\n",
       "    </tr>\n",
       "    <tr>\n",
       "      <th>4</th>\n",
       "      <td>2018-01-05</td>\n",
       "    </tr>\n",
       "    <tr>\n",
       "      <th>...</th>\n",
       "      <td>...</td>\n",
       "    </tr>\n",
       "    <tr>\n",
       "      <th>1631</th>\n",
       "      <td>2022-06-20</td>\n",
       "    </tr>\n",
       "    <tr>\n",
       "      <th>1632</th>\n",
       "      <td>2022-06-21</td>\n",
       "    </tr>\n",
       "    <tr>\n",
       "      <th>1633</th>\n",
       "      <td>2022-06-22</td>\n",
       "    </tr>\n",
       "    <tr>\n",
       "      <th>1634</th>\n",
       "      <td>2022-06-23</td>\n",
       "    </tr>\n",
       "    <tr>\n",
       "      <th>1635</th>\n",
       "      <td>2022-06-24</td>\n",
       "    </tr>\n",
       "  </tbody>\n",
       "</table>\n",
       "<p>1636 rows × 1 columns</p>\n",
       "</div>"
      ],
      "text/plain": [
       "            date\n",
       "0     2018-01-01\n",
       "1     2018-01-02\n",
       "2     2018-01-03\n",
       "3     2018-01-04\n",
       "4     2018-01-05\n",
       "...          ...\n",
       "1631  2022-06-20\n",
       "1632  2022-06-21\n",
       "1633  2022-06-22\n",
       "1634  2022-06-23\n",
       "1635  2022-06-24\n",
       "\n",
       "[1636 rows x 1 columns]"
      ]
     },
     "execution_count": 42,
     "metadata": {},
     "output_type": "execute_result"
    }
   ],
   "source": [
    "date_standard = pd.DataFrame({\"date\":date_l})\n",
    "date_standard"
   ]
  },
  {
   "cell_type": "code",
   "execution_count": 43,
   "id": "dceafe59",
   "metadata": {},
   "outputs": [],
   "source": [
    "date_1 = date_standard.copy()\n",
    "data_1 = pd.merge(date_1, clear_day_1, how=\"left\", on=\"date\")\n",
    "data_1['clear_day'].interpolate(method='polynomial', order=2,inplace=True)\n",
    "data_2 = pd.merge(data_1, day_view_time_1, how=\"left\", on=\"date\")\n",
    "data_2['day_view_time'].interpolate(method='polynomial', order=2,inplace=True)\n",
    "data_3 = pd.merge(data_2, lst_1, how=\"left\", on=\"date\")\n",
    "data_3['lst'].interpolate(method='polynomial', order=2,inplace=True)\n",
    "data_3.to_csv(\"./variable/weather_Gwang.csv\", encoding=\"utf-8\")"
   ]
  },
  {
   "cell_type": "code",
   "execution_count": 44,
   "id": "bf93a300",
   "metadata": {},
   "outputs": [],
   "source": [
    "date_2 = date_standard.copy()\n",
    "data_1 = pd.merge(date_2, clear_day_2, how=\"left\", on=\"date\")\n",
    "data_1['clear_day'].interpolate(method='polynomial', order=2,inplace=True)\n",
    "data_2 = pd.merge(data_1, day_view_time_2, how=\"left\", on=\"date\")\n",
    "data_2['day_view_time'].interpolate(method='polynomial', order=2,inplace=True)\n",
    "data_3 = pd.merge(data_2, lst_2, how=\"left\", on=\"date\")\n",
    "data_3['lst'].interpolate(method='polynomial', order=2,inplace=True)\n",
    "data_3.to_csv(\"./variable/weather_Dong.csv\", encoding=\"utf-8\")"
   ]
  },
  {
   "cell_type": "code",
   "execution_count": 45,
   "id": "80d8af50",
   "metadata": {},
   "outputs": [],
   "source": [
    "date_3 = date_standard.copy()\n",
    "data_1 = pd.merge(date_3, clear_day_3, how=\"left\", on=\"date\")\n",
    "data_1['clear_day'].interpolate(method='polynomial', order=2,inplace=True)\n",
    "data_2 = pd.merge(data_1, day_view_time_3, how=\"left\", on=\"date\")\n",
    "data_2['day_view_time'].interpolate(method='polynomial', order=2,inplace=True)\n",
    "data_3 = pd.merge(data_2, lst_3, how=\"left\", on=\"date\")\n",
    "data_3['lst'].interpolate(method='polynomial', order=2,inplace=True)\n",
    "data_3.to_csv(\"./variable/weather_Seong.csv\", encoding=\"utf-8\")"
   ]
  },
  {
   "cell_type": "code",
   "execution_count": 46,
   "id": "c6424444",
   "metadata": {},
   "outputs": [],
   "source": [
    "date_4 = date_standard.copy()\n",
    "data_1 = pd.merge(date_4, clear_day_4, how=\"left\", on=\"date\")\n",
    "data_1['clear_day'].interpolate(method='polynomial', order=2,inplace=True)\n",
    "data_2 = pd.merge(data_1, day_view_time_4, how=\"left\", on=\"date\")\n",
    "data_2['day_view_time'].interpolate(method='polynomial', order=2,inplace=True)\n",
    "data_3 = pd.merge(data_2, lst_4, how=\"left\", on=\"date\")\n",
    "data_3['lst'].interpolate(method='polynomial', order=2,inplace=True)\n",
    "data_3.to_csv(\"./variable/weather_Jung.csv\", encoding=\"utf-8\")"
   ]
  }
 ],
 "metadata": {
  "kernelspec": {
   "display_name": "Python 3",
   "language": "python",
   "name": "python3"
  },
  "language_info": {
   "codemirror_mode": {
    "name": "ipython",
    "version": 3
   },
   "file_extension": ".py",
   "mimetype": "text/x-python",
   "name": "python",
   "nbconvert_exporter": "python",
   "pygments_lexer": "ipython3",
   "version": "3.8.8"
  }
 },
 "nbformat": 4,
 "nbformat_minor": 5
}
