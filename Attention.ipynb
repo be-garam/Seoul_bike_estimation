{
 "cells": [
  {
   "cell_type": "code",
   "execution_count": null,
   "id": "b75dff89",
   "metadata": {
    "scrolled": true
   },
   "outputs": [],
   "source": [
    "!pip install --pre torch torchvision torchaudio --extra-index-url https://download.pytorch.org/whl/nightly/cpu"
   ]
  },
  {
   "cell_type": "code",
   "execution_count": null,
   "id": "d5e7676b",
   "metadata": {},
   "outputs": [],
   "source": [
    "import numpy as np \n",
    "import pandas as pd \n",
    "import matplotlib.pyplot as plt\n",
    "import datetime\n",
    "from sklearn.model_selection import train_test_split"
   ]
  },
  {
   "cell_type": "code",
   "execution_count": null,
   "id": "0fd0dc86",
   "metadata": {},
   "outputs": [],
   "source": [
    "from torch.nn import Transformer\n",
    "from torch import nn\n",
    "import torch\n",
    "import math"
   ]
  },
  {
   "cell_type": "code",
   "execution_count": null,
   "id": "24336d50",
   "metadata": {},
   "outputs": [],
   "source": [
    "print(torch.backends.mps.is_built())"
   ]
  },
  {
   "cell_type": "code",
   "execution_count": null,
   "id": "df439efa",
   "metadata": {},
   "outputs": [],
   "source": [
    "print(torch.backends.mps.is_available())"
   ]
  },
  {
   "cell_type": "code",
   "execution_count": null,
   "id": "e6289f37",
   "metadata": {},
   "outputs": [],
   "source": [
    "data = pd.read_csv(\"./target/train.csv\")\n",
    "data.head()"
   ]
  },
  {
   "cell_type": "code",
   "execution_count": null,
   "id": "2701aa1d",
   "metadata": {},
   "outputs": [],
   "source": [
    "plt.figure(figsize=(20,5))\n",
    "plt.plot(range(len(data)), data[\"광진구\"])\n",
    "data.head()"
   ]
  },
  {
   "cell_type": "code",
   "execution_count": null,
   "id": "251581e4",
   "metadata": {},
   "outputs": [],
   "source": [
    "len(data)"
   ]
  },
  {
   "cell_type": "code",
   "execution_count": null,
   "id": "791d69fd",
   "metadata": {},
   "outputs": [],
   "source": [
    "def converting_to_real_dt(col):\n",
    "    new_col = []\n",
    "    format_t = '%Y%m%d'\n",
    "    for i in col:\n",
    "        dt = datetime.datetime.strptime(str(i), format_t).date()\n",
    "        new_col.append(dt)\n",
    "    return new_col\n",
    "\n",
    "data[\"date\"] = converting_to_real_dt(data[\"일시\"])\n",
    "data.drop([\"일시\"], axis=1, inplace=True)"
   ]
  },
  {
   "cell_type": "markdown",
   "id": "3b5f0c76",
   "metadata": {},
   "source": [
    "- 천명 단위"
   ]
  },
  {
   "cell_type": "code",
   "execution_count": null,
   "id": "605dba2e",
   "metadata": {},
   "outputs": [],
   "source": [
    "data.head()"
   ]
  },
  {
   "cell_type": "code",
   "execution_count": null,
   "id": "41fec494",
   "metadata": {},
   "outputs": [],
   "source": [
    "data_1 = data[[\"date\", \"광진구\"]]\n",
    "data_2 = data[[\"date\", \"동대문구\"]]\n",
    "data_3 = data[[\"date\", \"성동구\"]]\n",
    "data_4 = data[[\"date\", \"중랑구\"]]"
   ]
  },
  {
   "cell_type": "code",
   "execution_count": null,
   "id": "48f25a03",
   "metadata": {},
   "outputs": [],
   "source": [
    "len(data)*0.6 + len(data)*0.2"
   ]
  },
  {
   "cell_type": "code",
   "execution_count": null,
   "id": "c79e643a",
   "metadata": {},
   "outputs": [],
   "source": [
    "def spliting(data):\n",
    "    data_train = data[:877]\n",
    "    data_train.reset_index(drop=True, inplace=True)\n",
    "    data_val = data[877:1169]\n",
    "    data_val.reset_index(drop=True, inplace=True)\n",
    "    data_test = data[1169:]\n",
    "    data_test.reset_index(drop=True, inplace=True)\n",
    "    return data_train, data_val, data_test"
   ]
  },
  {
   "cell_type": "code",
   "execution_count": null,
   "id": "6a7e63da",
   "metadata": {},
   "outputs": [],
   "source": [
    "data_1_train_df, data_1_val_df, data_1_test_df = spliting(data_1)\n",
    "data_2_train_df, data_2_val_df, data_2_test_df = spliting(data_2)\n",
    "data_3_train_df, data_3_val_df, data_3_test_df = spliting(data_3)\n",
    "data_4_train_df, data_4_val_df, data_4_test_df = spliting(data_4)"
   ]
  },
  {
   "cell_type": "code",
   "execution_count": null,
   "id": "e5a2aec7",
   "metadata": {},
   "outputs": [],
   "source": [
    "print(len(data_1_train_df), len(data_1_val_df), len(data_1_test_df))"
   ]
  },
  {
   "cell_type": "code",
   "execution_count": null,
   "id": "9175d4aa",
   "metadata": {},
   "outputs": [],
   "source": [
    "data_1_val_df.head()"
   ]
  },
  {
   "cell_type": "code",
   "execution_count": null,
   "id": "89eb27f9",
   "metadata": {},
   "outputs": [],
   "source": [
    "data_1_train = data_1_train_df[\"광진구\"].to_numpy()\n",
    "data_1_val = data_1_val_df[\"광진구\"].to_numpy()\n",
    "data_1_test = data_1_test_df[\"광진구\"].to_numpy()"
   ]
  },
  {
   "cell_type": "code",
   "execution_count": null,
   "id": "82ce857d",
   "metadata": {},
   "outputs": [],
   "source": [
    "data_2_train = data_2_train_df[\"동대문구\"].to_numpy()\n",
    "data_2_val = data_2_val_df[\"동대문구\"].to_numpy()\n",
    "data_2_test = data_2_test_df[\"동대문구\"].to_numpy()"
   ]
  },
  {
   "cell_type": "code",
   "execution_count": null,
   "id": "f8c1757d",
   "metadata": {},
   "outputs": [],
   "source": [
    "data_3_train = data_3_train_df[\"성동구\"].to_numpy()\n",
    "data_3_val = data_3_val_df[\"성동구\"].to_numpy()\n",
    "data_3_test = data_3_test_df[\"성동구\"].to_numpy()"
   ]
  },
  {
   "cell_type": "code",
   "execution_count": null,
   "id": "18b7b616",
   "metadata": {},
   "outputs": [],
   "source": [
    "data_4_train = data_4_train_df[\"중랑구\"].to_numpy()\n",
    "data_4_val = data_4_val_df[\"중랑구\"].to_numpy()\n",
    "data_4_test = data_4_test_df[\"중랑구\"].to_numpy()"
   ]
  },
  {
   "cell_type": "code",
   "execution_count": null,
   "id": "3302c410",
   "metadata": {},
   "outputs": [],
   "source": [
    "from torch.utils.data import DataLoader, Dataset\n",
    "\n",
    "class windowDataset(Dataset):\n",
    "    def __init__(self, y, input_window=80, output_window=20, stride=5):\n",
    "        #총 데이터의 개수\n",
    "        L = y.shape[0]\n",
    "        #stride씩 움직일 때 생기는 총 sample의 개수\n",
    "        num_samples = (L - input_window - output_window) // stride + 1\n",
    "\n",
    "        #input과 output\n",
    "        X = np.zeros([input_window, num_samples])\n",
    "        Y = np.zeros([output_window, num_samples])\n",
    "\n",
    "        for i in np.arange(num_samples):\n",
    "            start_x = stride*i\n",
    "            end_x = start_x + input_window\n",
    "            X[:,i] = y[start_x:end_x]\n",
    "\n",
    "            start_y = stride*i + input_window\n",
    "            end_y = start_y + output_window\n",
    "            Y[:,i] = y[start_y:end_y]\n",
    "\n",
    "        X = X.reshape(X.shape[0], X.shape[1], 1).transpose((1,0,2))\n",
    "        Y = Y.reshape(Y.shape[0], Y.shape[1], 1).transpose((1,0,2))\n",
    "        self.x = X\n",
    "        self.y = Y\n",
    "        \n",
    "        self.len = len(X)\n",
    "    def __getitem__(self, i):\n",
    "        return self.x[i], self.y[i, :-1], self.y[i,1:]\n",
    "    def __len__(self):\n",
    "        return self.len"
   ]
  },
  {
   "cell_type": "code",
   "execution_count": null,
   "id": "31898e14",
   "metadata": {},
   "outputs": [],
   "source": [
    "iw = 24*14\n",
    "ow = 24*7\n",
    "\n",
    "train_dataset = windowDataset(data_1_train, input_window=iw, output_window=ow, stride=1)\n",
    "train_loader = DataLoader(train_dataset, batch_size=64)"
   ]
  },
  {
   "cell_type": "code",
   "execution_count": null,
   "id": "ce1581a3",
   "metadata": {},
   "outputs": [],
   "source": [
    "class TFModel(nn.Module):\n",
    "    def __init__(self,d_model, nhead, nhid, nlayers, dropout=0.5):\n",
    "        super(TFModel, self).__init__()\n",
    "        self.transformer = Transformer(d_model=d_model, nhead=nhead, dim_feedforward=nhid, num_encoder_layers=nlayers, num_decoder_layers=nlayers,dropout=dropout)\n",
    "        self.pos_encoder = PositionalEncoding(d_model, dropout)\n",
    "        self.pos_encoder_d = PositionalEncoding(d_model, dropout)\n",
    "        self.linear = nn.Linear(d_model, 1)\n",
    "        self.encoder = nn.Linear(1, d_model)\n",
    "        self.encoder_d = nn.Linear(1, d_model)\n",
    "\n",
    "    def generate_square_subsequent_mask(self, sz):\n",
    "        mask = (torch.triu(torch.ones(sz, sz)) == 1).transpose(0, 1)\n",
    "        mask = mask.float().masked_fill(mask == 0, float('-inf')).masked_fill(mask == 1, float(0.0))\n",
    "        return mask\n",
    "\n",
    "    def forward(self, src, tgt, srcmask, tgtmask):\n",
    "        src = self.encoder(src)\n",
    "        src = self.pos_encoder(src)\n",
    "\n",
    "        tgt = self.encoder_d(tgt)\n",
    "        tgt = self.pos_encoder_d(tgt)\n",
    "        output = self.transformer(src.transpose(0,1), tgt.transpose(0,1), srcmask, tgtmask)\n",
    "        output = self.linear(output)\n",
    "        return output\n",
    "\n",
    "class PositionalEncoding(nn.Module):\n",
    "    def __init__(self, d_model, dropout=0.1, max_len=5000):\n",
    "        super(PositionalEncoding, self).__init__()\n",
    "        self.dropout = nn.Dropout(p=dropout)\n",
    "\n",
    "        pe = torch.zeros(max_len, d_model)\n",
    "        position = torch.arange(0, max_len, dtype=torch.float).unsqueeze(1)\n",
    "        div_term = torch.exp(torch.arange(0, d_model, 2).float() * (-math.log(10000.0) / d_model))\n",
    "        pe[:, 0::2] = torch.sin(position * div_term)\n",
    "        pe[:, 1::2] = torch.cos(position * div_term)\n",
    "        pe = pe.unsqueeze(0).transpose(0, 1)\n",
    "        self.register_buffer('pe', pe)\n",
    "\n",
    "    def forward(self, x):\n",
    "        x = x + self.pe[:x.size(0), :]\n",
    "        return self.dropout(x)\n",
    "\n",
    "def gen_attention_mask(x):\n",
    "    mask = torch.eq(x, 0)\n",
    "    return mask"
   ]
  },
  {
   "cell_type": "code",
   "execution_count": null,
   "id": "ca443ae7",
   "metadata": {},
   "outputs": [],
   "source": [
    "device = torch.device(\"cpu\")"
   ]
  },
  {
   "cell_type": "code",
   "execution_count": null,
   "id": "1e538a4c",
   "metadata": {},
   "outputs": [],
   "source": []
  }
 ],
 "metadata": {
  "kernelspec": {
   "display_name": "Python 3 (ipykernel)",
   "language": "python",
   "name": "python3"
  },
  "language_info": {
   "codemirror_mode": {
    "name": "ipython",
    "version": 3
   },
   "file_extension": ".py",
   "mimetype": "text/x-python",
   "name": "python",
   "nbconvert_exporter": "python",
   "pygments_lexer": "ipython3",
   "version": "3.9.12"
  }
 },
 "nbformat": 4,
 "nbformat_minor": 5
}
