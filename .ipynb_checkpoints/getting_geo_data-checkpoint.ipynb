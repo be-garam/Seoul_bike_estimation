{
 "cells": [
  {
   "cell_type": "markdown",
   "metadata": {
    "nteract": {
     "transient": {
      "deleting": false
     }
    }
   },
   "source": [
    "# Geo Data\n",
    "- 국내 행정구역에 해당하는 데이터로 분류작업을 진행하고, 각각에 해당하는 위,경도 상의 boudary를 수집하여 최종적이 결과를 도출하는 용도의 파일입니다."
   ]
  },
  {
   "cell_type": "markdown",
   "metadata": {
    "nteract": {
     "transient": {
      "deleting": false
     }
    }
   },
   "source": [
    "### requested modules"
   ]
  },
  {
   "cell_type": "code",
   "execution_count": 1,
   "metadata": {
    "jupyter": {
     "outputs_hidden": false,
     "source_hidden": false
    },
    "nteract": {
     "transient": {
      "deleting": false
     }
    },
    "scrolled": true
   },
   "outputs": [
    {
     "name": "stdout",
     "output_type": "stream",
     "text": [
      "/bin/zsh: /home/skyriver/anaconda3/envs/seoul_bike/lib/libtinfo.so.6: no version information available (required by /bin/zsh)\n",
      "Collecting geopandas\n",
      "  Downloading geopandas-0.12.2-py3-none-any.whl (1.1 MB)\n",
      "\u001b[2K     \u001b[38;2;114;156;31m━━━━━━━━━━━━━━━━━━━━━━━━━━━━━━━━━━━━━━━━\u001b[0m \u001b[32m1.1/1.1 MB\u001b[0m \u001b[31m15.2 MB/s\u001b[0m eta \u001b[36m0:00:00\u001b[0m31m8.3 MB/s\u001b[0m eta \u001b[36m0:00:01\u001b[0m\n",
      "\u001b[?25hRequirement already satisfied: pandas>=1.0.0 in /home/skyriver/anaconda3/envs/seoul_bike/lib/python3.9/site-packages (from geopandas) (1.5.2)\n",
      "Collecting shapely>=1.7\n",
      "  Downloading shapely-2.0.0-cp39-cp39-manylinux_2_17_x86_64.manylinux2014_x86_64.whl (2.3 MB)\n",
      "\u001b[2K     \u001b[38;2;114;156;31m━━━━━━━━━━━━━━━━━━━━━━━━━━━━━━━━━━━━━━━━\u001b[0m \u001b[32m2.3/2.3 MB\u001b[0m \u001b[31m35.0 MB/s\u001b[0m eta \u001b[36m0:00:00\u001b[0m MB/s\u001b[0m eta \u001b[36m0:00:01\u001b[0m\n",
      "\u001b[?25hCollecting pyproj>=2.6.1.post1\n",
      "  Downloading pyproj-3.4.0-cp39-cp39-manylinux_2_17_x86_64.manylinux2014_x86_64.whl (7.7 MB)\n",
      "\u001b[2K     \u001b[38;2;114;156;31m━━━━━━━━━━━━━━━━━━━━━━━━━━━━━━━━━━━━━━━━\u001b[0m \u001b[32m7.7/7.7 MB\u001b[0m \u001b[31m62.9 MB/s\u001b[0m eta \u001b[36m0:00:00\u001b[0mm eta \u001b[36m0:00:01\u001b[0m[36m0:00:01\u001b[0m\n",
      "\u001b[?25hRequirement already satisfied: packaging in /home/skyriver/anaconda3/envs/seoul_bike/lib/python3.9/site-packages (from geopandas) (22.0)\n",
      "Collecting fiona>=1.8\n",
      "  Downloading Fiona-1.8.22-cp39-cp39-manylinux_2_17_x86_64.manylinux2014_x86_64.whl (16.6 MB)\n",
      "\u001b[2K     \u001b[38;2;114;156;31m━━━━━━━━━━━━━━━━━━━━━━━━━━━━━━━━━━━━━━━━\u001b[0m \u001b[32m16.6/16.6 MB\u001b[0m \u001b[31m28.7 MB/s\u001b[0m eta \u001b[36m0:00:00\u001b[0mm eta \u001b[36m0:00:01\u001b[0m0:01\u001b[0m:01\u001b[0m\n",
      "\u001b[?25hRequirement already satisfied: setuptools in /home/skyriver/anaconda3/envs/seoul_bike/lib/python3.9/site-packages (from fiona>=1.8->geopandas) (65.5.0)\n",
      "Collecting click-plugins>=1.0\n",
      "  Downloading click_plugins-1.1.1-py2.py3-none-any.whl (7.5 kB)\n",
      "Collecting cligj>=0.5\n",
      "  Downloading cligj-0.7.2-py3-none-any.whl (7.1 kB)\n",
      "Requirement already satisfied: six>=1.7 in /home/skyriver/anaconda3/envs/seoul_bike/lib/python3.9/site-packages (from fiona>=1.8->geopandas) (1.16.0)\n",
      "Requirement already satisfied: certifi in /home/skyriver/anaconda3/envs/seoul_bike/lib/python3.9/site-packages (from fiona>=1.8->geopandas) (2022.9.24)\n",
      "Requirement already satisfied: attrs>=17 in /home/skyriver/anaconda3/envs/seoul_bike/lib/python3.9/site-packages (from fiona>=1.8->geopandas) (22.1.0)\n",
      "Collecting click>=4.0\n",
      "  Downloading click-8.1.3-py3-none-any.whl (96 kB)\n",
      "\u001b[2K     \u001b[38;2;114;156;31m━━━━━━━━━━━━━━━━━━━━━━━━━━━━━━━━━━━━━━━━\u001b[0m \u001b[32m96.6/96.6 kB\u001b[0m \u001b[31m21.0 MB/s\u001b[0m eta \u001b[36m0:00:00\u001b[0m\n",
      "\u001b[?25hCollecting munch\n",
      "  Downloading munch-2.5.0-py2.py3-none-any.whl (10 kB)\n",
      "Requirement already satisfied: python-dateutil>=2.8.1 in /home/skyriver/anaconda3/envs/seoul_bike/lib/python3.9/site-packages (from pandas>=1.0.0->geopandas) (2.8.2)\n",
      "Requirement already satisfied: numpy>=1.20.3 in /home/skyriver/anaconda3/envs/seoul_bike/lib/python3.9/site-packages (from pandas>=1.0.0->geopandas) (1.23.5)\n",
      "Requirement already satisfied: pytz>=2020.1 in /home/skyriver/anaconda3/envs/seoul_bike/lib/python3.9/site-packages (from pandas>=1.0.0->geopandas) (2022.6)\n",
      "Installing collected packages: shapely, pyproj, munch, click, cligj, click-plugins, fiona, geopandas\n",
      "Successfully installed click-8.1.3 click-plugins-1.1.1 cligj-0.7.2 fiona-1.8.22 geopandas-0.12.2 munch-2.5.0 pyproj-3.4.0 shapely-2.0.0\n",
      "/bin/zsh: /home/skyriver/anaconda3/envs/seoul_bike/lib/libtinfo.so.6: no version information available (required by /bin/zsh)\n",
      "Requirement already satisfied: fiona in /home/skyriver/anaconda3/envs/seoul_bike/lib/python3.9/site-packages (1.8.22)\n",
      "Requirement already satisfied: certifi in /home/skyriver/anaconda3/envs/seoul_bike/lib/python3.9/site-packages (from fiona) (2022.9.24)\n",
      "Requirement already satisfied: cligj>=0.5 in /home/skyriver/anaconda3/envs/seoul_bike/lib/python3.9/site-packages (from fiona) (0.7.2)\n",
      "Requirement already satisfied: click-plugins>=1.0 in /home/skyriver/anaconda3/envs/seoul_bike/lib/python3.9/site-packages (from fiona) (1.1.1)\n",
      "Requirement already satisfied: munch in /home/skyriver/anaconda3/envs/seoul_bike/lib/python3.9/site-packages (from fiona) (2.5.0)\n",
      "Requirement already satisfied: six>=1.7 in /home/skyriver/anaconda3/envs/seoul_bike/lib/python3.9/site-packages (from fiona) (1.16.0)\n",
      "Requirement already satisfied: attrs>=17 in /home/skyriver/anaconda3/envs/seoul_bike/lib/python3.9/site-packages (from fiona) (22.1.0)\n",
      "Requirement already satisfied: setuptools in /home/skyriver/anaconda3/envs/seoul_bike/lib/python3.9/site-packages (from fiona) (65.5.0)\n",
      "Requirement already satisfied: click>=4.0 in /home/skyriver/anaconda3/envs/seoul_bike/lib/python3.9/site-packages (from fiona) (8.1.3)\n",
      "/bin/zsh: /home/skyriver/anaconda3/envs/seoul_bike/lib/libtinfo.so.6: no version information available (required by /bin/zsh)\n",
      "Requirement already satisfied: pyproj in /home/skyriver/anaconda3/envs/seoul_bike/lib/python3.9/site-packages (3.4.0)\n",
      "Requirement already satisfied: certifi in /home/skyriver/anaconda3/envs/seoul_bike/lib/python3.9/site-packages (from pyproj) (2022.9.24)\n"
     ]
    }
   ],
   "source": [
    "!pip install geopandas\n",
    "!pip install fiona\n",
    "!pip install pyproj"
   ]
  },
  {
   "cell_type": "markdown",
   "metadata": {
    "nteract": {
     "transient": {
      "deleting": false
     }
    }
   },
   "source": [
    "### import modules\n",
    "- import modules"
   ]
  },
  {
   "cell_type": "code",
   "execution_count": 2,
   "metadata": {
    "gather": {
     "logged": 1667125026567
    },
    "jupyter": {
     "outputs_hidden": false,
     "source_hidden": false
    },
    "nteract": {
     "transient": {
      "deleting": false
     }
    }
   },
   "outputs": [],
   "source": [
    "import geopandas as gpd\n",
    "import matplotlib.pyplot as plt\n",
    "import pandas as pd\n",
    "from shapely.geometry import Point\n",
    "import pyproj\n",
    "from fiona.crs import from_epsg\n",
    "import numpy as np\n",
    "from geopandas import GeoDataFrame"
   ]
  },
  {
   "cell_type": "code",
   "execution_count": 3,
   "metadata": {},
   "outputs": [],
   "source": [
    "plt.rcParams[\"font.family\"] = \"NanumGothic\"\n",
    "plt.rcParams[\"figure.figsize\"] = (10,20)"
   ]
  },
  {
   "cell_type": "markdown",
   "metadata": {
    "nteract": {
     "transient": {
      "deleting": false
     }
    }
   },
   "source": [
    "### processing with geo(shp) file\n",
    "- 불러옵니다.\n",
    "    - 출처 [링크](http://www.gisdeveloper.co.kr/?p=2332) / GIS 연구소\n",
    "\n",
    "> **sig**: 시군구에 해당하는 shp 파일(2022년 3월 기준)  \n",
    "> **sd**: 시도에 해당하는 shp 파일(2022년 3월 기준)\n",
    "\n",
    "\n",
    "--------\n",
    "\n",
    "#### 시군구\n",
    "- 단, 각 시군구는 섬, 등으로 인해 떨어져있는 부분까지 함께 행정구역으로 구별되어 이를 하나의 polygon으로 합칠 수 없어 모두 분해를 진행하여, 필요에 따라 합치는 방식을 진행"
   ]
  },
  {
   "cell_type": "code",
   "execution_count": 4,
   "metadata": {
    "gather": {
     "logged": 1667125322572
    },
    "jupyter": {
     "outputs_hidden": false,
     "source_hidden": false
    },
    "nteract": {
     "transient": {
      "deleting": false
     }
    }
   },
   "outputs": [
    {
     "data": {
      "text/html": [
       "<div>\n",
       "<style scoped>\n",
       "    .dataframe tbody tr th:only-of-type {\n",
       "        vertical-align: middle;\n",
       "    }\n",
       "\n",
       "    .dataframe tbody tr th {\n",
       "        vertical-align: top;\n",
       "    }\n",
       "\n",
       "    .dataframe thead th {\n",
       "        text-align: right;\n",
       "    }\n",
       "</style>\n",
       "<table border=\"1\" class=\"dataframe\">\n",
       "  <thead>\n",
       "    <tr style=\"text-align: right;\">\n",
       "      <th></th>\n",
       "      <th>SIG_CD</th>\n",
       "      <th>SIG_ENG_NM</th>\n",
       "      <th>SIG_KOR_NM</th>\n",
       "      <th>geometry</th>\n",
       "    </tr>\n",
       "  </thead>\n",
       "  <tbody>\n",
       "    <tr>\n",
       "      <th>0</th>\n",
       "      <td>11110</td>\n",
       "      <td>Jongno-gu</td>\n",
       "      <td>종로구</td>\n",
       "      <td>POLYGON ((127.00864 37.58047, 127.00871 37.580...</td>\n",
       "    </tr>\n",
       "    <tr>\n",
       "      <th>1</th>\n",
       "      <td>11140</td>\n",
       "      <td>Jung-gu</td>\n",
       "      <td>중구</td>\n",
       "      <td>POLYGON ((127.02314 37.57196, 127.02336 37.571...</td>\n",
       "    </tr>\n",
       "    <tr>\n",
       "      <th>2</th>\n",
       "      <td>11170</td>\n",
       "      <td>Yongsan-gu</td>\n",
       "      <td>용산구</td>\n",
       "      <td>POLYGON ((126.96918 37.55566, 126.96917 37.554...</td>\n",
       "    </tr>\n",
       "    <tr>\n",
       "      <th>3</th>\n",
       "      <td>11200</td>\n",
       "      <td>Seongdong-gu</td>\n",
       "      <td>성동구</td>\n",
       "      <td>POLYGON ((127.04341 37.57234, 127.04524 37.571...</td>\n",
       "    </tr>\n",
       "    <tr>\n",
       "      <th>4</th>\n",
       "      <td>11215</td>\n",
       "      <td>Gwangjin-gu</td>\n",
       "      <td>광진구</td>\n",
       "      <td>POLYGON ((127.10166 37.57240, 127.10224 37.572...</td>\n",
       "    </tr>\n",
       "  </tbody>\n",
       "</table>\n",
       "</div>"
      ],
      "text/plain": [
       "  SIG_CD    SIG_ENG_NM SIG_KOR_NM  \\\n",
       "0  11110     Jongno-gu        종로구   \n",
       "1  11140       Jung-gu         중구   \n",
       "2  11170    Yongsan-gu        용산구   \n",
       "3  11200  Seongdong-gu        성동구   \n",
       "4  11215   Gwangjin-gu        광진구   \n",
       "\n",
       "                                            geometry  \n",
       "0  POLYGON ((127.00864 37.58047, 127.00871 37.580...  \n",
       "1  POLYGON ((127.02314 37.57196, 127.02336 37.571...  \n",
       "2  POLYGON ((126.96918 37.55566, 126.96917 37.554...  \n",
       "3  POLYGON ((127.04341 37.57234, 127.04524 37.571...  \n",
       "4  POLYGON ((127.10166 37.57240, 127.10224 37.572...  "
      ]
     },
     "execution_count": 4,
     "metadata": {},
     "output_type": "execute_result"
    }
   ],
   "source": [
    "pre_geo_sig_shp = gpd.read_file(\"./standard/pre/sig.shp\", encoding=\"euc-kr\")\n",
    "geo_sig_shp = pre_geo_sig_shp.to_crs(epsg=4326).explode(ignore_index=True)\n",
    "geo_sig_shp.head()"
   ]
  },
  {
   "cell_type": "markdown",
   "metadata": {
    "nteract": {
     "transient": {
      "deleting": false
     }
    }
   },
   "source": [
    "- 시군구에 대해 잘 불러와졌는지에 대한 확인 진행"
   ]
  },
  {
   "cell_type": "code",
   "execution_count": 5,
   "metadata": {
    "gather": {
     "logged": 1667125368627
    },
    "jupyter": {
     "outputs_hidden": false,
     "source_hidden": false
    },
    "nteract": {
     "transient": {
      "deleting": false
     }
    }
   },
   "outputs": [
    {
     "name": "stderr",
     "output_type": "stream",
     "text": [
      "findfont: Font family ['NanumGothic'] not found. Falling back to DejaVu Sans.\n"
     ]
    },
    {
     "data": {
      "image/png": "[encoded data removed]",
      "text/plain": [
       "<Figure size 720x1440 with 1 Axes>"
      ]
     },
     "metadata": {
      "needs_background": "light"
     },
     "output_type": "display_data"
    }
   ],
   "source": [
    "geo_sig_shp.plot()\n",
    "plt.show()"
   ]
  },
  {
   "cell_type": "markdown",
   "metadata": {
    "nteract": {
     "transient": {
      "deleting": false
     }
    }
   },
   "source": [
    "- 단, 이때 본 프로젝트에서 진행하는 지역구분의 가장 최소 단위는 \"시군구\"이지만, 아래와 같이 같은 이름의 시군구명(ex, 중구)가 존재하기 때문에 시도 데이터도 함께 가져와서 고유한 값을 가지게 진행"
   ]
  },
  {
   "cell_type": "code",
   "execution_count": 6,
   "metadata": {
    "gather": {
     "logged": 1667125576768
    },
    "jupyter": {
     "outputs_hidden": false,
     "source_hidden": false
    },
    "nteract": {
     "transient": {
      "deleting": false
     }
    }
   },
   "outputs": [
    {
     "name": "stdout",
     "output_type": "stream",
     "text": [
      "행정구역의 개수:  250\n"
     ]
    }
   ],
   "source": [
    "print(\"행정구역의 개수: \", len(geo_sig_shp.SIG_CD.unique()))"
   ]
  },
  {
   "cell_type": "code",
   "execution_count": 7,
   "metadata": {
    "gather": {
     "logged": 1667125596617
    },
    "jupyter": {
     "outputs_hidden": false,
     "source_hidden": false
    },
    "nteract": {
     "transient": {
      "deleting": false
     }
    }
   },
   "outputs": [
    {
     "name": "stdout",
     "output_type": "stream",
     "text": [
      "중복된 행정구역의 개수:  22\n"
     ]
    }
   ],
   "source": [
    "print(\"중복된 행정구역의 개수: \", len(geo_sig_shp.SIG_CD.unique())- len(geo_sig_shp.SIG_KOR_NM.unique()))"
   ]
  },
  {
   "cell_type": "markdown",
   "metadata": {
    "nteract": {
     "transient": {
      "deleting": false
     }
    }
   },
   "source": [
    "#### 시도"
   ]
  },
  {
   "cell_type": "code",
   "execution_count": 8,
   "metadata": {
    "gather": {
     "logged": 1667125768860
    },
    "jupyter": {
     "outputs_hidden": false,
     "source_hidden": false
    },
    "nteract": {
     "transient": {
      "deleting": false
     }
    }
   },
   "outputs": [
    {
     "data": {
      "text/html": [
       "<div>\n",
       "<style scoped>\n",
       "    .dataframe tbody tr th:only-of-type {\n",
       "        vertical-align: middle;\n",
       "    }\n",
       "\n",
       "    .dataframe tbody tr th {\n",
       "        vertical-align: top;\n",
       "    }\n",
       "\n",
       "    .dataframe thead th {\n",
       "        text-align: right;\n",
       "    }\n",
       "</style>\n",
       "<table border=\"1\" class=\"dataframe\">\n",
       "  <thead>\n",
       "    <tr style=\"text-align: right;\">\n",
       "      <th></th>\n",
       "      <th>CTPRVN_CD</th>\n",
       "      <th>CTP_ENG_NM</th>\n",
       "      <th>CTP_KOR_NM</th>\n",
       "      <th>geometry</th>\n",
       "    </tr>\n",
       "  </thead>\n",
       "  <tbody>\n",
       "    <tr>\n",
       "      <th>0</th>\n",
       "      <td>11</td>\n",
       "      <td>Seoul</td>\n",
       "      <td>서울특별시</td>\n",
       "      <td>POLYGON ((966987.226 1941110.946, 966987.119 1...</td>\n",
       "    </tr>\n",
       "    <tr>\n",
       "      <th>1</th>\n",
       "      <td>26</td>\n",
       "      <td>Busan</td>\n",
       "      <td>부산광역시</td>\n",
       "      <td>MULTIPOLYGON (((1146778.390 1679623.999, 11469...</td>\n",
       "    </tr>\n",
       "    <tr>\n",
       "      <th>2</th>\n",
       "      <td>27</td>\n",
       "      <td>Daegu</td>\n",
       "      <td>대구광역시</td>\n",
       "      <td>POLYGON ((1087859.999 1760097.461, 1087859.951...</td>\n",
       "    </tr>\n",
       "    <tr>\n",
       "      <th>3</th>\n",
       "      <td>28</td>\n",
       "      <td>Incheon</td>\n",
       "      <td>인천광역시</td>\n",
       "      <td>MULTIPOLYGON (((897904.035 1961082.190, 897886...</td>\n",
       "    </tr>\n",
       "    <tr>\n",
       "      <th>4</th>\n",
       "      <td>29</td>\n",
       "      <td>Gwangju</td>\n",
       "      <td>광주광역시</td>\n",
       "      <td>POLYGON ((932712.687 1696168.692, 932781.680 1...</td>\n",
       "    </tr>\n",
       "  </tbody>\n",
       "</table>\n",
       "</div>"
      ],
      "text/plain": [
       "  CTPRVN_CD CTP_ENG_NM CTP_KOR_NM  \\\n",
       "0        11      Seoul      서울특별시   \n",
       "1        26      Busan      부산광역시   \n",
       "2        27      Daegu      대구광역시   \n",
       "3        28    Incheon      인천광역시   \n",
       "4        29    Gwangju      광주광역시   \n",
       "\n",
       "                                            geometry  \n",
       "0  POLYGON ((966987.226 1941110.946, 966987.119 1...  \n",
       "1  MULTIPOLYGON (((1146778.390 1679623.999, 11469...  \n",
       "2  POLYGON ((1087859.999 1760097.461, 1087859.951...  \n",
       "3  MULTIPOLYGON (((897904.035 1961082.190, 897886...  \n",
       "4  POLYGON ((932712.687 1696168.692, 932781.680 1...  "
      ]
     },
     "execution_count": 8,
     "metadata": {},
     "output_type": "execute_result"
    }
   ],
   "source": [
    "geo_sd_shp = gpd.read_file(\"./standard/pre/sd.shp\", encoding=\"euc-kr\")\n",
    "geo_sd_shp.head()"
   ]
  },
  {
   "cell_type": "markdown",
   "metadata": {
    "nteract": {
     "transient": {
      "deleting": false
     }
    }
   },
   "source": [
    "- 잘 불러와졌는지에 대한 확인 진행"
   ]
  },
  {
   "cell_type": "code",
   "execution_count": 9,
   "metadata": {
    "gather": {
     "logged": 1667125799154
    },
    "jupyter": {
     "outputs_hidden": false,
     "source_hidden": false
    },
    "nteract": {
     "transient": {
      "deleting": false
     }
    }
   },
   "outputs": [
    {
     "data": {
      "image/png": "[encoded data removed]",
      "text/plain": [
       "<Figure size 720x1440 with 1 Axes>"
      ]
     },
     "metadata": {
      "needs_background": "light"
     },
     "output_type": "display_data"
    }
   ],
   "source": [
    "geo_sd_shp.plot()\n",
    "plt.show()"
   ]
  },
  {
   "cell_type": "markdown",
   "metadata": {
    "nteract": {
     "transient": {
      "deleting": false
     }
    }
   },
   "source": [
    "- 수월한 변환을 위해 dict로 각 시도 코드별, 시도명을 mapping해준다."
   ]
  },
  {
   "cell_type": "code",
   "execution_count": 10,
   "metadata": {
    "gather": {
     "logged": 1667125904969
    },
    "jupyter": {
     "outputs_hidden": false,
     "source_hidden": false
    },
    "nteract": {
     "transient": {
      "deleting": false
     }
    }
   },
   "outputs": [
    {
     "data": {
      "text/plain": [
       "{'11': '서울특별시',\n",
       " '26': '부산광역시',\n",
       " '27': '대구광역시',\n",
       " '28': '인천광역시',\n",
       " '29': '광주광역시',\n",
       " '30': '대전광역시',\n",
       " '31': '울산광역시',\n",
       " '36': '세종특별자치시',\n",
       " '41': '경기도',\n",
       " '42': '강원도',\n",
       " '43': '충청북도',\n",
       " '44': '충청남도',\n",
       " '45': '전라북도',\n",
       " '46': '전라남도',\n",
       " '47': '경상북도',\n",
       " '48': '경상남도',\n",
       " '50': '제주특별자치도'}"
      ]
     },
     "execution_count": 10,
     "metadata": {},
     "output_type": "execute_result"
    }
   ],
   "source": [
    "sd_dict = dict(zip(geo_sd_shp[\"CTPRVN_CD\"], geo_sd_shp[\"CTP_KOR_NM\"]))\n",
    "sd_dict"
   ]
  },
  {
   "cell_type": "markdown",
   "metadata": {
    "nteract": {
     "transient": {
      "deleting": false
     }
    }
   },
   "source": [
    "- 코드의 앞 부분을 기반으로 시도명을 매칭"
   ]
  },
  {
   "cell_type": "code",
   "execution_count": 11,
   "metadata": {
    "gather": {
     "logged": 1667125996676
    },
    "jupyter": {
     "outputs_hidden": false,
     "source_hidden": false
    },
    "nteract": {
     "transient": {
      "deleting": false
     }
    }
   },
   "outputs": [
    {
     "data": {
      "text/html": [
       "<div>\n",
       "<style scoped>\n",
       "    .dataframe tbody tr th:only-of-type {\n",
       "        vertical-align: middle;\n",
       "    }\n",
       "\n",
       "    .dataframe tbody tr th {\n",
       "        vertical-align: top;\n",
       "    }\n",
       "\n",
       "    .dataframe thead th {\n",
       "        text-align: right;\n",
       "    }\n",
       "</style>\n",
       "<table border=\"1\" class=\"dataframe\">\n",
       "  <thead>\n",
       "    <tr style=\"text-align: right;\">\n",
       "      <th></th>\n",
       "      <th>SIG_CD</th>\n",
       "      <th>SIG_ENG_NM</th>\n",
       "      <th>SIG_KOR_NM</th>\n",
       "      <th>geometry</th>\n",
       "      <th>SG_NM</th>\n",
       "    </tr>\n",
       "  </thead>\n",
       "  <tbody>\n",
       "    <tr>\n",
       "      <th>0</th>\n",
       "      <td>11110</td>\n",
       "      <td>Jongno-gu</td>\n",
       "      <td>종로구</td>\n",
       "      <td>POLYGON ((127.00864 37.58047, 127.00871 37.580...</td>\n",
       "      <td>서울특별시</td>\n",
       "    </tr>\n",
       "    <tr>\n",
       "      <th>1</th>\n",
       "      <td>11140</td>\n",
       "      <td>Jung-gu</td>\n",
       "      <td>중구</td>\n",
       "      <td>POLYGON ((127.02314 37.57196, 127.02336 37.571...</td>\n",
       "      <td>서울특별시</td>\n",
       "    </tr>\n",
       "    <tr>\n",
       "      <th>2</th>\n",
       "      <td>11170</td>\n",
       "      <td>Yongsan-gu</td>\n",
       "      <td>용산구</td>\n",
       "      <td>POLYGON ((126.96918 37.55566, 126.96917 37.554...</td>\n",
       "      <td>서울특별시</td>\n",
       "    </tr>\n",
       "    <tr>\n",
       "      <th>3</th>\n",
       "      <td>11200</td>\n",
       "      <td>Seongdong-gu</td>\n",
       "      <td>성동구</td>\n",
       "      <td>POLYGON ((127.04341 37.57234, 127.04524 37.571...</td>\n",
       "      <td>서울특별시</td>\n",
       "    </tr>\n",
       "    <tr>\n",
       "      <th>4</th>\n",
       "      <td>11215</td>\n",
       "      <td>Gwangjin-gu</td>\n",
       "      <td>광진구</td>\n",
       "      <td>POLYGON ((127.10166 37.57240, 127.10224 37.572...</td>\n",
       "      <td>서울특별시</td>\n",
       "    </tr>\n",
       "  </tbody>\n",
       "</table>\n",
       "</div>"
      ],
      "text/plain": [
       "  SIG_CD    SIG_ENG_NM SIG_KOR_NM  \\\n",
       "0  11110     Jongno-gu        종로구   \n",
       "1  11140       Jung-gu         중구   \n",
       "2  11170    Yongsan-gu        용산구   \n",
       "3  11200  Seongdong-gu        성동구   \n",
       "4  11215   Gwangjin-gu        광진구   \n",
       "\n",
       "                                            geometry  SG_NM  \n",
       "0  POLYGON ((127.00864 37.58047, 127.00871 37.580...  서울특별시  \n",
       "1  POLYGON ((127.02314 37.57196, 127.02336 37.571...  서울특별시  \n",
       "2  POLYGON ((126.96918 37.55566, 126.96917 37.554...  서울특별시  \n",
       "3  POLYGON ((127.04341 37.57234, 127.04524 37.571...  서울특별시  \n",
       "4  POLYGON ((127.10166 37.57240, 127.10224 37.572...  서울특별시  "
      ]
     },
     "execution_count": 11,
     "metadata": {},
     "output_type": "execute_result"
    }
   ],
   "source": [
    "geo_sig_shp[\"SG_NM\"] = list(sd_dict[i[:2]] for i in geo_sig_shp[\"SIG_CD\"] )\n",
    "geo_sig_shp.head()"
   ]
  },
  {
   "cell_type": "markdown",
   "metadata": {},
   "source": [
    "#### centroid\n",
    "- 추후, multi linear regression을 위한 공간 상관성 삭제를 위해 진행"
   ]
  },
  {
   "cell_type": "code",
   "execution_count": 12,
   "metadata": {},
   "outputs": [],
   "source": [
    "latitude_l = [i.centroid.y for i in geo_sig_shp.geometry]\n",
    "longitude_l = [i.centroid.x for i in geo_sig_shp.geometry]"
   ]
  },
  {
   "cell_type": "code",
   "execution_count": 13,
   "metadata": {},
   "outputs": [],
   "source": [
    "geo_sig_shp[\"latitude\"] = latitude_l\n",
    "geo_sig_shp[\"longitude\"] = longitude_l\n",
    "geo_sig_shp[\"geometry\"] = geo_sig_shp.geometry"
   ]
  },
  {
   "cell_type": "code",
   "execution_count": 14,
   "metadata": {},
   "outputs": [
    {
     "data": {
      "text/html": [
       "<div>\n",
       "<style scoped>\n",
       "    .dataframe tbody tr th:only-of-type {\n",
       "        vertical-align: middle;\n",
       "    }\n",
       "\n",
       "    .dataframe tbody tr th {\n",
       "        vertical-align: top;\n",
       "    }\n",
       "\n",
       "    .dataframe thead th {\n",
       "        text-align: right;\n",
       "    }\n",
       "</style>\n",
       "<table border=\"1\" class=\"dataframe\">\n",
       "  <thead>\n",
       "    <tr style=\"text-align: right;\">\n",
       "      <th></th>\n",
       "      <th>SIG_CD</th>\n",
       "      <th>SIG_ENG_NM</th>\n",
       "      <th>SIG_KOR_NM</th>\n",
       "      <th>geometry</th>\n",
       "      <th>SG_NM</th>\n",
       "      <th>latitude</th>\n",
       "      <th>longitude</th>\n",
       "    </tr>\n",
       "  </thead>\n",
       "  <tbody>\n",
       "    <tr>\n",
       "      <th>0</th>\n",
       "      <td>11110</td>\n",
       "      <td>Jongno-gu</td>\n",
       "      <td>종로구</td>\n",
       "      <td>POLYGON ((127.00864 37.58047, 127.00871 37.580...</td>\n",
       "      <td>서울특별시</td>\n",
       "      <td>37.594920</td>\n",
       "      <td>126.977317</td>\n",
       "    </tr>\n",
       "    <tr>\n",
       "      <th>1</th>\n",
       "      <td>11140</td>\n",
       "      <td>Jung-gu</td>\n",
       "      <td>중구</td>\n",
       "      <td>POLYGON ((127.02314 37.57196, 127.02336 37.571...</td>\n",
       "      <td>서울특별시</td>\n",
       "      <td>37.560143</td>\n",
       "      <td>126.995968</td>\n",
       "    </tr>\n",
       "    <tr>\n",
       "      <th>2</th>\n",
       "      <td>11170</td>\n",
       "      <td>Yongsan-gu</td>\n",
       "      <td>용산구</td>\n",
       "      <td>POLYGON ((126.96918 37.55566, 126.96917 37.554...</td>\n",
       "      <td>서울특별시</td>\n",
       "      <td>37.531386</td>\n",
       "      <td>126.979908</td>\n",
       "    </tr>\n",
       "    <tr>\n",
       "      <th>3</th>\n",
       "      <td>11200</td>\n",
       "      <td>Seongdong-gu</td>\n",
       "      <td>성동구</td>\n",
       "      <td>POLYGON ((127.04341 37.57234, 127.04524 37.571...</td>\n",
       "      <td>서울특별시</td>\n",
       "      <td>37.551030</td>\n",
       "      <td>127.041059</td>\n",
       "    </tr>\n",
       "    <tr>\n",
       "      <th>4</th>\n",
       "      <td>11215</td>\n",
       "      <td>Gwangjin-gu</td>\n",
       "      <td>광진구</td>\n",
       "      <td>POLYGON ((127.10166 37.57240, 127.10224 37.572...</td>\n",
       "      <td>서울특별시</td>\n",
       "      <td>37.546722</td>\n",
       "      <td>127.085746</td>\n",
       "    </tr>\n",
       "  </tbody>\n",
       "</table>\n",
       "</div>"
      ],
      "text/plain": [
       "  SIG_CD    SIG_ENG_NM SIG_KOR_NM  \\\n",
       "0  11110     Jongno-gu        종로구   \n",
       "1  11140       Jung-gu         중구   \n",
       "2  11170    Yongsan-gu        용산구   \n",
       "3  11200  Seongdong-gu        성동구   \n",
       "4  11215   Gwangjin-gu        광진구   \n",
       "\n",
       "                                            geometry  SG_NM   latitude  \\\n",
       "0  POLYGON ((127.00864 37.58047, 127.00871 37.580...  서울특별시  37.594920   \n",
       "1  POLYGON ((127.02314 37.57196, 127.02336 37.571...  서울특별시  37.560143   \n",
       "2  POLYGON ((126.96918 37.55566, 126.96917 37.554...  서울특별시  37.531386   \n",
       "3  POLYGON ((127.04341 37.57234, 127.04524 37.571...  서울특별시  37.551030   \n",
       "4  POLYGON ((127.10166 37.57240, 127.10224 37.572...  서울특별시  37.546722   \n",
       "\n",
       "    longitude  \n",
       "0  126.977317  \n",
       "1  126.995968  \n",
       "2  126.979908  \n",
       "3  127.041059  \n",
       "4  127.085746  "
      ]
     },
     "execution_count": 14,
     "metadata": {},
     "output_type": "execute_result"
    }
   ],
   "source": [
    "geo_sig_shp.head()"
   ]
  },
  {
   "cell_type": "code",
   "execution_count": 15,
   "metadata": {},
   "outputs": [
    {
     "data": {
      "text/plain": [
       "4959"
      ]
     },
     "execution_count": 15,
     "metadata": {},
     "output_type": "execute_result"
    }
   ],
   "source": [
    "len(geo_sig_shp)"
   ]
  },
  {
   "cell_type": "code",
   "execution_count": 16,
   "metadata": {},
   "outputs": [
    {
     "data": {
      "text/plain": [
       "25"
      ]
     },
     "execution_count": 16,
     "metadata": {},
     "output_type": "execute_result"
    }
   ],
   "source": [
    "geo_sig_seoul = geo_sig_shp[geo_sig_shp.SG_NM==\"서울특별시\"]\n",
    "len(geo_sig_seoul)"
   ]
  },
  {
   "cell_type": "markdown",
   "metadata": {},
   "source": [
    "### concat to 250"
   ]
  },
  {
   "cell_type": "code",
   "execution_count": 17,
   "metadata": {},
   "outputs": [],
   "source": [
    "key = []\n",
    "val = []\n",
    "for i in range(len(geo_sig_shp)):\n",
    "    data = geo_sig_shp.iloc[i]\n",
    "    key.append(data.SIG_CD)\n",
    "    val.append([data.SIG_KOR_NM, data.SG_NM, data.geometry])\n",
    "geo_dict=dict(zip(key,val))"
   ]
  },
  {
   "cell_type": "code",
   "execution_count": 18,
   "metadata": {},
   "outputs": [],
   "source": [
    "geo_shp = geo_sig_shp.groupby(\"SIG_CD\").mean()"
   ]
  },
  {
   "cell_type": "code",
   "execution_count": 19,
   "metadata": {},
   "outputs": [
    {
     "data": {
      "text/html": [
       "<div>\n",
       "<style scoped>\n",
       "    .dataframe tbody tr th:only-of-type {\n",
       "        vertical-align: middle;\n",
       "    }\n",
       "\n",
       "    .dataframe tbody tr th {\n",
       "        vertical-align: top;\n",
       "    }\n",
       "\n",
       "    .dataframe thead th {\n",
       "        text-align: right;\n",
       "    }\n",
       "</style>\n",
       "<table border=\"1\" class=\"dataframe\">\n",
       "  <thead>\n",
       "    <tr style=\"text-align: right;\">\n",
       "      <th></th>\n",
       "      <th>latitude</th>\n",
       "      <th>longitude</th>\n",
       "      <th>SIG_KOR_NM</th>\n",
       "      <th>SG_NM</th>\n",
       "      <th>geometry</th>\n",
       "    </tr>\n",
       "    <tr>\n",
       "      <th>SIG_CD</th>\n",
       "      <th></th>\n",
       "      <th></th>\n",
       "      <th></th>\n",
       "      <th></th>\n",
       "      <th></th>\n",
       "    </tr>\n",
       "  </thead>\n",
       "  <tbody>\n",
       "    <tr>\n",
       "      <th>11110</th>\n",
       "      <td>37.594920</td>\n",
       "      <td>126.977317</td>\n",
       "      <td>종로구</td>\n",
       "      <td>서울특별시</td>\n",
       "      <td>POLYGON ((127.00864326221884 37.58046825204710...</td>\n",
       "    </tr>\n",
       "    <tr>\n",
       "      <th>11140</th>\n",
       "      <td>37.560143</td>\n",
       "      <td>126.995968</td>\n",
       "      <td>중구</td>\n",
       "      <td>서울특별시</td>\n",
       "      <td>POLYGON ((127.02313682632543 37.57196080977186...</td>\n",
       "    </tr>\n",
       "    <tr>\n",
       "      <th>11170</th>\n",
       "      <td>37.531386</td>\n",
       "      <td>126.979908</td>\n",
       "      <td>용산구</td>\n",
       "      <td>서울특별시</td>\n",
       "      <td>POLYGON ((126.96918343789535 37.55566257096262...</td>\n",
       "    </tr>\n",
       "    <tr>\n",
       "      <th>11200</th>\n",
       "      <td>37.551030</td>\n",
       "      <td>127.041059</td>\n",
       "      <td>성동구</td>\n",
       "      <td>서울특별시</td>\n",
       "      <td>POLYGON ((127.04341316154634 37.57233714944435...</td>\n",
       "    </tr>\n",
       "    <tr>\n",
       "      <th>11215</th>\n",
       "      <td>37.546722</td>\n",
       "      <td>127.085746</td>\n",
       "      <td>광진구</td>\n",
       "      <td>서울특별시</td>\n",
       "      <td>POLYGON ((127.10166464162197 37.57240065825002...</td>\n",
       "    </tr>\n",
       "  </tbody>\n",
       "</table>\n",
       "</div>"
      ],
      "text/plain": [
       "         latitude   longitude SIG_KOR_NM  SG_NM  \\\n",
       "SIG_CD                                            \n",
       "11110   37.594920  126.977317        종로구  서울특별시   \n",
       "11140   37.560143  126.995968         중구  서울특별시   \n",
       "11170   37.531386  126.979908        용산구  서울특별시   \n",
       "11200   37.551030  127.041059        성동구  서울특별시   \n",
       "11215   37.546722  127.085746        광진구  서울특별시   \n",
       "\n",
       "                                                 geometry  \n",
       "SIG_CD                                                     \n",
       "11110   POLYGON ((127.00864326221884 37.58046825204710...  \n",
       "11140   POLYGON ((127.02313682632543 37.57196080977186...  \n",
       "11170   POLYGON ((126.96918343789535 37.55566257096262...  \n",
       "11200   POLYGON ((127.04341316154634 37.57233714944435...  \n",
       "11215   POLYGON ((127.10166464162197 37.57240065825002...  "
      ]
     },
     "execution_count": 19,
     "metadata": {},
     "output_type": "execute_result"
    }
   ],
   "source": [
    "geo_shp[\"SIG_KOR_NM\"] = [geo_dict[i][0] for i in geo_shp.index]\n",
    "geo_shp[\"SG_NM\"] = [geo_dict[i][1] for i in geo_shp.index]\n",
    "geo_shp[\"geometry\"] = [geo_dict[i][2] for i in geo_shp.index]\n",
    "geo_shp.head()"
   ]
  },
  {
   "cell_type": "markdown",
   "metadata": {},
   "source": [
    "- area"
   ]
  },
  {
   "cell_type": "code",
   "execution_count": 20,
   "metadata": {},
   "outputs": [
    {
     "data": {
      "text/html": [
       "<div>\n",
       "<style scoped>\n",
       "    .dataframe tbody tr th:only-of-type {\n",
       "        vertical-align: middle;\n",
       "    }\n",
       "\n",
       "    .dataframe tbody tr th {\n",
       "        vertical-align: top;\n",
       "    }\n",
       "\n",
       "    .dataframe thead th {\n",
       "        text-align: right;\n",
       "    }\n",
       "</style>\n",
       "<table border=\"1\" class=\"dataframe\">\n",
       "  <thead>\n",
       "    <tr style=\"text-align: right;\">\n",
       "      <th></th>\n",
       "      <th>latitude</th>\n",
       "      <th>longitude</th>\n",
       "      <th>SIG_KOR_NM</th>\n",
       "      <th>SG_NM</th>\n",
       "      <th>geometry</th>\n",
       "      <th>area</th>\n",
       "    </tr>\n",
       "    <tr>\n",
       "      <th>SIG_CD</th>\n",
       "      <th></th>\n",
       "      <th></th>\n",
       "      <th></th>\n",
       "      <th></th>\n",
       "      <th></th>\n",
       "      <th></th>\n",
       "    </tr>\n",
       "  </thead>\n",
       "  <tbody>\n",
       "    <tr>\n",
       "      <th>11110</th>\n",
       "      <td>37.594920</td>\n",
       "      <td>126.977317</td>\n",
       "      <td>종로구</td>\n",
       "      <td>서울특별시</td>\n",
       "      <td>POLYGON ((127.00864326221884 37.58046825204710...</td>\n",
       "      <td>24.474630</td>\n",
       "    </tr>\n",
       "    <tr>\n",
       "      <th>11140</th>\n",
       "      <td>37.560143</td>\n",
       "      <td>126.995968</td>\n",
       "      <td>중구</td>\n",
       "      <td>서울특별시</td>\n",
       "      <td>POLYGON ((127.02313682632543 37.57196080977186...</td>\n",
       "      <td>10.167194</td>\n",
       "    </tr>\n",
       "    <tr>\n",
       "      <th>11170</th>\n",
       "      <td>37.531386</td>\n",
       "      <td>126.979908</td>\n",
       "      <td>용산구</td>\n",
       "      <td>서울특별시</td>\n",
       "      <td>POLYGON ((126.96918343789535 37.55566257096262...</td>\n",
       "      <td>22.338328</td>\n",
       "    </tr>\n",
       "    <tr>\n",
       "      <th>11200</th>\n",
       "      <td>37.551030</td>\n",
       "      <td>127.041059</td>\n",
       "      <td>성동구</td>\n",
       "      <td>서울특별시</td>\n",
       "      <td>POLYGON ((127.04341316154634 37.57233714944435...</td>\n",
       "      <td>17.143608</td>\n",
       "    </tr>\n",
       "    <tr>\n",
       "      <th>11215</th>\n",
       "      <td>37.546722</td>\n",
       "      <td>127.085746</td>\n",
       "      <td>광진구</td>\n",
       "      <td>서울특별시</td>\n",
       "      <td>POLYGON ((127.10166464162197 37.57240065825002...</td>\n",
       "      <td>17.375398</td>\n",
       "    </tr>\n",
       "  </tbody>\n",
       "</table>\n",
       "</div>"
      ],
      "text/plain": [
       "         latitude   longitude SIG_KOR_NM  SG_NM  \\\n",
       "SIG_CD                                            \n",
       "11110   37.594920  126.977317        종로구  서울특별시   \n",
       "11140   37.560143  126.995968         중구  서울특별시   \n",
       "11170   37.531386  126.979908        용산구  서울특별시   \n",
       "11200   37.551030  127.041059        성동구  서울특별시   \n",
       "11215   37.546722  127.085746        광진구  서울특별시   \n",
       "\n",
       "                                                 geometry       area  \n",
       "SIG_CD                                                                \n",
       "11110   POLYGON ((127.00864326221884 37.58046825204710...  24.474630  \n",
       "11140   POLYGON ((127.02313682632543 37.57196080977186...  10.167194  \n",
       "11170   POLYGON ((126.96918343789535 37.55566257096262...  22.338328  \n",
       "11200   POLYGON ((127.04341316154634 37.57233714944435...  17.143608  \n",
       "11215   POLYGON ((127.10166464162197 37.57240065825002...  17.375398  "
      ]
     },
     "execution_count": 20,
     "metadata": {},
     "output_type": "execute_result"
    }
   ],
   "source": [
    "geo_shp[\"area\"] = list(i.area*10000 for i in list(geo_shp.geometry))\n",
    "geo_shp.head()"
   ]
  },
  {
   "cell_type": "markdown",
   "metadata": {
    "nteract": {
     "transient": {
      "deleting": false
     }
    }
   },
   "source": [
    "### Save\n",
    "- 이후 사용을 위해 서울 데이터만을 저장해둔다."
   ]
  },
  {
   "cell_type": "code",
   "execution_count": 21,
   "metadata": {},
   "outputs": [
    {
     "data": {
      "text/html": [
       "<div>\n",
       "<style scoped>\n",
       "    .dataframe tbody tr th:only-of-type {\n",
       "        vertical-align: middle;\n",
       "    }\n",
       "\n",
       "    .dataframe tbody tr th {\n",
       "        vertical-align: top;\n",
       "    }\n",
       "\n",
       "    .dataframe thead th {\n",
       "        text-align: right;\n",
       "    }\n",
       "</style>\n",
       "<table border=\"1\" class=\"dataframe\">\n",
       "  <thead>\n",
       "    <tr style=\"text-align: right;\">\n",
       "      <th></th>\n",
       "      <th>latitude</th>\n",
       "      <th>longitude</th>\n",
       "      <th>SIG_KOR_NM</th>\n",
       "      <th>SG_NM</th>\n",
       "      <th>geometry</th>\n",
       "      <th>area</th>\n",
       "    </tr>\n",
       "    <tr>\n",
       "      <th>SIG_CD</th>\n",
       "      <th></th>\n",
       "      <th></th>\n",
       "      <th></th>\n",
       "      <th></th>\n",
       "      <th></th>\n",
       "      <th></th>\n",
       "    </tr>\n",
       "  </thead>\n",
       "  <tbody>\n",
       "    <tr>\n",
       "      <th>11110</th>\n",
       "      <td>37.594920</td>\n",
       "      <td>126.977317</td>\n",
       "      <td>종로구</td>\n",
       "      <td>서울특별시</td>\n",
       "      <td>POLYGON ((127.00864326221884 37.58046825204710...</td>\n",
       "      <td>24.474630</td>\n",
       "    </tr>\n",
       "    <tr>\n",
       "      <th>11140</th>\n",
       "      <td>37.560143</td>\n",
       "      <td>126.995968</td>\n",
       "      <td>중구</td>\n",
       "      <td>서울특별시</td>\n",
       "      <td>POLYGON ((127.02313682632543 37.57196080977186...</td>\n",
       "      <td>10.167194</td>\n",
       "    </tr>\n",
       "    <tr>\n",
       "      <th>11170</th>\n",
       "      <td>37.531386</td>\n",
       "      <td>126.979908</td>\n",
       "      <td>용산구</td>\n",
       "      <td>서울특별시</td>\n",
       "      <td>POLYGON ((126.96918343789535 37.55566257096262...</td>\n",
       "      <td>22.338328</td>\n",
       "    </tr>\n",
       "    <tr>\n",
       "      <th>11200</th>\n",
       "      <td>37.551030</td>\n",
       "      <td>127.041059</td>\n",
       "      <td>성동구</td>\n",
       "      <td>서울특별시</td>\n",
       "      <td>POLYGON ((127.04341316154634 37.57233714944435...</td>\n",
       "      <td>17.143608</td>\n",
       "    </tr>\n",
       "    <tr>\n",
       "      <th>11215</th>\n",
       "      <td>37.546722</td>\n",
       "      <td>127.085746</td>\n",
       "      <td>광진구</td>\n",
       "      <td>서울특별시</td>\n",
       "      <td>POLYGON ((127.10166464162197 37.57240065825002...</td>\n",
       "      <td>17.375398</td>\n",
       "    </tr>\n",
       "  </tbody>\n",
       "</table>\n",
       "</div>"
      ],
      "text/plain": [
       "         latitude   longitude SIG_KOR_NM  SG_NM  \\\n",
       "SIG_CD                                            \n",
       "11110   37.594920  126.977317        종로구  서울특별시   \n",
       "11140   37.560143  126.995968         중구  서울특별시   \n",
       "11170   37.531386  126.979908        용산구  서울특별시   \n",
       "11200   37.551030  127.041059        성동구  서울특별시   \n",
       "11215   37.546722  127.085746        광진구  서울특별시   \n",
       "\n",
       "                                                 geometry       area  \n",
       "SIG_CD                                                                \n",
       "11110   POLYGON ((127.00864326221884 37.58046825204710...  24.474630  \n",
       "11140   POLYGON ((127.02313682632543 37.57196080977186...  10.167194  \n",
       "11170   POLYGON ((126.96918343789535 37.55566257096262...  22.338328  \n",
       "11200   POLYGON ((127.04341316154634 37.57233714944435...  17.143608  \n",
       "11215   POLYGON ((127.10166464162197 37.57240065825002...  17.375398  "
      ]
     },
     "execution_count": 21,
     "metadata": {},
     "output_type": "execute_result"
    }
   ],
   "source": [
    "geo_seoul = geo_shp[geo_shp.SG_NM==\"서울특별시\"]\n",
    "geo_seoul.head()"
   ]
  },
  {
   "cell_type": "code",
   "execution_count": 22,
   "metadata": {},
   "outputs": [
    {
     "data": {
      "text/plain": [
       "25"
      ]
     },
     "execution_count": 22,
     "metadata": {},
     "output_type": "execute_result"
    }
   ],
   "source": [
    "len(geo_seoul)"
   ]
  },
  {
   "cell_type": "code",
   "execution_count": 23,
   "metadata": {},
   "outputs": [],
   "source": [
    "geometry = geo_seoul.geometry"
   ]
  },
  {
   "cell_type": "code",
   "execution_count": 24,
   "metadata": {},
   "outputs": [],
   "source": [
    "gdf = GeoDataFrame(geo_seoul, crs=\"EPSG:4326\", geometry=geometry)"
   ]
  },
  {
   "cell_type": "code",
   "execution_count": 25,
   "metadata": {},
   "outputs": [
    {
     "data": {
      "text/html": [
       "<div>\n",
       "<style scoped>\n",
       "    .dataframe tbody tr th:only-of-type {\n",
       "        vertical-align: middle;\n",
       "    }\n",
       "\n",
       "    .dataframe tbody tr th {\n",
       "        vertical-align: top;\n",
       "    }\n",
       "\n",
       "    .dataframe thead th {\n",
       "        text-align: right;\n",
       "    }\n",
       "</style>\n",
       "<table border=\"1\" class=\"dataframe\">\n",
       "  <thead>\n",
       "    <tr style=\"text-align: right;\">\n",
       "      <th></th>\n",
       "      <th>latitude</th>\n",
       "      <th>longitude</th>\n",
       "      <th>SIG_KOR_NM</th>\n",
       "      <th>SG_NM</th>\n",
       "      <th>geometry</th>\n",
       "      <th>area</th>\n",
       "    </tr>\n",
       "    <tr>\n",
       "      <th>SIG_CD</th>\n",
       "      <th></th>\n",
       "      <th></th>\n",
       "      <th></th>\n",
       "      <th></th>\n",
       "      <th></th>\n",
       "      <th></th>\n",
       "    </tr>\n",
       "  </thead>\n",
       "  <tbody>\n",
       "    <tr>\n",
       "      <th>11110</th>\n",
       "      <td>37.594920</td>\n",
       "      <td>126.977317</td>\n",
       "      <td>종로구</td>\n",
       "      <td>서울특별시</td>\n",
       "      <td>POLYGON ((127.00864 37.58047, 127.00871 37.580...</td>\n",
       "      <td>24.474630</td>\n",
       "    </tr>\n",
       "    <tr>\n",
       "      <th>11140</th>\n",
       "      <td>37.560143</td>\n",
       "      <td>126.995968</td>\n",
       "      <td>중구</td>\n",
       "      <td>서울특별시</td>\n",
       "      <td>POLYGON ((127.02314 37.57196, 127.02336 37.571...</td>\n",
       "      <td>10.167194</td>\n",
       "    </tr>\n",
       "    <tr>\n",
       "      <th>11170</th>\n",
       "      <td>37.531386</td>\n",
       "      <td>126.979908</td>\n",
       "      <td>용산구</td>\n",
       "      <td>서울특별시</td>\n",
       "      <td>POLYGON ((126.96918 37.55566, 126.96917 37.554...</td>\n",
       "      <td>22.338328</td>\n",
       "    </tr>\n",
       "    <tr>\n",
       "      <th>11200</th>\n",
       "      <td>37.551030</td>\n",
       "      <td>127.041059</td>\n",
       "      <td>성동구</td>\n",
       "      <td>서울특별시</td>\n",
       "      <td>POLYGON ((127.04341 37.57234, 127.04524 37.571...</td>\n",
       "      <td>17.143608</td>\n",
       "    </tr>\n",
       "    <tr>\n",
       "      <th>11215</th>\n",
       "      <td>37.546722</td>\n",
       "      <td>127.085746</td>\n",
       "      <td>광진구</td>\n",
       "      <td>서울특별시</td>\n",
       "      <td>POLYGON ((127.10166 37.57240, 127.10224 37.572...</td>\n",
       "      <td>17.375398</td>\n",
       "    </tr>\n",
       "  </tbody>\n",
       "</table>\n",
       "</div>"
      ],
      "text/plain": [
       "         latitude   longitude SIG_KOR_NM  SG_NM  \\\n",
       "SIG_CD                                            \n",
       "11110   37.594920  126.977317        종로구  서울특별시   \n",
       "11140   37.560143  126.995968         중구  서울특별시   \n",
       "11170   37.531386  126.979908        용산구  서울특별시   \n",
       "11200   37.551030  127.041059        성동구  서울특별시   \n",
       "11215   37.546722  127.085746        광진구  서울특별시   \n",
       "\n",
       "                                                 geometry       area  \n",
       "SIG_CD                                                                \n",
       "11110   POLYGON ((127.00864 37.58047, 127.00871 37.580...  24.474630  \n",
       "11140   POLYGON ((127.02314 37.57196, 127.02336 37.571...  10.167194  \n",
       "11170   POLYGON ((126.96918 37.55566, 126.96917 37.554...  22.338328  \n",
       "11200   POLYGON ((127.04341 37.57234, 127.04524 37.571...  17.143608  \n",
       "11215   POLYGON ((127.10166 37.57240, 127.10224 37.572...  17.375398  "
      ]
     },
     "execution_count": 25,
     "metadata": {},
     "output_type": "execute_result"
    }
   ],
   "source": [
    "gdf.head()"
   ]
  },
  {
   "cell_type": "code",
   "execution_count": 26,
   "metadata": {
    "gather": {
     "logged": 1667126346839
    },
    "jupyter": {
     "outputs_hidden": false,
     "source_hidden": false
    },
    "nteract": {
     "transient": {
      "deleting": false
     }
    }
   },
   "outputs": [],
   "source": [
    "gdf.to_file(\"./standard/geo_seoul.shp\", encoding=\"utf-8\")"
   ]
  }
 ],
 "metadata": {
  "kernel_info": {
   "name": "python38-azureml"
  },
  "kernelspec": {
   "display_name": "Python 3 (ipykernel)",
   "language": "python",
   "name": "python3"
  },
  "language_info": {
   "codemirror_mode": {
    "name": "ipython",
    "version": 3
   },
   "file_extension": ".py",
   "mimetype": "text/x-python",
   "name": "python",
   "nbconvert_exporter": "python",
   "pygments_lexer": "ipython3",
   "version": "3.9.15"
  },
  "microsoft": {
   "host": {
    "AzureML": {
     "notebookHasBeenCompleted": true
    }
   }
  },
  "nteract": {
   "version": "nteract-front-end@1.0.0"
  }
 },
 "nbformat": 4,
 "nbformat_minor": 2
}
