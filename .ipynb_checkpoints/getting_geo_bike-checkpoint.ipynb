{
 "cells": [
  {
   "cell_type": "code",
   "execution_count": null,
   "id": "e5d92443",
   "metadata": {},
   "outputs": [],
   "source": [
    "import geopandas as gpd\n",
    "import matplotlib.pyplot as plt\n",
    "import pandas as pd\n",
    "\n",
    "from shapely.geometry import Point\n",
    "import pyproj\n",
    "from fiona.crs import from_epsg\n",
    "import numpy as np\n",
    "from geopandas import GeoDataFrame\n",
    "import datetime\n",
    "from datetime import timedelta, date"
   ]
  },
  {
   "cell_type": "code",
   "execution_count": null,
   "id": "15cf2ae8",
   "metadata": {},
   "outputs": [],
   "source": [
    "plt.rcParams[\"font.family\"] = \"NanumGothic\"\n",
    "plt.rcParams[\"figure.figsize\"] = (10,20)"
   ]
  },
  {
   "cell_type": "code",
   "execution_count": null,
   "id": "2692d15d",
   "metadata": {},
   "outputs": [],
   "source": [
    "data = pd.read_csv(\"./standard/pre/bike_2206.csv\", encoding='cp949')\n",
    "data = data[data[\"SG_CD\"].isin([\"광진구\", \"동대문구\", \"성동구\", \"중랑구\"])]\n",
    "data.head()"
   ]
  },
  {
   "cell_type": "code",
   "execution_count": null,
   "id": "a5a7e15a",
   "metadata": {},
   "outputs": [],
   "source": [
    "data.columns"
   ]
  },
  {
   "cell_type": "code",
   "execution_count": null,
   "id": "52d41c7d",
   "metadata": {},
   "outputs": [],
   "source": [
    "data.fillna(0, inplace=True)\n",
    "data[\"count\"] = data[\"LCD\"]+data[\"QR\"]\n",
    "data.drop([\"보관소(대여소)명\", \"LCD\", \"QR\", 'res'], axis=1, inplace=True)\n",
    "data.reset_index(drop=True, inplace=True)\n",
    "data.head()"
   ]
  },
  {
   "cell_type": "code",
   "execution_count": null,
   "id": "e46343b3",
   "metadata": {},
   "outputs": [],
   "source": [
    "len(data)"
   ]
  },
  {
   "cell_type": "code",
   "execution_count": null,
   "id": "37223688",
   "metadata": {},
   "outputs": [],
   "source": [
    "data[[\"위도\", \"경도\"]].to_csv(\"./standard/bike_corr.csv\", encoding=\"utf-8\")"
   ]
  },
  {
   "cell_type": "code",
   "execution_count": null,
   "id": "f0306172",
   "metadata": {},
   "outputs": [],
   "source": [
    "len(data.time.unique())"
   ]
  },
  {
   "cell_type": "code",
   "execution_count": null,
   "id": "d03cf8ef",
   "metadata": {},
   "outputs": [],
   "source": [
    "bike_place_count_dict = dict()\n",
    "bike_count_dict = dict()\n",
    "for i in range(len(data)):\n",
    "    time = data.iloc[i].time\n",
    "    count = data.iloc[i][\"count\"]\n",
    "    bike_place_count_dict[time] = bike_place_count_dict.get(time, 0) + 1\n",
    "    bike_count_dict[time] = bike_count_dict.get(time, 0) + int(count)"
   ]
  },
  {
   "cell_type": "code",
   "execution_count": null,
   "id": "01ad1255",
   "metadata": {},
   "outputs": [],
   "source": [
    "print(bike_place_count_dict)"
   ]
  },
  {
   "cell_type": "code",
   "execution_count": null,
   "id": "09bf6240",
   "metadata": {},
   "outputs": [],
   "source": [
    "bike_place_count_dict.keys()==bike_count_dict.keys()"
   ]
  },
  {
   "cell_type": "code",
   "execution_count": null,
   "id": "a587c89d",
   "metadata": {},
   "outputs": [],
   "source": [
    "sorted_time = list(bike_place_count_dict.keys())"
   ]
  },
  {
   "cell_type": "code",
   "execution_count": null,
   "id": "e0b14a6d",
   "metadata": {},
   "outputs": [],
   "source": [
    "import datetime\n",
    "def converting_to_real_dt(dic):\n",
    "    new_dic = dict()\n",
    "    format_t = '%Y-%m-%d'\n",
    "    for i in sorted_time:\n",
    "        dt = datetime.datetime.strptime(i, format_t).date()\n",
    "        new_dic[dt] = dic[i]\n",
    "    return new_dic"
   ]
  },
  {
   "cell_type": "code",
   "execution_count": null,
   "id": "3f09dbb2",
   "metadata": {
    "scrolled": true
   },
   "outputs": [],
   "source": [
    "bpc_dict = converting_to_real_dt(bike_place_count_dict)\n",
    "bpc_dict"
   ]
  },
  {
   "cell_type": "code",
   "execution_count": null,
   "id": "45db8c9e",
   "metadata": {},
   "outputs": [],
   "source": [
    "format_t = '%Y-%m-%d'\n",
    "print(type(datetime.datetime.strptime(\"2018-01-18\", format_t).date()))"
   ]
  },
  {
   "cell_type": "code",
   "execution_count": null,
   "id": "e991ca84",
   "metadata": {},
   "outputs": [],
   "source": [
    "count = 0\n",
    "for i in bpc_dict.keys():\n",
    "    if i < datetime.datetime.strptime(\"2018-01-18\", format_t).date():\n",
    "        count += bpc_dict[i]"
   ]
  },
  {
   "cell_type": "code",
   "execution_count": null,
   "id": "6a502f1c",
   "metadata": {},
   "outputs": [],
   "source": [
    "count"
   ]
  },
  {
   "cell_type": "markdown",
   "id": "b101d15c",
   "metadata": {},
   "source": [
    "- 1: 광진구\n",
    "- 2: 동대문구\n",
    "- 3: 성동구\n",
    "- 4: 중랑구"
   ]
  },
  {
   "cell_type": "code",
   "execution_count": null,
   "id": "364acc1b",
   "metadata": {},
   "outputs": [],
   "source": [
    "data_1 = data[data[\"SG_CD\"]==\"광진구\"]\n",
    "data_2 = data[data[\"SG_CD\"]==\"동대문구\"]\n",
    "data_3 = data[data[\"SG_CD\"]==\"성동구\"]\n",
    "data_4 = data[data[\"SG_CD\"]==\"중랑구\"]"
   ]
  },
  {
   "cell_type": "code",
   "execution_count": null,
   "id": "22fca5d2",
   "metadata": {},
   "outputs": [],
   "source": [
    "print(len(data_1))"
   ]
  },
  {
   "cell_type": "code",
   "execution_count": null,
   "id": "dcb893d9",
   "metadata": {},
   "outputs": [],
   "source": [
    "data_1.head()"
   ]
  },
  {
   "cell_type": "code",
   "execution_count": null,
   "id": "f8650fc0",
   "metadata": {},
   "outputs": [],
   "source": [
    "def df_to_count_dic(data):\n",
    "    bike_place_count_dict = dict()\n",
    "    bike_count_dict = dict()\n",
    "    for i in range(len(data)):\n",
    "        time = data.iloc[i][\"time\"]\n",
    "        count = data.iloc[i][\"count\"]\n",
    "        bike_place_count_dict[time] = bike_place_count_dict.get(time, 0) + 1\n",
    "        bike_count_dict[time] = bike_count_dict.get(time, 0) + int(count)\n",
    "    return bike_place_count_dict, bike_count_dict"
   ]
  },
  {
   "cell_type": "code",
   "execution_count": null,
   "id": "0b4a0fc5",
   "metadata": {},
   "outputs": [],
   "source": [
    "def converting_to_real_dt(dic):\n",
    "    new_dic = dict()\n",
    "    format_t = '%Y-%m-%d'\n",
    "    sorted_time = list(dic.keys())\n",
    "    for i in sorted_time:\n",
    "        dt = datetime.datetime.strptime(i, format_t).date()\n",
    "        new_dic[dt] = dic[i]\n",
    "    return new_dic"
   ]
  },
  {
   "cell_type": "code",
   "execution_count": null,
   "id": "c4ae4433",
   "metadata": {},
   "outputs": [],
   "source": [
    "pre_bpc_dict_1,pre_bc_dict_1 = df_to_count_dic(data_1)\n",
    "bpc_dict_1 = converting_to_real_dt(pre_bpc_dict_1)\n",
    "bc_dict_1 = converting_to_real_dt(pre_bc_dict_1)"
   ]
  },
  {
   "cell_type": "code",
   "execution_count": null,
   "id": "cdd76b79",
   "metadata": {},
   "outputs": [],
   "source": [
    "pre_bpc_dict_2,pre_bc_dict_2 = df_to_count_dic(data_2)\n",
    "bpc_dict_2 = converting_to_real_dt(pre_bpc_dict_2)\n",
    "bc_dict_2 = converting_to_real_dt(pre_bc_dict_2)"
   ]
  },
  {
   "cell_type": "code",
   "execution_count": null,
   "id": "575ca2aa",
   "metadata": {},
   "outputs": [],
   "source": [
    "pre_bpc_dict_3,pre_bc_dict_3 = df_to_count_dic(data_3)\n",
    "bpc_dict_3 = converting_to_real_dt(pre_bpc_dict_3)\n",
    "bc_dict_3 = converting_to_real_dt(pre_bc_dict_3)"
   ]
  },
  {
   "cell_type": "code",
   "execution_count": null,
   "id": "e048195d",
   "metadata": {},
   "outputs": [],
   "source": [
    "pre_bpc_dict_4,pre_bc_dict_4 = df_to_count_dic(data_4)\n",
    "bpc_dict_4 = converting_to_real_dt(pre_bpc_dict_4)\n",
    "bc_dict_4 = converting_to_real_dt(pre_bc_dict_4)"
   ]
  },
  {
   "cell_type": "code",
   "execution_count": null,
   "id": "2e6d4612",
   "metadata": {},
   "outputs": [],
   "source": [
    "def erasing_bf_2018(dic):\n",
    "    count = 0\n",
    "    del_l = []\n",
    "    date = datetime.datetime.strptime(\"2018-01-01\", format_t).date()\n",
    "    for i in dic.keys():\n",
    "        if i < date:\n",
    "            count += dic[i]\n",
    "            del_l.append(i)\n",
    "    for j in del_l:\n",
    "        del dic[j]\n",
    "    dic[date] = count\n",
    "    return dic"
   ]
  },
  {
   "cell_type": "code",
   "execution_count": null,
   "id": "1d455e37",
   "metadata": {},
   "outputs": [],
   "source": [
    "bpc_dict_1 = erasing_bf_2018(bpc_dict_1)\n",
    "bpc_dict_2 = erasing_bf_2018(bpc_dict_2)\n",
    "bpc_dict_3 = erasing_bf_2018(bpc_dict_3)\n",
    "bpc_dict_4 = erasing_bf_2018(bpc_dict_4)"
   ]
  },
  {
   "cell_type": "code",
   "execution_count": null,
   "id": "5d1648af",
   "metadata": {},
   "outputs": [],
   "source": [
    "bc_dict_1 = erasing_bf_2018(bc_dict_1)\n",
    "bc_dict_2 = erasing_bf_2018(bc_dict_2)\n",
    "bc_dict_3 = erasing_bf_2018(bc_dict_3)\n",
    "bc_dict_4 = erasing_bf_2018(bc_dict_4)"
   ]
  },
  {
   "cell_type": "code",
   "execution_count": null,
   "id": "cc2f2528",
   "metadata": {
    "scrolled": true
   },
   "outputs": [],
   "source": [
    "date_l = []\n",
    "def daterange(date1, date2):\n",
    "    for n in range(int ((date2 - date1).days)+1):\n",
    "        yield date1 + timedelta(n)\n",
    "\n",
    "start_dt = date(2018, 1, 1)\n",
    "end_dt = date(2022, 11, 30)\n",
    "for dt in daterange(start_dt, end_dt):\n",
    "    date_l.append(dt)"
   ]
  },
  {
   "cell_type": "code",
   "execution_count": null,
   "id": "3ee99db9",
   "metadata": {
    "scrolled": true
   },
   "outputs": [],
   "source": [
    "date_l[0]"
   ]
  },
  {
   "cell_type": "code",
   "execution_count": null,
   "id": "a713ed01",
   "metadata": {},
   "outputs": [],
   "source": [
    "len(date_l)"
   ]
  },
  {
   "cell_type": "code",
   "execution_count": null,
   "id": "f3652756",
   "metadata": {},
   "outputs": [],
   "source": [
    "l = list(bc_dict_1.keys())\n",
    "l.sort()\n",
    "print(l)"
   ]
  },
  {
   "cell_type": "code",
   "execution_count": null,
   "id": "cd6127d9",
   "metadata": {
    "scrolled": true
   },
   "outputs": [],
   "source": [
    "def count_sum(dic, date_l):\n",
    "    count_l = [dic[datetime.date(2018, 1, 1)]]\n",
    "    for i in range(1,len(date_l)):\n",
    "        date = date_l[i]\n",
    "        count_l.append(count_l[i-1] + dic.get(date, 0))\n",
    "    return count_l"
   ]
  },
  {
   "cell_type": "code",
   "execution_count": null,
   "id": "63270704",
   "metadata": {},
   "outputs": [],
   "source": [
    "bpc_count_1 = count_sum(bpc_dict_1, date_l)\n",
    "bpc_count_2 = count_sum(bpc_dict_2, date_l)\n",
    "bpc_count_3 = count_sum(bpc_dict_3, date_l)\n",
    "bpc_count_4 = count_sum(bpc_dict_4, date_l)"
   ]
  },
  {
   "cell_type": "code",
   "execution_count": null,
   "id": "f953d460",
   "metadata": {},
   "outputs": [],
   "source": [
    "bc_count_1 = count_sum(bc_dict_1, date_l)\n",
    "bc_count_2 = count_sum(bc_dict_2, date_l)\n",
    "bc_count_3 = count_sum(bc_dict_3, date_l)\n",
    "bc_count_4 = count_sum(bc_dict_4, date_l)"
   ]
  },
  {
   "cell_type": "code",
   "execution_count": null,
   "id": "0a7c9972",
   "metadata": {},
   "outputs": [],
   "source": [
    "print(bpc_count_1[-1]+bpc_count_2[-1]+bpc_count_3[-1]+bpc_count_4[-1])"
   ]
  },
  {
   "cell_type": "code",
   "execution_count": null,
   "id": "31c1f8ed",
   "metadata": {},
   "outputs": [],
   "source": [
    "dic_1 = {\"date\":date_l, \"bike_place\":bpc_count_1, \"bike\":bc_count_1}\n",
    "df_1 = pd.DataFrame(dic_1)\n",
    "df_1.to_csv(\"./variable/bike_Gwang.csv\", encoding=\"utf-8\")"
   ]
  },
  {
   "cell_type": "code",
   "execution_count": null,
   "id": "e01726b2",
   "metadata": {},
   "outputs": [],
   "source": [
    "dic_2 = {\"date\":date_l, \"bike_place\":bpc_count_2, \"bike\":bc_count_2}\n",
    "df_2 = pd.DataFrame(dic_2)\n",
    "df_2.to_csv(\"./variable/bike_Dong.csv\", encoding=\"utf-8\")"
   ]
  },
  {
   "cell_type": "code",
   "execution_count": null,
   "id": "7cf822b2",
   "metadata": {},
   "outputs": [],
   "source": [
    "dic_3 = {\"date\":date_l, \"bike_place\":bpc_count_3, \"bike\":bc_count_3}\n",
    "df_3 = pd.DataFrame(dic_3)\n",
    "df_3.to_csv(\"./variable/bike_Seong.csv\", encoding=\"utf-8\")"
   ]
  },
  {
   "cell_type": "code",
   "execution_count": null,
   "id": "bba794d8",
   "metadata": {},
   "outputs": [],
   "source": [
    "dic_4 = {\"date\":date_l, \"bike_place\":bpc_count_4, \"bike\":bc_count_4}\n",
    "df_4 = pd.DataFrame(dic_4)\n",
    "df_4.to_csv(\"./variable/bike_Jong.csv\", encoding=\"utf-8\")"
   ]
  }
 ],
 "metadata": {
  "kernelspec": {
   "display_name": "Python 3 (ipykernel)",
   "language": "python",
   "name": "python3"
  },
  "language_info": {
   "codemirror_mode": {
    "name": "ipython",
    "version": 3
   },
   "file_extension": ".py",
   "mimetype": "text/x-python",
   "name": "python",
   "nbconvert_exporter": "python",
   "pygments_lexer": "ipython3",
   "version": "3.9.12"
  }
 },
 "nbformat": 4,
 "nbformat_minor": 5
}
