{
 "cells": [
  {
   "cell_type": "code",
   "execution_count": 50,
   "id": "9653391c",
   "metadata": {},
   "outputs": [
    {
     "name": "stdout",
     "output_type": "stream",
     "text": [
      "Requirement already satisfied: openpyxl in /Users/seong-gang/opt/anaconda3/lib/python3.9/site-packages (3.0.9)\n",
      "Requirement already satisfied: et-xmlfile in /Users/seong-gang/opt/anaconda3/lib/python3.9/site-packages (from openpyxl) (1.1.0)\n",
      "Requirement already satisfied: linear-imputation in /Users/seong-gang/opt/anaconda3/lib/python3.9/site-packages (1.0.1)\n",
      "Requirement already satisfied: numpy in /Users/seong-gang/opt/anaconda3/lib/python3.9/site-packages (from linear-imputation) (1.21.5)\n",
      "Requirement already satisfied: scipy in /Users/seong-gang/opt/anaconda3/lib/python3.9/site-packages (from linear-imputation) (1.7.3)\n",
      "Requirement already satisfied: pandas in /Users/seong-gang/opt/anaconda3/lib/python3.9/site-packages (from linear-imputation) (1.4.2)\n",
      "Requirement already satisfied: python-dateutil>=2.8.1 in /Users/seong-gang/opt/anaconda3/lib/python3.9/site-packages (from pandas->linear-imputation) (2.8.2)\n",
      "Requirement already satisfied: pytz>=2020.1 in /Users/seong-gang/opt/anaconda3/lib/python3.9/site-packages (from pandas->linear-imputation) (2021.3)\n",
      "Requirement already satisfied: six>=1.5 in /Users/seong-gang/opt/anaconda3/lib/python3.9/site-packages (from python-dateutil>=2.8.1->pandas->linear-imputation) (1.16.0)\n"
     ]
    }
   ],
   "source": [
    "!pip install openpyxl\n",
    "!pip install linear-imputation"
   ]
  },
  {
   "cell_type": "code",
   "execution_count": 7,
   "id": "22bf1f7b",
   "metadata": {},
   "outputs": [
    {
     "data": {
      "text/html": [
       "<div>\n",
       "<style scoped>\n",
       "    .dataframe tbody tr th:only-of-type {\n",
       "        vertical-align: middle;\n",
       "    }\n",
       "\n",
       "    .dataframe tbody tr th {\n",
       "        vertical-align: top;\n",
       "    }\n",
       "\n",
       "    .dataframe thead th {\n",
       "        text-align: right;\n",
       "    }\n",
       "</style>\n",
       "<table border=\"1\" class=\"dataframe\">\n",
       "  <thead>\n",
       "    <tr style=\"text-align: right;\">\n",
       "      <th></th>\n",
       "      <th>date</th>\n",
       "      <th>총생활인구수</th>\n",
       "    </tr>\n",
       "  </thead>\n",
       "  <tbody>\n",
       "    <tr>\n",
       "      <th>1455</th>\n",
       "      <td>2021-12-26</td>\n",
       "      <td>342799.4382</td>\n",
       "    </tr>\n",
       "    <tr>\n",
       "      <th>1456</th>\n",
       "      <td>2021-12-27</td>\n",
       "      <td>366167.5985</td>\n",
       "    </tr>\n",
       "    <tr>\n",
       "      <th>1457</th>\n",
       "      <td>2021-12-28</td>\n",
       "      <td>367832.2213</td>\n",
       "    </tr>\n",
       "    <tr>\n",
       "      <th>1458</th>\n",
       "      <td>2021-12-29</td>\n",
       "      <td>367536.7057</td>\n",
       "    </tr>\n",
       "    <tr>\n",
       "      <th>1459</th>\n",
       "      <td>2021-12-30</td>\n",
       "      <td>366416.1576</td>\n",
       "    </tr>\n",
       "  </tbody>\n",
       "</table>\n",
       "</div>"
      ],
      "text/plain": [
       "            date       총생활인구수\n",
       "1455  2021-12-26  342799.4382\n",
       "1456  2021-12-27  366167.5985\n",
       "1457  2021-12-28  367832.2213\n",
       "1458  2021-12-29  367536.7057\n",
       "1459  2021-12-30  366416.1576"
      ]
     },
     "execution_count": 7,
     "metadata": {},
     "output_type": "execute_result"
    }
   ],
   "source": [
    "data = pd.read_csv(\"./variable/population_Seong.csv\", encoding=\"utf-8\")\n",
    "data.drop([\"Unnamed: 0\"], axis=1,inplace=True)\n",
    "data[1455:1460]"
   ]
  },
  {
   "cell_type": "code",
   "execution_count": 2,
   "id": "8f0e57f2",
   "metadata": {},
   "outputs": [],
   "source": [
    "import geopandas as gpd\n",
    "import matplotlib.pyplot as plt\n",
    "import pandas as pd\n",
    "from shapely.geometry import Point\n",
    "import pyproj\n",
    "from fiona.crs import from_epsg\n",
    "import numpy as np\n",
    "from geopandas import GeoDataFrame\n",
    "from datetime import timedelta, date\n",
    "import datetime"
   ]
  },
  {
   "cell_type": "code",
   "execution_count": 52,
   "id": "98476b9a",
   "metadata": {},
   "outputs": [],
   "source": [
    "import pandas as pd\n",
    "import matplotlib.pyplot as plt\n",
    "from linear_imputation import impute, Imputer\n",
    "import numpy as np\n",
    "from scipy.interpolate import interp1d\n",
    "import geopandas as gpd"
   ]
  },
  {
   "cell_type": "code",
   "execution_count": 53,
   "id": "4eb5c9ce",
   "metadata": {},
   "outputs": [],
   "source": [
    "plt.rcParams[\"font.family\"] = \"NanumGothic\"\n",
    "plt.rcParams[\"figure.figsize\"] = (10,20)"
   ]
  },
  {
   "cell_type": "code",
   "execution_count": 54,
   "id": "aaa6cfd4",
   "metadata": {},
   "outputs": [
    {
     "data": {
      "text/html": [
       "<div>\n",
       "<style scoped>\n",
       "    .dataframe tbody tr th:only-of-type {\n",
       "        vertical-align: middle;\n",
       "    }\n",
       "\n",
       "    .dataframe tbody tr th {\n",
       "        vertical-align: top;\n",
       "    }\n",
       "\n",
       "    .dataframe thead th {\n",
       "        text-align: right;\n",
       "    }\n",
       "</style>\n",
       "<table border=\"1\" class=\"dataframe\">\n",
       "  <thead>\n",
       "    <tr style=\"text-align: right;\">\n",
       "      <th></th>\n",
       "      <th>기준일ID</th>\n",
       "      <th>시군구명</th>\n",
       "      <th>총생활인구수</th>\n",
       "    </tr>\n",
       "  </thead>\n",
       "  <tbody>\n",
       "    <tr>\n",
       "      <th>0</th>\n",
       "      <td>20221206</td>\n",
       "      <td>성동구</td>\n",
       "      <td>372213.1077</td>\n",
       "    </tr>\n",
       "    <tr>\n",
       "      <th>1</th>\n",
       "      <td>20221206</td>\n",
       "      <td>광진구</td>\n",
       "      <td>383428.6789</td>\n",
       "    </tr>\n",
       "    <tr>\n",
       "      <th>2</th>\n",
       "      <td>20221206</td>\n",
       "      <td>동대문구</td>\n",
       "      <td>388461.3519</td>\n",
       "    </tr>\n",
       "    <tr>\n",
       "      <th>3</th>\n",
       "      <td>20221206</td>\n",
       "      <td>중랑구</td>\n",
       "      <td>347697.7961</td>\n",
       "    </tr>\n",
       "    <tr>\n",
       "      <th>4</th>\n",
       "      <td>20221205</td>\n",
       "      <td>성동구</td>\n",
       "      <td>370973.6411</td>\n",
       "    </tr>\n",
       "  </tbody>\n",
       "</table>\n",
       "</div>"
      ],
      "text/plain": [
       "      기준일ID  시군구명       총생활인구수\n",
       "0  20221206   성동구  372213.1077\n",
       "1  20221206   광진구  383428.6789\n",
       "2  20221206  동대문구  388461.3519\n",
       "3  20221206   중랑구  347697.7961\n",
       "4  20221205   성동구  370973.6411"
      ]
     },
     "execution_count": 54,
     "metadata": {},
     "output_type": "execute_result"
    }
   ],
   "source": [
    "data = pd.read_csv(\"./variable/pre/pre_variable_people.csv\", encoding='cp949')\n",
    "data = data[data[\"시군구명\"].isin([\"광진구\", \"동대문구\", \"성동구\", \"중랑구\"])]\n",
    "data = data[[\"기준일ID\", \"시군구명\", \"총생활인구수\"]]\n",
    "data.reset_index(drop=True, inplace=True)\n",
    "data.head()"
   ]
  },
  {
   "cell_type": "code",
   "execution_count": 55,
   "id": "f1a14fd9",
   "metadata": {},
   "outputs": [],
   "source": [
    "data_1 = data[data[\"시군구명\"]==\"광진구\"]\n",
    "data_1 = data_1.reindex(index=data_1.index[::-1])\n",
    "data_1.reset_index(drop=True, inplace=True)\n",
    "\n",
    "data_2 = data[data[\"시군구명\"]==\"동대문구\"]\n",
    "data_2 = data_2.reindex(index=data_2.index[::-1])\n",
    "data_2.reset_index(drop=True, inplace=True)\n",
    "\n",
    "data_3 = data[data[\"시군구명\"]==\"성동구\"]\n",
    "data_3 = data_3.reindex(index=data_3.index[::-1])\n",
    "data_3.reset_index(drop=True, inplace=True)\n",
    "\n",
    "data_4 = data[data[\"시군구명\"]==\"중랑구\"]\n",
    "data_4 = data_4.reindex(index=data_4.index[::-1])\n",
    "data_4.reset_index(drop=True, inplace=True)"
   ]
  },
  {
   "cell_type": "code",
   "execution_count": 56,
   "id": "46a494d6",
   "metadata": {},
   "outputs": [
    {
     "data": {
      "text/html": [
       "<div>\n",
       "<style scoped>\n",
       "    .dataframe tbody tr th:only-of-type {\n",
       "        vertical-align: middle;\n",
       "    }\n",
       "\n",
       "    .dataframe tbody tr th {\n",
       "        vertical-align: top;\n",
       "    }\n",
       "\n",
       "    .dataframe thead th {\n",
       "        text-align: right;\n",
       "    }\n",
       "</style>\n",
       "<table border=\"1\" class=\"dataframe\">\n",
       "  <thead>\n",
       "    <tr style=\"text-align: right;\">\n",
       "      <th></th>\n",
       "      <th>기준일ID</th>\n",
       "      <th>시군구명</th>\n",
       "      <th>총생활인구수</th>\n",
       "    </tr>\n",
       "  </thead>\n",
       "  <tbody>\n",
       "    <tr>\n",
       "      <th>0</th>\n",
       "      <td>20180405</td>\n",
       "      <td>광진구</td>\n",
       "      <td>419550.0456</td>\n",
       "    </tr>\n",
       "    <tr>\n",
       "      <th>1</th>\n",
       "      <td>20180406</td>\n",
       "      <td>광진구</td>\n",
       "      <td>419100.5912</td>\n",
       "    </tr>\n",
       "    <tr>\n",
       "      <th>2</th>\n",
       "      <td>20180407</td>\n",
       "      <td>광진구</td>\n",
       "      <td>433660.4614</td>\n",
       "    </tr>\n",
       "    <tr>\n",
       "      <th>3</th>\n",
       "      <td>20180408</td>\n",
       "      <td>광진구</td>\n",
       "      <td>431473.0325</td>\n",
       "    </tr>\n",
       "    <tr>\n",
       "      <th>4</th>\n",
       "      <td>20180409</td>\n",
       "      <td>광진구</td>\n",
       "      <td>420001.7360</td>\n",
       "    </tr>\n",
       "  </tbody>\n",
       "</table>\n",
       "</div>"
      ],
      "text/plain": [
       "      기준일ID 시군구명       총생활인구수\n",
       "0  20180405  광진구  419550.0456\n",
       "1  20180406  광진구  419100.5912\n",
       "2  20180407  광진구  433660.4614\n",
       "3  20180408  광진구  431473.0325\n",
       "4  20180409  광진구  420001.7360"
      ]
     },
     "execution_count": 56,
     "metadata": {},
     "output_type": "execute_result"
    }
   ],
   "source": [
    "data_1.head()"
   ]
  },
  {
   "cell_type": "code",
   "execution_count": 57,
   "id": "58d60753",
   "metadata": {},
   "outputs": [],
   "source": [
    "def converting_to_real_dt(col):\n",
    "    new_col = []\n",
    "    format_t = '%Y%m%d'\n",
    "    for i in col:\n",
    "        dt = datetime.datetime.strptime(str(i), format_t).date()\n",
    "        new_col.append(dt)\n",
    "    return new_col"
   ]
  },
  {
   "cell_type": "code",
   "execution_count": 58,
   "id": "4d1862bc",
   "metadata": {},
   "outputs": [
    {
     "data": {
      "text/html": [
       "<div>\n",
       "<style scoped>\n",
       "    .dataframe tbody tr th:only-of-type {\n",
       "        vertical-align: middle;\n",
       "    }\n",
       "\n",
       "    .dataframe tbody tr th {\n",
       "        vertical-align: top;\n",
       "    }\n",
       "\n",
       "    .dataframe thead th {\n",
       "        text-align: right;\n",
       "    }\n",
       "</style>\n",
       "<table border=\"1\" class=\"dataframe\">\n",
       "  <thead>\n",
       "    <tr style=\"text-align: right;\">\n",
       "      <th></th>\n",
       "      <th>기준일ID</th>\n",
       "      <th>시군구명</th>\n",
       "      <th>총생활인구수</th>\n",
       "      <th>date</th>\n",
       "    </tr>\n",
       "  </thead>\n",
       "  <tbody>\n",
       "    <tr>\n",
       "      <th>0</th>\n",
       "      <td>20180405</td>\n",
       "      <td>광진구</td>\n",
       "      <td>419550.0456</td>\n",
       "      <td>2018-04-05</td>\n",
       "    </tr>\n",
       "    <tr>\n",
       "      <th>1</th>\n",
       "      <td>20180406</td>\n",
       "      <td>광진구</td>\n",
       "      <td>419100.5912</td>\n",
       "      <td>2018-04-06</td>\n",
       "    </tr>\n",
       "    <tr>\n",
       "      <th>2</th>\n",
       "      <td>20180407</td>\n",
       "      <td>광진구</td>\n",
       "      <td>433660.4614</td>\n",
       "      <td>2018-04-07</td>\n",
       "    </tr>\n",
       "    <tr>\n",
       "      <th>3</th>\n",
       "      <td>20180408</td>\n",
       "      <td>광진구</td>\n",
       "      <td>431473.0325</td>\n",
       "      <td>2018-04-08</td>\n",
       "    </tr>\n",
       "    <tr>\n",
       "      <th>4</th>\n",
       "      <td>20180409</td>\n",
       "      <td>광진구</td>\n",
       "      <td>420001.7360</td>\n",
       "      <td>2018-04-09</td>\n",
       "    </tr>\n",
       "  </tbody>\n",
       "</table>\n",
       "</div>"
      ],
      "text/plain": [
       "      기준일ID 시군구명       총생활인구수        date\n",
       "0  20180405  광진구  419550.0456  2018-04-05\n",
       "1  20180406  광진구  419100.5912  2018-04-06\n",
       "2  20180407  광진구  433660.4614  2018-04-07\n",
       "3  20180408  광진구  431473.0325  2018-04-08\n",
       "4  20180409  광진구  420001.7360  2018-04-09"
      ]
     },
     "execution_count": 58,
     "metadata": {},
     "output_type": "execute_result"
    }
   ],
   "source": [
    "data_1[\"date\"] = converting_to_real_dt(data_1[\"기준일ID\"])\n",
    "data_2[\"date\"] = converting_to_real_dt(data_2[\"기준일ID\"])\n",
    "data_3[\"date\"] = converting_to_real_dt(data_3[\"기준일ID\"])\n",
    "data_4[\"date\"] = converting_to_real_dt(data_4[\"기준일ID\"])\n",
    "data_1.head()"
   ]
  },
  {
   "cell_type": "code",
   "execution_count": 59,
   "id": "bcb7eb3b",
   "metadata": {},
   "outputs": [],
   "source": [
    "date_l = []\n",
    "def daterange(date1, date2):\n",
    "    for n in range(int ((date2 - date1).days)+1):\n",
    "        yield date1 + timedelta(n)\n",
    "\n",
    "start_dt = date(2018, 1, 1)\n",
    "end_dt = date(2022, 11, 30)\n",
    "for dt in daterange(start_dt, end_dt):\n",
    "    date_l.append(dt)"
   ]
  },
  {
   "cell_type": "code",
   "execution_count": 60,
   "id": "4c9efeee",
   "metadata": {},
   "outputs": [
    {
     "data": {
      "text/html": [
       "<div>\n",
       "<style scoped>\n",
       "    .dataframe tbody tr th:only-of-type {\n",
       "        vertical-align: middle;\n",
       "    }\n",
       "\n",
       "    .dataframe tbody tr th {\n",
       "        vertical-align: top;\n",
       "    }\n",
       "\n",
       "    .dataframe thead th {\n",
       "        text-align: right;\n",
       "    }\n",
       "</style>\n",
       "<table border=\"1\" class=\"dataframe\">\n",
       "  <thead>\n",
       "    <tr style=\"text-align: right;\">\n",
       "      <th></th>\n",
       "      <th>date</th>\n",
       "    </tr>\n",
       "  </thead>\n",
       "  <tbody>\n",
       "    <tr>\n",
       "      <th>0</th>\n",
       "      <td>2018-01-01</td>\n",
       "    </tr>\n",
       "    <tr>\n",
       "      <th>1</th>\n",
       "      <td>2018-01-02</td>\n",
       "    </tr>\n",
       "    <tr>\n",
       "      <th>2</th>\n",
       "      <td>2018-01-03</td>\n",
       "    </tr>\n",
       "    <tr>\n",
       "      <th>3</th>\n",
       "      <td>2018-01-04</td>\n",
       "    </tr>\n",
       "    <tr>\n",
       "      <th>4</th>\n",
       "      <td>2018-01-05</td>\n",
       "    </tr>\n",
       "  </tbody>\n",
       "</table>\n",
       "</div>"
      ],
      "text/plain": [
       "         date\n",
       "0  2018-01-01\n",
       "1  2018-01-02\n",
       "2  2018-01-03\n",
       "3  2018-01-04\n",
       "4  2018-01-05"
      ]
     },
     "execution_count": 60,
     "metadata": {},
     "output_type": "execute_result"
    }
   ],
   "source": [
    "time_std_df = pd.DataFrame({\"date\":date_l})\n",
    "time_std_df.head()"
   ]
  },
  {
   "cell_type": "code",
   "execution_count": 61,
   "id": "7a8a9004",
   "metadata": {},
   "outputs": [
    {
     "data": {
      "text/plain": [
       "419550.0456"
      ]
     },
     "execution_count": 61,
     "metadata": {},
     "output_type": "execute_result"
    }
   ],
   "source": [
    "data_1.iloc[0][\"총생활인구수\"]"
   ]
  },
  {
   "cell_type": "code",
   "execution_count": 62,
   "id": "09a421b6",
   "metadata": {},
   "outputs": [
    {
     "data": {
      "text/html": [
       "<div>\n",
       "<style scoped>\n",
       "    .dataframe tbody tr th:only-of-type {\n",
       "        vertical-align: middle;\n",
       "    }\n",
       "\n",
       "    .dataframe tbody tr th {\n",
       "        vertical-align: top;\n",
       "    }\n",
       "\n",
       "    .dataframe thead th {\n",
       "        text-align: right;\n",
       "    }\n",
       "</style>\n",
       "<table border=\"1\" class=\"dataframe\">\n",
       "  <thead>\n",
       "    <tr style=\"text-align: right;\">\n",
       "      <th></th>\n",
       "      <th>date</th>\n",
       "      <th>총생활인구수</th>\n",
       "    </tr>\n",
       "  </thead>\n",
       "  <tbody>\n",
       "    <tr>\n",
       "      <th>0</th>\n",
       "      <td>2018-01-01</td>\n",
       "      <td>419550.0456</td>\n",
       "    </tr>\n",
       "    <tr>\n",
       "      <th>1</th>\n",
       "      <td>2018-01-02</td>\n",
       "      <td>419550.0456</td>\n",
       "    </tr>\n",
       "    <tr>\n",
       "      <th>2</th>\n",
       "      <td>2018-01-03</td>\n",
       "      <td>419550.0456</td>\n",
       "    </tr>\n",
       "    <tr>\n",
       "      <th>3</th>\n",
       "      <td>2018-01-04</td>\n",
       "      <td>419550.0456</td>\n",
       "    </tr>\n",
       "    <tr>\n",
       "      <th>4</th>\n",
       "      <td>2018-01-05</td>\n",
       "      <td>419550.0456</td>\n",
       "    </tr>\n",
       "    <tr>\n",
       "      <th>...</th>\n",
       "      <td>...</td>\n",
       "      <td>...</td>\n",
       "    </tr>\n",
       "    <tr>\n",
       "      <th>1790</th>\n",
       "      <td>2022-11-26</td>\n",
       "      <td>387212.3749</td>\n",
       "    </tr>\n",
       "    <tr>\n",
       "      <th>1791</th>\n",
       "      <td>2022-11-27</td>\n",
       "      <td>389374.6008</td>\n",
       "    </tr>\n",
       "    <tr>\n",
       "      <th>1792</th>\n",
       "      <td>2022-11-28</td>\n",
       "      <td>382144.4302</td>\n",
       "    </tr>\n",
       "    <tr>\n",
       "      <th>1793</th>\n",
       "      <td>2022-11-29</td>\n",
       "      <td>382038.2690</td>\n",
       "    </tr>\n",
       "    <tr>\n",
       "      <th>1794</th>\n",
       "      <td>2022-11-30</td>\n",
       "      <td>382765.7203</td>\n",
       "    </tr>\n",
       "  </tbody>\n",
       "</table>\n",
       "<p>1795 rows × 2 columns</p>\n",
       "</div>"
      ],
      "text/plain": [
       "            date       총생활인구수\n",
       "0     2018-01-01  419550.0456\n",
       "1     2018-01-02  419550.0456\n",
       "2     2018-01-03  419550.0456\n",
       "3     2018-01-04  419550.0456\n",
       "4     2018-01-05  419550.0456\n",
       "...          ...          ...\n",
       "1790  2022-11-26  387212.3749\n",
       "1791  2022-11-27  389374.6008\n",
       "1792  2022-11-28  382144.4302\n",
       "1793  2022-11-29  382038.2690\n",
       "1794  2022-11-30  382765.7203\n",
       "\n",
       "[1795 rows x 2 columns]"
      ]
     },
     "execution_count": 62,
     "metadata": {},
     "output_type": "execute_result"
    }
   ],
   "source": [
    "left_df = time_std_df.copy()\n",
    "m_1 = left_df.merge(data_1, on='date', how='left')\n",
    "m_1.drop([\"기준일ID\", \"시군구명\"], axis=1, inplace=True)\n",
    "m_1.fillna(data_1.iloc[0][\"총생활인구수\"], inplace=True)\n",
    "m_1"
   ]
  },
  {
   "cell_type": "code",
   "execution_count": 63,
   "id": "8cfedf8c",
   "metadata": {},
   "outputs": [],
   "source": [
    "m_1.to_csv(\"./variable/population_Gwang.csv\", encoding=\"utf-8\")"
   ]
  },
  {
   "cell_type": "code",
   "execution_count": 64,
   "id": "a07c6ce5",
   "metadata": {},
   "outputs": [],
   "source": [
    "left_df = time_std_df.copy()\n",
    "m_2 = left_df.merge(data_2, on='date', how='left')\n",
    "m_2.drop([\"기준일ID\", \"시군구명\"], axis=1, inplace=True)\n",
    "m_2.fillna(data_2.iloc[0][\"총생활인구수\"], inplace=True)\n",
    "m_2.to_csv(\"./variable/population_Dong.csv\", encoding=\"utf-8\")"
   ]
  },
  {
   "cell_type": "code",
   "execution_count": 65,
   "id": "acd7bd33",
   "metadata": {},
   "outputs": [],
   "source": [
    "left_df = time_std_df.copy()\n",
    "m_3 = left_df.merge(data_3, on='date', how='left')\n",
    "m_3.drop([\"기준일ID\", \"시군구명\"], axis=1, inplace=True)\n",
    "m_3.fillna(data_3.iloc[0][\"총생활인구수\"], inplace=True)\n",
    "m_3.to_csv(\"./variable/population_Seong.csv\", encoding=\"utf-8\")"
   ]
  },
  {
   "cell_type": "code",
   "execution_count": 66,
   "id": "ca585c6b",
   "metadata": {},
   "outputs": [],
   "source": [
    "left_df = time_std_df.copy()\n",
    "m_4 = left_df.merge(data_4, on='date', how='left')\n",
    "m_4.drop([\"기준일ID\", \"시군구명\"], axis=1, inplace=True)\n",
    "m_4.fillna(data_4.iloc[0][\"총생활인구수\"], inplace=True)\n",
    "m_4.to_csv(\"./variable/population_Jung.csv\", encoding=\"utf-8\")"
   ]
  }
 ],
 "metadata": {
  "kernelspec": {
   "display_name": "Python 3 (ipykernel)",
   "language": "python",
   "name": "python3"
  },
  "language_info": {
   "codemirror_mode": {
    "name": "ipython",
    "version": 3
   },
   "file_extension": ".py",
   "mimetype": "text/x-python",
   "name": "python",
   "nbconvert_exporter": "python",
   "pygments_lexer": "ipython3",
   "version": "3.9.12"
  }
 },
 "nbformat": 4,
 "nbformat_minor": 5
}
