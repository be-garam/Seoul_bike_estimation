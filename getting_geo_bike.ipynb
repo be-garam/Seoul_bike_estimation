{
 "cells": [
  {
   "cell_type": "code",
   "execution_count": 1,
   "id": "e5d92443",
   "metadata": {},
   "outputs": [],
   "source": [
    "import geopandas as gpd\n",
    "import matplotlib.pyplot as plt\n",
    "import pandas as pd\n",
    "\n",
    "from shapely.geometry import Point\n",
    "import pyproj\n",
    "from fiona.crs import from_epsg\n",
    "import numpy as np\n",
    "from geopandas import GeoDataFrame\n",
    "import datetime\n",
    "from datetime import timedelta, date"
   ]
  },
  {
   "cell_type": "code",
   "execution_count": 9,
   "id": "9e14a47d",
   "metadata": {},
   "outputs": [
    {
     "data": {
      "text/html": [
       "<div>\n",
       "<style scoped>\n",
       "    .dataframe tbody tr th:only-of-type {\n",
       "        vertical-align: middle;\n",
       "    }\n",
       "\n",
       "    .dataframe tbody tr th {\n",
       "        vertical-align: top;\n",
       "    }\n",
       "\n",
       "    .dataframe thead th {\n",
       "        text-align: right;\n",
       "    }\n",
       "</style>\n",
       "<table border=\"1\" class=\"dataframe\">\n",
       "  <thead>\n",
       "    <tr style=\"text-align: right;\">\n",
       "      <th></th>\n",
       "      <th>date</th>\n",
       "      <th>clear_day</th>\n",
       "      <th>day_view_time</th>\n",
       "      <th>lst</th>\n",
       "    </tr>\n",
       "  </thead>\n",
       "  <tbody>\n",
       "    <tr>\n",
       "      <th>0</th>\n",
       "      <td>2018-01-01</td>\n",
       "      <td>3270.112224</td>\n",
       "      <td>118.000000</td>\n",
       "      <td>13812.856056</td>\n",
       "    </tr>\n",
       "    <tr>\n",
       "      <th>1</th>\n",
       "      <td>2018-01-02</td>\n",
       "      <td>2052.823966</td>\n",
       "      <td>108.971805</td>\n",
       "      <td>13781.626043</td>\n",
       "    </tr>\n",
       "    <tr>\n",
       "      <th>2</th>\n",
       "      <td>2018-01-03</td>\n",
       "      <td>2847.852161</td>\n",
       "      <td>115.490633</td>\n",
       "      <td>13700.363383</td>\n",
       "    </tr>\n",
       "    <tr>\n",
       "      <th>3</th>\n",
       "      <td>2018-01-04</td>\n",
       "      <td>2009.861968</td>\n",
       "      <td>106.000000</td>\n",
       "      <td>13473.226647</td>\n",
       "    </tr>\n",
       "    <tr>\n",
       "      <th>4</th>\n",
       "      <td>2018-01-05</td>\n",
       "      <td>2853.656464</td>\n",
       "      <td>113.000000</td>\n",
       "      <td>13773.602300</td>\n",
       "    </tr>\n",
       "  </tbody>\n",
       "</table>\n",
       "</div>"
      ],
      "text/plain": [
       "         date    clear_day  day_view_time           lst\n",
       "0  2018-01-01  3270.112224     118.000000  13812.856056\n",
       "1  2018-01-02  2052.823966     108.971805  13781.626043\n",
       "2  2018-01-03  2847.852161     115.490633  13700.363383\n",
       "3  2018-01-04  2009.861968     106.000000  13473.226647\n",
       "4  2018-01-05  2853.656464     113.000000  13773.602300"
      ]
     },
     "execution_count": 9,
     "metadata": {},
     "output_type": "execute_result"
    }
   ],
   "source": [
    "data = pd.read_csv(\"./variable/weather_Seong.csv\", encoding=\"utf-8\")\n",
    "data.drop([\"Unnamed: 0\"], axis=1,inplace=True)\n",
    "data.head()"
   ]
  },
  {
   "cell_type": "code",
   "execution_count": 2,
   "id": "15cf2ae8",
   "metadata": {},
   "outputs": [],
   "source": [
    "plt.rcParams[\"font.family\"] = \"NanumGothic\"\n",
    "plt.rcParams[\"figure.figsize\"] = (10,20)"
   ]
  },
  {
   "cell_type": "code",
   "execution_count": 3,
   "id": "2692d15d",
   "metadata": {},
   "outputs": [
    {
     "data": {
      "text/html": [
       "<div>\n",
       "<style scoped>\n",
       "    .dataframe tbody tr th:only-of-type {\n",
       "        vertical-align: middle;\n",
       "    }\n",
       "\n",
       "    .dataframe tbody tr th {\n",
       "        vertical-align: top;\n",
       "    }\n",
       "\n",
       "    .dataframe thead th {\n",
       "        text-align: right;\n",
       "    }\n",
       "</style>\n",
       "<table border=\"1\" class=\"dataframe\">\n",
       "  <thead>\n",
       "    <tr style=\"text-align: right;\">\n",
       "      <th></th>\n",
       "      <th>num</th>\n",
       "      <th>보관소(대여소)명</th>\n",
       "      <th>SG_CD</th>\n",
       "      <th>위도</th>\n",
       "      <th>경도</th>\n",
       "      <th>time</th>\n",
       "      <th>LCD</th>\n",
       "      <th>QR</th>\n",
       "      <th>res</th>\n",
       "    </tr>\n",
       "  </thead>\n",
       "  <tbody>\n",
       "    <tr>\n",
       "      <th>337</th>\n",
       "      <td>500</td>\n",
       "      <td>어린이대공원역 3번출구 앞</td>\n",
       "      <td>광진구</td>\n",
       "      <td>37.547070</td>\n",
       "      <td>127.074272</td>\n",
       "      <td>2015-10-07</td>\n",
       "      <td>10.0</td>\n",
       "      <td>NaN</td>\n",
       "      <td>LCD</td>\n",
       "    </tr>\n",
       "    <tr>\n",
       "      <th>338</th>\n",
       "      <td>501</td>\n",
       "      <td>광진구의회 앞</td>\n",
       "      <td>광진구</td>\n",
       "      <td>37.537308</td>\n",
       "      <td>127.070351</td>\n",
       "      <td>2015-10-07</td>\n",
       "      <td>NaN</td>\n",
       "      <td>30.0</td>\n",
       "      <td>QR</td>\n",
       "    </tr>\n",
       "    <tr>\n",
       "      <th>339</th>\n",
       "      <td>502</td>\n",
       "      <td>뚝섬유원지역 1번출구 앞</td>\n",
       "      <td>광진구</td>\n",
       "      <td>37.531860</td>\n",
       "      <td>127.067192</td>\n",
       "      <td>2015-10-07</td>\n",
       "      <td>NaN</td>\n",
       "      <td>17.0</td>\n",
       "      <td>QR</td>\n",
       "    </tr>\n",
       "    <tr>\n",
       "      <th>340</th>\n",
       "      <td>505</td>\n",
       "      <td>자양사거리 광진아크로텔 앞</td>\n",
       "      <td>광진구</td>\n",
       "      <td>37.537010</td>\n",
       "      <td>127.082245</td>\n",
       "      <td>2015-10-07</td>\n",
       "      <td>NaN</td>\n",
       "      <td>12.0</td>\n",
       "      <td>QR</td>\n",
       "    </tr>\n",
       "    <tr>\n",
       "      <th>341</th>\n",
       "      <td>506</td>\n",
       "      <td>금호 어울림 아파트 앞</td>\n",
       "      <td>성동구</td>\n",
       "      <td>37.549061</td>\n",
       "      <td>127.057793</td>\n",
       "      <td>2015-10-07</td>\n",
       "      <td>7.0</td>\n",
       "      <td>NaN</td>\n",
       "      <td>LCD</td>\n",
       "    </tr>\n",
       "  </tbody>\n",
       "</table>\n",
       "</div>"
      ],
      "text/plain": [
       "     num       보관소(대여소)명 SG_CD         위도          경도        time   LCD    QR  \\\n",
       "337  500  어린이대공원역 3번출구 앞   광진구  37.547070  127.074272  2015-10-07  10.0   NaN   \n",
       "338  501         광진구의회 앞   광진구  37.537308  127.070351  2015-10-07   NaN  30.0   \n",
       "339  502   뚝섬유원지역 1번출구 앞   광진구  37.531860  127.067192  2015-10-07   NaN  17.0   \n",
       "340  505  자양사거리 광진아크로텔 앞   광진구  37.537010  127.082245  2015-10-07   NaN  12.0   \n",
       "341  506    금호 어울림 아파트 앞   성동구  37.549061  127.057793  2015-10-07   7.0   NaN   \n",
       "\n",
       "     res  \n",
       "337  LCD  \n",
       "338   QR  \n",
       "339   QR  \n",
       "340   QR  \n",
       "341  LCD  "
      ]
     },
     "execution_count": 3,
     "metadata": {},
     "output_type": "execute_result"
    }
   ],
   "source": [
    "data = pd.read_csv(\"./standard/pre/bike_2206.csv\", encoding='cp949')\n",
    "data = data[data[\"SG_CD\"].isin([\"광진구\", \"동대문구\", \"성동구\", \"중랑구\"])]\n",
    "data.head()"
   ]
  },
  {
   "cell_type": "code",
   "execution_count": 4,
   "id": "a5a7e15a",
   "metadata": {},
   "outputs": [
    {
     "data": {
      "text/plain": [
       "Index(['num', '보관소(대여소)명', 'SG_CD', '위도', '경도', 'time', 'LCD', 'QR', 'res'], dtype='object')"
      ]
     },
     "execution_count": 4,
     "metadata": {},
     "output_type": "execute_result"
    }
   ],
   "source": [
    "data.columns"
   ]
  },
  {
   "cell_type": "code",
   "execution_count": 5,
   "id": "52d41c7d",
   "metadata": {},
   "outputs": [
    {
     "data": {
      "text/html": [
       "<div>\n",
       "<style scoped>\n",
       "    .dataframe tbody tr th:only-of-type {\n",
       "        vertical-align: middle;\n",
       "    }\n",
       "\n",
       "    .dataframe tbody tr th {\n",
       "        vertical-align: top;\n",
       "    }\n",
       "\n",
       "    .dataframe thead th {\n",
       "        text-align: right;\n",
       "    }\n",
       "</style>\n",
       "<table border=\"1\" class=\"dataframe\">\n",
       "  <thead>\n",
       "    <tr style=\"text-align: right;\">\n",
       "      <th></th>\n",
       "      <th>num</th>\n",
       "      <th>SG_CD</th>\n",
       "      <th>위도</th>\n",
       "      <th>경도</th>\n",
       "      <th>time</th>\n",
       "      <th>count</th>\n",
       "    </tr>\n",
       "  </thead>\n",
       "  <tbody>\n",
       "    <tr>\n",
       "      <th>0</th>\n",
       "      <td>500</td>\n",
       "      <td>광진구</td>\n",
       "      <td>37.547070</td>\n",
       "      <td>127.074272</td>\n",
       "      <td>2015-10-07</td>\n",
       "      <td>10.0</td>\n",
       "    </tr>\n",
       "    <tr>\n",
       "      <th>1</th>\n",
       "      <td>501</td>\n",
       "      <td>광진구</td>\n",
       "      <td>37.537308</td>\n",
       "      <td>127.070351</td>\n",
       "      <td>2015-10-07</td>\n",
       "      <td>30.0</td>\n",
       "    </tr>\n",
       "    <tr>\n",
       "      <th>2</th>\n",
       "      <td>502</td>\n",
       "      <td>광진구</td>\n",
       "      <td>37.531860</td>\n",
       "      <td>127.067192</td>\n",
       "      <td>2015-10-07</td>\n",
       "      <td>17.0</td>\n",
       "    </tr>\n",
       "    <tr>\n",
       "      <th>3</th>\n",
       "      <td>505</td>\n",
       "      <td>광진구</td>\n",
       "      <td>37.537010</td>\n",
       "      <td>127.082245</td>\n",
       "      <td>2015-10-07</td>\n",
       "      <td>12.0</td>\n",
       "    </tr>\n",
       "    <tr>\n",
       "      <th>4</th>\n",
       "      <td>506</td>\n",
       "      <td>성동구</td>\n",
       "      <td>37.549061</td>\n",
       "      <td>127.057793</td>\n",
       "      <td>2015-10-07</td>\n",
       "      <td>7.0</td>\n",
       "    </tr>\n",
       "  </tbody>\n",
       "</table>\n",
       "</div>"
      ],
      "text/plain": [
       "   num SG_CD         위도          경도        time  count\n",
       "0  500   광진구  37.547070  127.074272  2015-10-07   10.0\n",
       "1  501   광진구  37.537308  127.070351  2015-10-07   30.0\n",
       "2  502   광진구  37.531860  127.067192  2015-10-07   17.0\n",
       "3  505   광진구  37.537010  127.082245  2015-10-07   12.0\n",
       "4  506   성동구  37.549061  127.057793  2015-10-07    7.0"
      ]
     },
     "execution_count": 5,
     "metadata": {},
     "output_type": "execute_result"
    }
   ],
   "source": [
    "data.fillna(0, inplace=True)\n",
    "data[\"count\"] = data[\"LCD\"]+data[\"QR\"]\n",
    "data.drop([\"보관소(대여소)명\", \"LCD\", \"QR\", 'res'], axis=1, inplace=True)\n",
    "data.reset_index(drop=True, inplace=True)\n",
    "data.head()"
   ]
  },
  {
   "cell_type": "code",
   "execution_count": 6,
   "id": "e46343b3",
   "metadata": {},
   "outputs": [
    {
     "data": {
      "text/plain": [
       "350"
      ]
     },
     "execution_count": 6,
     "metadata": {},
     "output_type": "execute_result"
    }
   ],
   "source": [
    "len(data)"
   ]
  },
  {
   "cell_type": "code",
   "execution_count": 7,
   "id": "37223688",
   "metadata": {},
   "outputs": [],
   "source": [
    "data[[\"위도\", \"경도\"]].to_csv(\"./standard/bike_corr.csv\", encoding=\"utf-8\")"
   ]
  },
  {
   "cell_type": "code",
   "execution_count": 8,
   "id": "f0306172",
   "metadata": {},
   "outputs": [
    {
     "data": {
      "text/plain": [
       "95"
      ]
     },
     "execution_count": 8,
     "metadata": {},
     "output_type": "execute_result"
    }
   ],
   "source": [
    "len(data.time.unique())"
   ]
  },
  {
   "cell_type": "code",
   "execution_count": 9,
   "id": "d03cf8ef",
   "metadata": {},
   "outputs": [],
   "source": [
    "bike_place_count_dict = dict()\n",
    "bike_count_dict = dict()\n",
    "for i in range(len(data)):\n",
    "    time = data.iloc[i].time\n",
    "    count = data.iloc[i][\"count\"]\n",
    "    bike_place_count_dict[time] = bike_place_count_dict.get(time, 0) + 1\n",
    "    bike_count_dict[time] = bike_count_dict.get(time, 0) + int(count)"
   ]
  },
  {
   "cell_type": "code",
   "execution_count": 10,
   "id": "01ad1255",
   "metadata": {},
   "outputs": [
    {
     "name": "stdout",
     "output_type": "stream",
     "text": [
      "{'2015-10-07': 13, '2021-04-02': 1, '2022-05-06': 1, '2016-06-29': 38, '2021-07-29': 1, '2021-03-25': 1, '2020-09-15': 1, '2021-02-06': 1, '2016-07-06': 48, '2016-09-02': 3, '2016-09-20': 1, '2020-12-18': 1, '2017-04-19': 1, '2017-08-30': 3, '2020-10-28': 2, '2017-08-28': 1, '2020-06-18': 2, '2017-11-28': 11, '2018-11-04': 1, '2018-10-22': 5, '2018-08-30': 1, '2018-12-14': 1, '2019-11-20': 1, '2020-04-19': 6, '2020-04-21': 7, '2020-04-22': 2, '2020-03-27': 2, '2020-03-28': 2, '2020-03-30': 1, '2020-04-26': 1, '2020-04-16': 4, '2017-04-26': 21, '2017-05-02': 1, '2017-06-22': 9, '2017-06-27': 1, '2017-08-01': 1, '2017-11-01': 17, '2017-11-29': 1, '2017-12-22': 2, '2018-02-13': 1, '2018-02-26': 4, '2021-10-14': 1, '2018-10-29': 7, '2020-05-05': 2, '2020-04-30': 1, '2020-04-14': 18, '2020-04-20': 2, '2021-08-26': 2, '2021-11-15': 1, '2018-03-23': 1, '2018-04-16': 1, '2018-04-09': 1, '2018-10-24': 5, '2018-10-31': 1, '2018-11-14': 2, '2019-12-16': 1, '2020-04-13': 9, '2020-06-05': 1, '2020-05-11': 1, '2020-04-15': 1, '2020-06-09': 1, '2020-05-07': 3, '2020-07-03': 1, '2020-12-09': 4, '2020-12-10': 3, '2020-12-14': 1, '2021-06-01': 2, '2021-05-18': 1, '2021-07-01': 1, '2021-07-23': 1, '2021-09-24': 1, '2020-09-18': 9, '2020-09-21': 4, '2020-09-17': 1, '2021-10-01': 1, '2020-11-03': 3, '2021-06-25': 1, '2021-04-26': 2, '2021-05-26': 1, '2021-10-27': 1, '2021-10-28': 2, '2022-02-10': 3, '2021-02-15': 3, '2021-02-16': 4, '2021-02-17': 2, '2021-07-02': 1, '2021-07-14': 1, '2021-08-17': 1, '2021-08-28': 2, '2021-09-23': 1, '2021-10-08': 2, '2022-01-12': 2, '2021-11-11': 1, '2021-12-13': 2, '2022-01-03': 1}\n"
     ]
    }
   ],
   "source": [
    "print(bike_place_count_dict)"
   ]
  },
  {
   "cell_type": "code",
   "execution_count": 11,
   "id": "09bf6240",
   "metadata": {},
   "outputs": [
    {
     "data": {
      "text/plain": [
       "True"
      ]
     },
     "execution_count": 11,
     "metadata": {},
     "output_type": "execute_result"
    }
   ],
   "source": [
    "bike_place_count_dict.keys()==bike_count_dict.keys()"
   ]
  },
  {
   "cell_type": "code",
   "execution_count": 12,
   "id": "a587c89d",
   "metadata": {},
   "outputs": [],
   "source": [
    "sorted_time = list(bike_place_count_dict.keys())"
   ]
  },
  {
   "cell_type": "code",
   "execution_count": 13,
   "id": "e0b14a6d",
   "metadata": {},
   "outputs": [],
   "source": [
    "import datetime\n",
    "def converting_to_real_dt(dic):\n",
    "    new_dic = dict()\n",
    "    format_t = '%Y-%m-%d'\n",
    "    for i in sorted_time:\n",
    "        dt = datetime.datetime.strptime(i, format_t).date()\n",
    "        new_dic[dt] = dic[i]\n",
    "    return new_dic"
   ]
  },
  {
   "cell_type": "code",
   "execution_count": 14,
   "id": "3f09dbb2",
   "metadata": {
    "scrolled": true
   },
   "outputs": [
    {
     "data": {
      "text/plain": [
       "{datetime.date(2015, 10, 7): 13,\n",
       " datetime.date(2021, 4, 2): 1,\n",
       " datetime.date(2022, 5, 6): 1,\n",
       " datetime.date(2016, 6, 29): 38,\n",
       " datetime.date(2021, 7, 29): 1,\n",
       " datetime.date(2021, 3, 25): 1,\n",
       " datetime.date(2020, 9, 15): 1,\n",
       " datetime.date(2021, 2, 6): 1,\n",
       " datetime.date(2016, 7, 6): 48,\n",
       " datetime.date(2016, 9, 2): 3,\n",
       " datetime.date(2016, 9, 20): 1,\n",
       " datetime.date(2020, 12, 18): 1,\n",
       " datetime.date(2017, 4, 19): 1,\n",
       " datetime.date(2017, 8, 30): 3,\n",
       " datetime.date(2020, 10, 28): 2,\n",
       " datetime.date(2017, 8, 28): 1,\n",
       " datetime.date(2020, 6, 18): 2,\n",
       " datetime.date(2017, 11, 28): 11,\n",
       " datetime.date(2018, 11, 4): 1,\n",
       " datetime.date(2018, 10, 22): 5,\n",
       " datetime.date(2018, 8, 30): 1,\n",
       " datetime.date(2018, 12, 14): 1,\n",
       " datetime.date(2019, 11, 20): 1,\n",
       " datetime.date(2020, 4, 19): 6,\n",
       " datetime.date(2020, 4, 21): 7,\n",
       " datetime.date(2020, 4, 22): 2,\n",
       " datetime.date(2020, 3, 27): 2,\n",
       " datetime.date(2020, 3, 28): 2,\n",
       " datetime.date(2020, 3, 30): 1,\n",
       " datetime.date(2020, 4, 26): 1,\n",
       " datetime.date(2020, 4, 16): 4,\n",
       " datetime.date(2017, 4, 26): 21,\n",
       " datetime.date(2017, 5, 2): 1,\n",
       " datetime.date(2017, 6, 22): 9,\n",
       " datetime.date(2017, 6, 27): 1,\n",
       " datetime.date(2017, 8, 1): 1,\n",
       " datetime.date(2017, 11, 1): 17,\n",
       " datetime.date(2017, 11, 29): 1,\n",
       " datetime.date(2017, 12, 22): 2,\n",
       " datetime.date(2018, 2, 13): 1,\n",
       " datetime.date(2018, 2, 26): 4,\n",
       " datetime.date(2021, 10, 14): 1,\n",
       " datetime.date(2018, 10, 29): 7,\n",
       " datetime.date(2020, 5, 5): 2,\n",
       " datetime.date(2020, 4, 30): 1,\n",
       " datetime.date(2020, 4, 14): 18,\n",
       " datetime.date(2020, 4, 20): 2,\n",
       " datetime.date(2021, 8, 26): 2,\n",
       " datetime.date(2021, 11, 15): 1,\n",
       " datetime.date(2018, 3, 23): 1,\n",
       " datetime.date(2018, 4, 16): 1,\n",
       " datetime.date(2018, 4, 9): 1,\n",
       " datetime.date(2018, 10, 24): 5,\n",
       " datetime.date(2018, 10, 31): 1,\n",
       " datetime.date(2018, 11, 14): 2,\n",
       " datetime.date(2019, 12, 16): 1,\n",
       " datetime.date(2020, 4, 13): 9,\n",
       " datetime.date(2020, 6, 5): 1,\n",
       " datetime.date(2020, 5, 11): 1,\n",
       " datetime.date(2020, 4, 15): 1,\n",
       " datetime.date(2020, 6, 9): 1,\n",
       " datetime.date(2020, 5, 7): 3,\n",
       " datetime.date(2020, 7, 3): 1,\n",
       " datetime.date(2020, 12, 9): 4,\n",
       " datetime.date(2020, 12, 10): 3,\n",
       " datetime.date(2020, 12, 14): 1,\n",
       " datetime.date(2021, 6, 1): 2,\n",
       " datetime.date(2021, 5, 18): 1,\n",
       " datetime.date(2021, 7, 1): 1,\n",
       " datetime.date(2021, 7, 23): 1,\n",
       " datetime.date(2021, 9, 24): 1,\n",
       " datetime.date(2020, 9, 18): 9,\n",
       " datetime.date(2020, 9, 21): 4,\n",
       " datetime.date(2020, 9, 17): 1,\n",
       " datetime.date(2021, 10, 1): 1,\n",
       " datetime.date(2020, 11, 3): 3,\n",
       " datetime.date(2021, 6, 25): 1,\n",
       " datetime.date(2021, 4, 26): 2,\n",
       " datetime.date(2021, 5, 26): 1,\n",
       " datetime.date(2021, 10, 27): 1,\n",
       " datetime.date(2021, 10, 28): 2,\n",
       " datetime.date(2022, 2, 10): 3,\n",
       " datetime.date(2021, 2, 15): 3,\n",
       " datetime.date(2021, 2, 16): 4,\n",
       " datetime.date(2021, 2, 17): 2,\n",
       " datetime.date(2021, 7, 2): 1,\n",
       " datetime.date(2021, 7, 14): 1,\n",
       " datetime.date(2021, 8, 17): 1,\n",
       " datetime.date(2021, 8, 28): 2,\n",
       " datetime.date(2021, 9, 23): 1,\n",
       " datetime.date(2021, 10, 8): 2,\n",
       " datetime.date(2022, 1, 12): 2,\n",
       " datetime.date(2021, 11, 11): 1,\n",
       " datetime.date(2021, 12, 13): 2,\n",
       " datetime.date(2022, 1, 3): 1}"
      ]
     },
     "execution_count": 14,
     "metadata": {},
     "output_type": "execute_result"
    }
   ],
   "source": [
    "bpc_dict = converting_to_real_dt(bike_place_count_dict)\n",
    "bpc_dict"
   ]
  },
  {
   "cell_type": "code",
   "execution_count": 15,
   "id": "45db8c9e",
   "metadata": {},
   "outputs": [
    {
     "name": "stdout",
     "output_type": "stream",
     "text": [
      "<class 'datetime.date'>\n"
     ]
    }
   ],
   "source": [
    "format_t = '%Y-%m-%d'\n",
    "print(type(datetime.datetime.strptime(\"2018-01-18\", format_t).date()))"
   ]
  },
  {
   "cell_type": "code",
   "execution_count": 16,
   "id": "e991ca84",
   "metadata": {},
   "outputs": [],
   "source": [
    "count = 0\n",
    "for i in bpc_dict.keys():\n",
    "    if i < datetime.datetime.strptime(\"2018-01-18\", format_t).date():\n",
    "        count += bpc_dict[i]"
   ]
  },
  {
   "cell_type": "code",
   "execution_count": 17,
   "id": "6a502f1c",
   "metadata": {},
   "outputs": [
    {
     "data": {
      "text/plain": [
       "172"
      ]
     },
     "execution_count": 17,
     "metadata": {},
     "output_type": "execute_result"
    }
   ],
   "source": [
    "count"
   ]
  },
  {
   "cell_type": "markdown",
   "id": "b101d15c",
   "metadata": {},
   "source": [
    "- 1: 광진구\n",
    "- 2: 동대문구\n",
    "- 3: 성동구\n",
    "- 4: 중랑구"
   ]
  },
  {
   "cell_type": "code",
   "execution_count": 18,
   "id": "364acc1b",
   "metadata": {},
   "outputs": [],
   "source": [
    "data_1 = data[data[\"SG_CD\"]==\"광진구\"]\n",
    "data_2 = data[data[\"SG_CD\"]==\"동대문구\"]\n",
    "data_3 = data[data[\"SG_CD\"]==\"성동구\"]\n",
    "data_4 = data[data[\"SG_CD\"]==\"중랑구\"]"
   ]
  },
  {
   "cell_type": "code",
   "execution_count": 19,
   "id": "22fca5d2",
   "metadata": {},
   "outputs": [
    {
     "name": "stdout",
     "output_type": "stream",
     "text": [
      "86\n"
     ]
    }
   ],
   "source": [
    "print(len(data_1))"
   ]
  },
  {
   "cell_type": "code",
   "execution_count": 20,
   "id": "dcb893d9",
   "metadata": {},
   "outputs": [
    {
     "data": {
      "text/html": [
       "<div>\n",
       "<style scoped>\n",
       "    .dataframe tbody tr th:only-of-type {\n",
       "        vertical-align: middle;\n",
       "    }\n",
       "\n",
       "    .dataframe tbody tr th {\n",
       "        vertical-align: top;\n",
       "    }\n",
       "\n",
       "    .dataframe thead th {\n",
       "        text-align: right;\n",
       "    }\n",
       "</style>\n",
       "<table border=\"1\" class=\"dataframe\">\n",
       "  <thead>\n",
       "    <tr style=\"text-align: right;\">\n",
       "      <th></th>\n",
       "      <th>num</th>\n",
       "      <th>SG_CD</th>\n",
       "      <th>위도</th>\n",
       "      <th>경도</th>\n",
       "      <th>time</th>\n",
       "      <th>count</th>\n",
       "    </tr>\n",
       "  </thead>\n",
       "  <tbody>\n",
       "    <tr>\n",
       "      <th>0</th>\n",
       "      <td>500</td>\n",
       "      <td>광진구</td>\n",
       "      <td>37.547070</td>\n",
       "      <td>127.074272</td>\n",
       "      <td>2015-10-07</td>\n",
       "      <td>10.0</td>\n",
       "    </tr>\n",
       "    <tr>\n",
       "      <th>1</th>\n",
       "      <td>501</td>\n",
       "      <td>광진구</td>\n",
       "      <td>37.537308</td>\n",
       "      <td>127.070351</td>\n",
       "      <td>2015-10-07</td>\n",
       "      <td>30.0</td>\n",
       "    </tr>\n",
       "    <tr>\n",
       "      <th>2</th>\n",
       "      <td>502</td>\n",
       "      <td>광진구</td>\n",
       "      <td>37.531860</td>\n",
       "      <td>127.067192</td>\n",
       "      <td>2015-10-07</td>\n",
       "      <td>17.0</td>\n",
       "    </tr>\n",
       "    <tr>\n",
       "      <th>3</th>\n",
       "      <td>505</td>\n",
       "      <td>광진구</td>\n",
       "      <td>37.537010</td>\n",
       "      <td>127.082245</td>\n",
       "      <td>2015-10-07</td>\n",
       "      <td>12.0</td>\n",
       "    </tr>\n",
       "    <tr>\n",
       "      <th>13</th>\n",
       "      <td>515</td>\n",
       "      <td>광진구</td>\n",
       "      <td>37.530235</td>\n",
       "      <td>127.086830</td>\n",
       "      <td>2015-10-07</td>\n",
       "      <td>15.0</td>\n",
       "    </tr>\n",
       "  </tbody>\n",
       "</table>\n",
       "</div>"
      ],
      "text/plain": [
       "    num SG_CD         위도          경도        time  count\n",
       "0   500   광진구  37.547070  127.074272  2015-10-07   10.0\n",
       "1   501   광진구  37.537308  127.070351  2015-10-07   30.0\n",
       "2   502   광진구  37.531860  127.067192  2015-10-07   17.0\n",
       "3   505   광진구  37.537010  127.082245  2015-10-07   12.0\n",
       "13  515   광진구  37.530235  127.086830  2015-10-07   15.0"
      ]
     },
     "execution_count": 20,
     "metadata": {},
     "output_type": "execute_result"
    }
   ],
   "source": [
    "data_1.head()"
   ]
  },
  {
   "cell_type": "code",
   "execution_count": 21,
   "id": "f8650fc0",
   "metadata": {},
   "outputs": [],
   "source": [
    "def df_to_count_dic(data):\n",
    "    bike_place_count_dict = dict()\n",
    "    bike_count_dict = dict()\n",
    "    for i in range(len(data)):\n",
    "        time = data.iloc[i][\"time\"]\n",
    "        count = data.iloc[i][\"count\"]\n",
    "        bike_place_count_dict[time] = bike_place_count_dict.get(time, 0) + 1\n",
    "        bike_count_dict[time] = bike_count_dict.get(time, 0) + int(count)\n",
    "    return bike_place_count_dict, bike_count_dict"
   ]
  },
  {
   "cell_type": "code",
   "execution_count": 22,
   "id": "0b4a0fc5",
   "metadata": {},
   "outputs": [],
   "source": [
    "def converting_to_real_dt(dic):\n",
    "    new_dic = dict()\n",
    "    format_t = '%Y-%m-%d'\n",
    "    sorted_time = list(dic.keys())\n",
    "    for i in sorted_time:\n",
    "        dt = datetime.datetime.strptime(i, format_t).date()\n",
    "        new_dic[dt] = dic[i]\n",
    "    return new_dic"
   ]
  },
  {
   "cell_type": "code",
   "execution_count": 23,
   "id": "c4ae4433",
   "metadata": {},
   "outputs": [],
   "source": [
    "pre_bpc_dict_1,pre_bc_dict_1 = df_to_count_dic(data_1)\n",
    "bpc_dict_1 = converting_to_real_dt(pre_bpc_dict_1)\n",
    "bc_dict_1 = converting_to_real_dt(pre_bc_dict_1)"
   ]
  },
  {
   "cell_type": "code",
   "execution_count": 24,
   "id": "cdd76b79",
   "metadata": {},
   "outputs": [],
   "source": [
    "pre_bpc_dict_2,pre_bc_dict_2 = df_to_count_dic(data_2)\n",
    "bpc_dict_2 = converting_to_real_dt(pre_bpc_dict_2)\n",
    "bc_dict_2 = converting_to_real_dt(pre_bc_dict_2)"
   ]
  },
  {
   "cell_type": "code",
   "execution_count": 25,
   "id": "575ca2aa",
   "metadata": {},
   "outputs": [],
   "source": [
    "pre_bpc_dict_3,pre_bc_dict_3 = df_to_count_dic(data_3)\n",
    "bpc_dict_3 = converting_to_real_dt(pre_bpc_dict_3)\n",
    "bc_dict_3 = converting_to_real_dt(pre_bc_dict_3)"
   ]
  },
  {
   "cell_type": "code",
   "execution_count": 26,
   "id": "e048195d",
   "metadata": {},
   "outputs": [],
   "source": [
    "pre_bpc_dict_4,pre_bc_dict_4 = df_to_count_dic(data_4)\n",
    "bpc_dict_4 = converting_to_real_dt(pre_bpc_dict_4)\n",
    "bc_dict_4 = converting_to_real_dt(pre_bc_dict_4)"
   ]
  },
  {
   "cell_type": "code",
   "execution_count": 27,
   "id": "2e6d4612",
   "metadata": {},
   "outputs": [],
   "source": [
    "def erasing_bf_2018(dic):\n",
    "    count = 0\n",
    "    del_l = []\n",
    "    date = datetime.datetime.strptime(\"2018-01-01\", format_t).date()\n",
    "    for i in dic.keys():\n",
    "        if i < date:\n",
    "            count += dic[i]\n",
    "            del_l.append(i)\n",
    "    for j in del_l:\n",
    "        del dic[j]\n",
    "    dic[date] = count\n",
    "    return dic"
   ]
  },
  {
   "cell_type": "code",
   "execution_count": 28,
   "id": "1d455e37",
   "metadata": {},
   "outputs": [],
   "source": [
    "bpc_dict_1 = erasing_bf_2018(bpc_dict_1)\n",
    "bpc_dict_2 = erasing_bf_2018(bpc_dict_2)\n",
    "bpc_dict_3 = erasing_bf_2018(bpc_dict_3)\n",
    "bpc_dict_4 = erasing_bf_2018(bpc_dict_4)"
   ]
  },
  {
   "cell_type": "code",
   "execution_count": 29,
   "id": "5d1648af",
   "metadata": {},
   "outputs": [],
   "source": [
    "bc_dict_1 = erasing_bf_2018(bc_dict_1)\n",
    "bc_dict_2 = erasing_bf_2018(bc_dict_2)\n",
    "bc_dict_3 = erasing_bf_2018(bc_dict_3)\n",
    "bc_dict_4 = erasing_bf_2018(bc_dict_4)"
   ]
  },
  {
   "cell_type": "code",
   "execution_count": 30,
   "id": "cc2f2528",
   "metadata": {
    "scrolled": true
   },
   "outputs": [],
   "source": [
    "date_l = []\n",
    "def daterange(date1, date2):\n",
    "    for n in range(int ((date2 - date1).days)+1):\n",
    "        yield date1 + timedelta(n)\n",
    "\n",
    "start_dt = date(2018, 1, 1)\n",
    "end_dt = date(2022, 11, 30)\n",
    "for dt in daterange(start_dt, end_dt):\n",
    "    date_l.append(dt)"
   ]
  },
  {
   "cell_type": "code",
   "execution_count": 31,
   "id": "3ee99db9",
   "metadata": {
    "scrolled": true
   },
   "outputs": [
    {
     "data": {
      "text/plain": [
       "datetime.date(2018, 1, 1)"
      ]
     },
     "execution_count": 31,
     "metadata": {},
     "output_type": "execute_result"
    }
   ],
   "source": [
    "date_l[0]"
   ]
  },
  {
   "cell_type": "code",
   "execution_count": 32,
   "id": "a713ed01",
   "metadata": {},
   "outputs": [
    {
     "data": {
      "text/plain": [
       "1795"
      ]
     },
     "execution_count": 32,
     "metadata": {},
     "output_type": "execute_result"
    }
   ],
   "source": [
    "len(date_l)"
   ]
  },
  {
   "cell_type": "code",
   "execution_count": 33,
   "id": "f3652756",
   "metadata": {},
   "outputs": [
    {
     "name": "stdout",
     "output_type": "stream",
     "text": [
      "[datetime.date(2018, 1, 1), datetime.date(2018, 2, 26), datetime.date(2018, 3, 23), datetime.date(2018, 4, 9), datetime.date(2018, 4, 16), datetime.date(2018, 10, 29), datetime.date(2018, 10, 31), datetime.date(2018, 11, 14), datetime.date(2019, 12, 16), datetime.date(2020, 4, 13), datetime.date(2020, 4, 14), datetime.date(2020, 4, 16), datetime.date(2020, 5, 7), datetime.date(2020, 6, 9), datetime.date(2020, 9, 15), datetime.date(2020, 10, 28), datetime.date(2020, 12, 9), datetime.date(2020, 12, 10), datetime.date(2020, 12, 14), datetime.date(2020, 12, 18), datetime.date(2021, 3, 25), datetime.date(2021, 5, 18), datetime.date(2021, 6, 1), datetime.date(2021, 7, 1), datetime.date(2021, 7, 23), datetime.date(2021, 8, 26), datetime.date(2021, 9, 24), datetime.date(2021, 11, 15)]\n"
     ]
    }
   ],
   "source": [
    "l = list(bc_dict_1.keys())\n",
    "l.sort()\n",
    "print(l)"
   ]
  },
  {
   "cell_type": "code",
   "execution_count": 34,
   "id": "cd6127d9",
   "metadata": {
    "scrolled": true
   },
   "outputs": [],
   "source": [
    "def count_sum(dic, date_l):\n",
    "    count_l = [dic[datetime.date(2018, 1, 1)]]\n",
    "    for i in range(1,len(date_l)):\n",
    "        date = date_l[i]\n",
    "        count_l.append(count_l[i-1] + dic.get(date, 0))\n",
    "    return count_l"
   ]
  },
  {
   "cell_type": "code",
   "execution_count": 35,
   "id": "63270704",
   "metadata": {},
   "outputs": [],
   "source": [
    "bpc_count_1 = count_sum(bpc_dict_1, date_l)\n",
    "bpc_count_2 = count_sum(bpc_dict_2, date_l)\n",
    "bpc_count_3 = count_sum(bpc_dict_3, date_l)\n",
    "bpc_count_4 = count_sum(bpc_dict_4, date_l)"
   ]
  },
  {
   "cell_type": "code",
   "execution_count": 36,
   "id": "f953d460",
   "metadata": {},
   "outputs": [],
   "source": [
    "bc_count_1 = count_sum(bc_dict_1, date_l)\n",
    "bc_count_2 = count_sum(bc_dict_2, date_l)\n",
    "bc_count_3 = count_sum(bc_dict_3, date_l)\n",
    "bc_count_4 = count_sum(bc_dict_4, date_l)"
   ]
  },
  {
   "cell_type": "code",
   "execution_count": 37,
   "id": "0a7c9972",
   "metadata": {},
   "outputs": [
    {
     "name": "stdout",
     "output_type": "stream",
     "text": [
      "350\n"
     ]
    }
   ],
   "source": [
    "print(bpc_count_1[-1]+bpc_count_2[-1]+bpc_count_3[-1]+bpc_count_4[-1])"
   ]
  },
  {
   "cell_type": "code",
   "execution_count": 38,
   "id": "31c1f8ed",
   "metadata": {},
   "outputs": [],
   "source": [
    "dic_1 = {\"date\":date_l, \"bike_place\":bpc_count_1, \"bike\":bc_count_1}\n",
    "df_1 = pd.DataFrame(dic_1)\n",
    "df_1.to_csv(\"./variable/bike_Gwang.csv\", encoding=\"utf-8\")"
   ]
  },
  {
   "cell_type": "code",
   "execution_count": 39,
   "id": "e01726b2",
   "metadata": {},
   "outputs": [],
   "source": [
    "dic_2 = {\"date\":date_l, \"bike_place\":bpc_count_2, \"bike\":bc_count_2}\n",
    "df_2 = pd.DataFrame(dic_2)\n",
    "df_2.to_csv(\"./variable/bike_Dong.csv\", encoding=\"utf-8\")"
   ]
  },
  {
   "cell_type": "code",
   "execution_count": 40,
   "id": "7cf822b2",
   "metadata": {},
   "outputs": [],
   "source": [
    "dic_3 = {\"date\":date_l, \"bike_place\":bpc_count_3, \"bike\":bc_count_3}\n",
    "df_3 = pd.DataFrame(dic_3)\n",
    "df_3.to_csv(\"./variable/bike_Seong.csv\", encoding=\"utf-8\")"
   ]
  },
  {
   "cell_type": "code",
   "execution_count": 41,
   "id": "bba794d8",
   "metadata": {},
   "outputs": [],
   "source": [
    "dic_4 = {\"date\":date_l, \"bike_place\":bpc_count_4, \"bike\":bc_count_4}\n",
    "df_4 = pd.DataFrame(dic_4)\n",
    "df_4.to_csv(\"./variable/bike_Jong.csv\", encoding=\"utf-8\")"
   ]
  },
  {
   "cell_type": "code",
   "execution_count": null,
   "id": "8e829437",
   "metadata": {},
   "outputs": [],
   "source": []
  }
 ],
 "metadata": {
  "kernelspec": {
   "display_name": "Python 3 (ipykernel)",
   "language": "python",
   "name": "python3"
  },
  "language_info": {
   "codemirror_mode": {
    "name": "ipython",
    "version": 3
   },
   "file_extension": ".py",
   "mimetype": "text/x-python",
   "name": "python",
   "nbconvert_exporter": "python",
   "pygments_lexer": "ipython3",
   "version": "3.9.12"
  }
 },
 "nbformat": 4,
 "nbformat_minor": 5
}
