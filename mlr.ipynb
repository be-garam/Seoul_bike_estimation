{
 "cells": [
  {
   "cell_type": "code",
   "execution_count": 1,
   "id": "b8fed9df",
   "metadata": {},
   "outputs": [
    {
     "name": "stderr",
     "output_type": "stream",
     "text": [
      "C:\\Users\\skyri\\anaconda3\\lib\\site-packages\\scipy\\__init__.py:138: UserWarning: A NumPy version >=1.16.5 and <1.23.0 is required for this version of SciPy (detected version 1.23.5)\n",
      "  warnings.warn(f\"A NumPy version >={np_minversion} and <{np_maxversion} is required for this version of \"\n"
     ]
    }
   ],
   "source": [
    "import geopandas as gpd\n",
    "import matplotlib.pyplot as plt\n",
    "import pandas as pd\n",
    "\n",
    "from shapely.geometry import Point\n",
    "import pyproj\n",
    "from fiona.crs import from_epsg\n",
    "import numpy as np\n",
    "from geopandas import GeoDataFrame\n",
    "import datetime\n",
    "from datetime import timedelta, date\n",
    "\n",
    "from sklearn.preprocessing import MinMaxScaler\n",
    "min_max_scaler = MinMaxScaler()\n",
    "\n",
    "import statsmodels.api as sm"
   ]
  },
  {
   "cell_type": "code",
   "execution_count": 38,
   "id": "6c8d532d",
   "metadata": {},
   "outputs": [],
   "source": [
    "import tensorflow as tf"
   ]
  },
  {
   "cell_type": "code",
   "execution_count": 2,
   "id": "3f1af43e",
   "metadata": {},
   "outputs": [],
   "source": [
    "import keras\n",
    "from keras.models import Sequential\n",
    "from keras.layers import Dense\n",
    "from sklearn.preprocessing import StandardScaler, LabelBinarizer"
   ]
  },
  {
   "cell_type": "code",
   "execution_count": 3,
   "id": "bdf83e60",
   "metadata": {},
   "outputs": [],
   "source": [
    "plt.rcParams[\"font.family\"] = \"NanumGothic\"\n",
    "plt.rcParams[\"figure.figsize\"] = (10,20)"
   ]
  },
  {
   "cell_type": "code",
   "execution_count": 4,
   "id": "2b03b0df",
   "metadata": {},
   "outputs": [],
   "source": [
    "bike_1 = pd.read_csv(\"./variable/bike_Gwang.csv\", encoding=\"utf-8\")\n",
    "pop_1 = pd.read_csv(\"./variable/population_Gwang.csv\", encoding=\"utf-8\")\n",
    "wea_1 = pd.read_csv(\"./variable/weather_Gwang.csv\", encoding=\"utf-8\")"
   ]
  },
  {
   "cell_type": "code",
   "execution_count": 5,
   "id": "b6b58476",
   "metadata": {},
   "outputs": [],
   "source": [
    "bike_2 = pd.read_csv(\"./variable/bike_Dong.csv\", encoding=\"utf-8\")\n",
    "pop_2 = pd.read_csv(\"./variable/population_Dong.csv\", encoding=\"utf-8\")\n",
    "wea_2 = pd.read_csv(\"./variable/weather_Dong.csv\", encoding=\"utf-8\")"
   ]
  },
  {
   "cell_type": "code",
   "execution_count": 6,
   "id": "0c963438",
   "metadata": {},
   "outputs": [],
   "source": [
    "bike_3 = pd.read_csv(\"./variable/bike_Seong.csv\", encoding=\"utf-8\")\n",
    "pop_3 = pd.read_csv(\"./variable/population_Seong.csv\", encoding=\"utf-8\")\n",
    "wea_3 = pd.read_csv(\"./variable/weather_Seong.csv\", encoding=\"utf-8\")"
   ]
  },
  {
   "cell_type": "code",
   "execution_count": 7,
   "id": "a9724a9a",
   "metadata": {},
   "outputs": [],
   "source": [
    "bike_4 = pd.read_csv(\"./variable/bike_Jung.csv\", encoding=\"utf-8\")\n",
    "pop_4 = pd.read_csv(\"./variable/population_Jung.csv\", encoding=\"utf-8\")\n",
    "wea_4 = pd.read_csv(\"./variable/weather_Jung.csv\", encoding=\"utf-8\")"
   ]
  },
  {
   "cell_type": "code",
   "execution_count": 8,
   "id": "dbad93c8",
   "metadata": {},
   "outputs": [],
   "source": [
    "def concating(df1, df2, df3):\n",
    "    data_1 = pd.merge(df1, df2, how=\"left\", on=\"date\")\n",
    "    data_2 = pd.merge(data_1, df3, how=\"left\", on=\"date\")\n",
    "    data_3 = data_2[['date', 'clear_day', 'day_view_time', 'lst', 'bike_place', 'bike', '총생활인구수']]\n",
    "    data_3[\"population\"] = data_3[\"총생활인구수\"]\n",
    "    data_3.drop([\"총생활인구수\"], axis=1, inplace=True)\n",
    "    return data_3"
   ]
  },
  {
   "cell_type": "code",
   "execution_count": 9,
   "id": "8a9da9a1",
   "metadata": {},
   "outputs": [
    {
     "name": "stderr",
     "output_type": "stream",
     "text": [
      "<ipython-input-8-b0b2ee2b43ad>:5: SettingWithCopyWarning: \n",
      "A value is trying to be set on a copy of a slice from a DataFrame.\n",
      "Try using .loc[row_indexer,col_indexer] = value instead\n",
      "\n",
      "See the caveats in the documentation: https://pandas.pydata.org/pandas-docs/stable/user_guide/indexing.html#returning-a-view-versus-a-copy\n",
      "  data_3[\"population\"] = data_3[\"총생활인구수\"]\n",
      "C:\\Users\\skyri\\anaconda3\\lib\\site-packages\\pandas\\core\\frame.py:4308: SettingWithCopyWarning: \n",
      "A value is trying to be set on a copy of a slice from a DataFrame\n",
      "\n",
      "See the caveats in the documentation: https://pandas.pydata.org/pandas-docs/stable/user_guide/indexing.html#returning-a-view-versus-a-copy\n",
      "  return super().drop(\n"
     ]
    }
   ],
   "source": [
    "data_1 = concating(wea_1, bike_1, pop_1)\n",
    "data_2 = concating(wea_2, bike_2, pop_2)\n",
    "data_3 = concating(wea_3, bike_3, pop_3)\n",
    "data_4 = concating(wea_4, bike_4, pop_4)"
   ]
  },
  {
   "cell_type": "code",
   "execution_count": 10,
   "id": "9c48ceae",
   "metadata": {},
   "outputs": [
    {
     "data": {
      "text/html": [
       "<div>\n",
       "<style scoped>\n",
       "    .dataframe tbody tr th:only-of-type {\n",
       "        vertical-align: middle;\n",
       "    }\n",
       "\n",
       "    .dataframe tbody tr th {\n",
       "        vertical-align: top;\n",
       "    }\n",
       "\n",
       "    .dataframe thead th {\n",
       "        text-align: right;\n",
       "    }\n",
       "</style>\n",
       "<table border=\"1\" class=\"dataframe\">\n",
       "  <thead>\n",
       "    <tr style=\"text-align: right;\">\n",
       "      <th></th>\n",
       "      <th>date</th>\n",
       "      <th>clear_day</th>\n",
       "      <th>day_view_time</th>\n",
       "      <th>lst</th>\n",
       "      <th>bike_place</th>\n",
       "      <th>bike</th>\n",
       "      <th>population</th>\n",
       "    </tr>\n",
       "  </thead>\n",
       "  <tbody>\n",
       "    <tr>\n",
       "      <th>0</th>\n",
       "      <td>2018-01-01</td>\n",
       "      <td>3488.000365</td>\n",
       "      <td>118.000000</td>\n",
       "      <td>13794.534913</td>\n",
       "      <td>37</td>\n",
       "      <td>554</td>\n",
       "      <td>419550.0456</td>\n",
       "    </tr>\n",
       "    <tr>\n",
       "      <th>1</th>\n",
       "      <td>2018-01-02</td>\n",
       "      <td>2032.498815</td>\n",
       "      <td>109.000000</td>\n",
       "      <td>13742.956244</td>\n",
       "      <td>37</td>\n",
       "      <td>554</td>\n",
       "      <td>419550.0456</td>\n",
       "    </tr>\n",
       "    <tr>\n",
       "      <th>2</th>\n",
       "      <td>2018-01-03</td>\n",
       "      <td>3226.988696</td>\n",
       "      <td>116.000000</td>\n",
       "      <td>13683.819690</td>\n",
       "      <td>37</td>\n",
       "      <td>554</td>\n",
       "      <td>419550.0456</td>\n",
       "    </tr>\n",
       "    <tr>\n",
       "      <th>3</th>\n",
       "      <td>2018-01-04</td>\n",
       "      <td>1981.037362</td>\n",
       "      <td>106.000000</td>\n",
       "      <td>13438.312372</td>\n",
       "      <td>37</td>\n",
       "      <td>554</td>\n",
       "      <td>419550.0456</td>\n",
       "    </tr>\n",
       "    <tr>\n",
       "      <th>4</th>\n",
       "      <td>2018-01-05</td>\n",
       "      <td>3105.680583</td>\n",
       "      <td>113.094257</td>\n",
       "      <td>13751.535278</td>\n",
       "      <td>37</td>\n",
       "      <td>554</td>\n",
       "      <td>419550.0456</td>\n",
       "    </tr>\n",
       "    <tr>\n",
       "      <th>...</th>\n",
       "      <td>...</td>\n",
       "      <td>...</td>\n",
       "      <td>...</td>\n",
       "      <td>...</td>\n",
       "      <td>...</td>\n",
       "      <td>...</td>\n",
       "      <td>...</td>\n",
       "    </tr>\n",
       "    <tr>\n",
       "      <th>1631</th>\n",
       "      <td>2022-06-20</td>\n",
       "      <td>4607.313708</td>\n",
       "      <td>118.639562</td>\n",
       "      <td>15088.622154</td>\n",
       "      <td>86</td>\n",
       "      <td>1121</td>\n",
       "      <td>388187.6048</td>\n",
       "    </tr>\n",
       "    <tr>\n",
       "      <th>1632</th>\n",
       "      <td>2022-06-21</td>\n",
       "      <td>3557.058341</td>\n",
       "      <td>113.179581</td>\n",
       "      <td>15189.111030</td>\n",
       "      <td>86</td>\n",
       "      <td>1121</td>\n",
       "      <td>387553.7112</td>\n",
       "    </tr>\n",
       "    <tr>\n",
       "      <th>1633</th>\n",
       "      <td>2022-06-22</td>\n",
       "      <td>2014.866180</td>\n",
       "      <td>107.000000</td>\n",
       "      <td>15320.371012</td>\n",
       "      <td>86</td>\n",
       "      <td>1121</td>\n",
       "      <td>381017.9273</td>\n",
       "    </tr>\n",
       "    <tr>\n",
       "      <th>1634</th>\n",
       "      <td>2022-06-23</td>\n",
       "      <td>967.839235</td>\n",
       "      <td>103.845647</td>\n",
       "      <td>15283.629662</td>\n",
       "      <td>86</td>\n",
       "      <td>1121</td>\n",
       "      <td>378675.3951</td>\n",
       "    </tr>\n",
       "    <tr>\n",
       "      <th>1635</th>\n",
       "      <td>2022-06-24</td>\n",
       "      <td>580.494505</td>\n",
       "      <td>104.340659</td>\n",
       "      <td>15045.758242</td>\n",
       "      <td>86</td>\n",
       "      <td>1121</td>\n",
       "      <td>380121.4425</td>\n",
       "    </tr>\n",
       "  </tbody>\n",
       "</table>\n",
       "<p>1636 rows × 7 columns</p>\n",
       "</div>"
      ],
      "text/plain": [
       "            date    clear_day  day_view_time           lst  bike_place  bike  \\\n",
       "0     2018-01-01  3488.000365     118.000000  13794.534913          37   554   \n",
       "1     2018-01-02  2032.498815     109.000000  13742.956244          37   554   \n",
       "2     2018-01-03  3226.988696     116.000000  13683.819690          37   554   \n",
       "3     2018-01-04  1981.037362     106.000000  13438.312372          37   554   \n",
       "4     2018-01-05  3105.680583     113.094257  13751.535278          37   554   \n",
       "...          ...          ...            ...           ...         ...   ...   \n",
       "1631  2022-06-20  4607.313708     118.639562  15088.622154          86  1121   \n",
       "1632  2022-06-21  3557.058341     113.179581  15189.111030          86  1121   \n",
       "1633  2022-06-22  2014.866180     107.000000  15320.371012          86  1121   \n",
       "1634  2022-06-23   967.839235     103.845647  15283.629662          86  1121   \n",
       "1635  2022-06-24   580.494505     104.340659  15045.758242          86  1121   \n",
       "\n",
       "       population  \n",
       "0     419550.0456  \n",
       "1     419550.0456  \n",
       "2     419550.0456  \n",
       "3     419550.0456  \n",
       "4     419550.0456  \n",
       "...           ...  \n",
       "1631  388187.6048  \n",
       "1632  387553.7112  \n",
       "1633  381017.9273  \n",
       "1634  378675.3951  \n",
       "1635  380121.4425  \n",
       "\n",
       "[1636 rows x 7 columns]"
      ]
     },
     "execution_count": 10,
     "metadata": {},
     "output_type": "execute_result"
    }
   ],
   "source": [
    "data_1"
   ]
  },
  {
   "cell_type": "code",
   "execution_count": 11,
   "id": "5b1f5e86",
   "metadata": {},
   "outputs": [
    {
     "data": {
      "text/plain": [
       "Index(['date', 'clear_day', 'day_view_time', 'lst', 'bike_place', 'bike',\n",
       "       'population'],\n",
       "      dtype='object')"
      ]
     },
     "execution_count": 11,
     "metadata": {},
     "output_type": "execute_result"
    }
   ],
   "source": [
    "data_1.columns"
   ]
  },
  {
   "cell_type": "code",
   "execution_count": 12,
   "id": "61624433",
   "metadata": {},
   "outputs": [
    {
     "data": {
      "image/png": "[encoded data removed]",
      "text/plain": [
       "<Figure size 864x432 with 1 Axes>"
      ]
     },
     "metadata": {
      "needs_background": "light"
     },
     "output_type": "display_data"
    }
   ],
   "source": [
    "plt.figure(figsize=(12,6))\n",
    "plt.boxplot(data_1[['clear_day', 'day_view_time', 'lst', 'bike_place', 'bike',\n",
    "       'population']])\n",
    "plt.xlabel(\"feature\")\n",
    "plt.xticks([i for i in range(1,7)], labels=['clear_day', 'day_view_time', 'lst', 'bike_place', 'bike',\n",
    "       'population'])\n",
    "plt.ylabel(\"value\")\n",
    "plt.show()"
   ]
  },
  {
   "cell_type": "code",
   "execution_count": 13,
   "id": "96968fe8",
   "metadata": {},
   "outputs": [
    {
     "data": {
      "image/png": "[encoded data removed]",
      "text/plain": [
       "<Figure size 864x432 with 1 Axes>"
      ]
     },
     "metadata": {
      "needs_background": "light"
     },
     "output_type": "display_data"
    }
   ],
   "source": [
    "plt.figure(figsize=(12,6))\n",
    "plt.boxplot(data_2[['clear_day', 'day_view_time', 'lst', 'bike_place', 'bike',\n",
    "       'population']])\n",
    "plt.xlabel(\"feature\")\n",
    "plt.xticks([i for i in range(1,7)], labels=['clear_day', 'day_view_time', 'lst', 'bike_place', 'bike',\n",
    "       'population'])\n",
    "plt.ylabel(\"value\")\n",
    "plt.show()"
   ]
  },
  {
   "cell_type": "code",
   "execution_count": 14,
   "id": "e750b122",
   "metadata": {},
   "outputs": [
    {
     "data": {
      "image/png": "[encoded data removed]",
      "text/plain": [
       "<Figure size 864x432 with 1 Axes>"
      ]
     },
     "metadata": {
      "needs_background": "light"
     },
     "output_type": "display_data"
    }
   ],
   "source": [
    "plt.figure(figsize=(12,6))\n",
    "plt.boxplot(data_3[['clear_day', 'day_view_time', 'lst', 'bike_place', 'bike',\n",
    "       'population']])\n",
    "plt.xlabel(\"feature\")\n",
    "plt.xticks([i for i in range(1,7)], labels=['clear_day', 'day_view_time', 'lst', 'bike_place', 'bike',\n",
    "       'population'])\n",
    "plt.ylabel(\"value\")\n",
    "plt.show()"
   ]
  },
  {
   "cell_type": "code",
   "execution_count": 15,
   "id": "8cd48649",
   "metadata": {},
   "outputs": [
    {
     "data": {
      "image/png": "[encoded data removed]",
      "text/plain": [
       "<Figure size 864x432 with 1 Axes>"
      ]
     },
     "metadata": {
      "needs_background": "light"
     },
     "output_type": "display_data"
    }
   ],
   "source": [
    "plt.figure(figsize=(12,6))\n",
    "plt.boxplot(data_4[['clear_day', 'day_view_time', 'lst', 'bike_place', 'bike',\n",
    "       'population']])\n",
    "plt.xlabel(\"feature\")\n",
    "plt.xticks([i for i in range(1,7)], labels=['clear_day', 'day_view_time', 'lst', 'bike_place', 'bike',\n",
    "       'population'])\n",
    "plt.ylabel(\"value\")\n",
    "plt.show()"
   ]
  },
  {
   "cell_type": "code",
   "execution_count": 16,
   "id": "c0ac5580",
   "metadata": {},
   "outputs": [],
   "source": [
    "def spliting(data):\n",
    "    data_train = data[:877]\n",
    "    data_train.reset_index(drop=True, inplace=True)\n",
    "    data_val = data[877:1169]\n",
    "    data_val.reset_index(drop=True, inplace=True)\n",
    "    data_test = data[1169:1461]\n",
    "    data_test.reset_index(drop=True, inplace=True)\n",
    "    return data_train, data_val, data_test"
   ]
  },
  {
   "cell_type": "code",
   "execution_count": 17,
   "id": "932b377c",
   "metadata": {},
   "outputs": [],
   "source": [
    "data_1_train, data_1_val, data_1_test = spliting(data_1)\n",
    "data_2_train, data_2_val, data_2_test = spliting(data_2)\n",
    "data_3_train, data_3_val, data_3_test = spliting(data_3)\n",
    "data_4_train, data_4_val, data_4_test = spliting(data_4)"
   ]
  },
  {
   "cell_type": "markdown",
   "id": "354c0208",
   "metadata": {},
   "source": [
    "- 2021.12.31까지"
   ]
  },
  {
   "cell_type": "code",
   "execution_count": 18,
   "id": "a9f925b6",
   "metadata": {
    "scrolled": true
   },
   "outputs": [
    {
     "name": "stdout",
     "output_type": "stream",
     "text": [
      "877 292 292\n"
     ]
    }
   ],
   "source": [
    "print(len(data_1_train), len(data_1_val), len(data_1_test))"
   ]
  },
  {
   "cell_type": "code",
   "execution_count": 19,
   "id": "50744975",
   "metadata": {},
   "outputs": [],
   "source": [
    "x_1_train = data_1_train[['clear_day', 'day_view_time', 'lst', 'bike_place', 'bike', 'population']]\n",
    "x_2_train = data_2_train[['clear_day', 'day_view_time', 'lst', 'bike_place', 'bike', 'population']]\n",
    "x_3_train = data_3_train[['clear_day', 'day_view_time', 'lst', 'bike_place', 'bike', 'population']]\n",
    "x_4_train = data_4_train[['clear_day', 'day_view_time', 'lst', 'bike_place', 'bike', 'population']]"
   ]
  },
  {
   "cell_type": "code",
   "execution_count": 20,
   "id": "c07fdb97",
   "metadata": {},
   "outputs": [],
   "source": [
    "x_1_val = data_1_val[['clear_day', 'day_view_time', 'lst', 'bike_place', 'bike', 'population']]\n",
    "x_2_val = data_2_val[['clear_day', 'day_view_time', 'lst', 'bike_place', 'bike', 'population']]\n",
    "x_3_val = data_3_val[['clear_day', 'day_view_time', 'lst', 'bike_place', 'bike', 'population']]\n",
    "x_4_val = data_4_val[['clear_day', 'day_view_time', 'lst', 'bike_place', 'bike', 'population']]"
   ]
  },
  {
   "cell_type": "code",
   "execution_count": 21,
   "id": "2b19c2d7",
   "metadata": {},
   "outputs": [],
   "source": [
    "x_1_test = data_1_test[['clear_day', 'day_view_time', 'lst', 'bike_place', 'bike', 'population']]\n",
    "x_2_test = data_2_test[['clear_day', 'day_view_time', 'lst', 'bike_place', 'bike', 'population']]\n",
    "x_3_test = data_3_test[['clear_day', 'day_view_time', 'lst', 'bike_place', 'bike', 'population']]\n",
    "x_4_test = data_4_test[['clear_day', 'day_view_time', 'lst', 'bike_place', 'bike', 'population']]"
   ]
  },
  {
   "cell_type": "code",
   "execution_count": 22,
   "id": "33551bbd",
   "metadata": {},
   "outputs": [],
   "source": [
    "def normalize(x_train, data, data_title):\n",
    "    train_mean = np.mean(x_train, axis=0)\n",
    "    train_std = np.std(x_train, axis=0)\n",
    "    data_scaled = (data - train_mean) / train_std\n",
    "    plt.figure(figsize=(12,5))\n",
    "    plt.boxplot(data_scaled)\n",
    "    plt.title(data_title)\n",
    "    plt.xlabel(\"feature\")\n",
    "    plt.ylabel(\"value\")\n",
    "    plt.show()\n",
    "    return data_scaled"
   ]
  },
  {
   "cell_type": "code",
   "execution_count": 23,
   "id": "6e4c8c61",
   "metadata": {},
   "outputs": [
    {
     "name": "stderr",
     "output_type": "stream",
     "text": [
      "C:\\Users\\skyri\\anaconda3\\lib\\site-packages\\matplotlib\\backends\\backend_agg.py:238: RuntimeWarning: Glyph 8722 missing from current font.\n",
      "  font.set_text(s, 0.0, flags=flags)\n",
      "C:\\Users\\skyri\\anaconda3\\lib\\site-packages\\matplotlib\\backends\\backend_agg.py:201: RuntimeWarning: Glyph 8722 missing from current font.\n",
      "  font.set_text(s, 0, flags=flags)\n"
     ]
    },
    {
     "data": {
      "image/png": "[encoded data removed]",
      "text/plain": [
       "<Figure size 864x360 with 1 Axes>"
      ]
     },
     "metadata": {
      "needs_background": "light"
     },
     "output_type": "display_data"
    },
    {
     "name": "stderr",
     "output_type": "stream",
     "text": [
      "C:\\Users\\skyri\\anaconda3\\lib\\site-packages\\matplotlib\\backends\\backend_agg.py:238: RuntimeWarning: Glyph 8722 missing from current font.\n",
      "  font.set_text(s, 0.0, flags=flags)\n",
      "C:\\Users\\skyri\\anaconda3\\lib\\site-packages\\matplotlib\\backends\\backend_agg.py:201: RuntimeWarning: Glyph 8722 missing from current font.\n",
      "  font.set_text(s, 0, flags=flags)\n"
     ]
    },
    {
     "data": {
      "image/png": "[encoded data removed]",
      "text/plain": [
       "<Figure size 864x360 with 1 Axes>"
      ]
     },
     "metadata": {
      "needs_background": "light"
     },
     "output_type": "display_data"
    },
    {
     "name": "stderr",
     "output_type": "stream",
     "text": [
      "C:\\Users\\skyri\\anaconda3\\lib\\site-packages\\matplotlib\\backends\\backend_agg.py:238: RuntimeWarning: Glyph 8722 missing from current font.\n",
      "  font.set_text(s, 0.0, flags=flags)\n",
      "C:\\Users\\skyri\\anaconda3\\lib\\site-packages\\matplotlib\\backends\\backend_agg.py:201: RuntimeWarning: Glyph 8722 missing from current font.\n",
      "  font.set_text(s, 0, flags=flags)\n"
     ]
    },
    {
     "data": {
      "image/png": "[encoded data removed]",
      "text/plain": [
       "<Figure size 864x360 with 1 Axes>"
      ]
     },
     "metadata": {
      "needs_background": "light"
     },
     "output_type": "display_data"
    }
   ],
   "source": [
    "x_1_train_scaled = normalize(x_1_train, x_1_train, \"x_train_scaled\")\n",
    "x_1_val_scaled = normalize(x_1_train, x_1_val, \"x_val_scaled\")\n",
    "x_1_test_scaled = normalize(x_1_train, x_1_test, \"x_test_scaled\")"
   ]
  },
  {
   "cell_type": "code",
   "execution_count": 24,
   "id": "84d49935",
   "metadata": {},
   "outputs": [
    {
     "name": "stderr",
     "output_type": "stream",
     "text": [
      "C:\\Users\\skyri\\anaconda3\\lib\\site-packages\\matplotlib\\backends\\backend_agg.py:238: RuntimeWarning: Glyph 8722 missing from current font.\n",
      "  font.set_text(s, 0.0, flags=flags)\n",
      "C:\\Users\\skyri\\anaconda3\\lib\\site-packages\\matplotlib\\backends\\backend_agg.py:201: RuntimeWarning: Glyph 8722 missing from current font.\n",
      "  font.set_text(s, 0, flags=flags)\n"
     ]
    },
    {
     "data": {
      "image/png": "[encoded data removed]",
      "text/plain": [
       "<Figure size 864x360 with 1 Axes>"
      ]
     },
     "metadata": {
      "needs_background": "light"
     },
     "output_type": "display_data"
    },
    {
     "name": "stderr",
     "output_type": "stream",
     "text": [
      "C:\\Users\\skyri\\anaconda3\\lib\\site-packages\\matplotlib\\backends\\backend_agg.py:238: RuntimeWarning: Glyph 8722 missing from current font.\n",
      "  font.set_text(s, 0.0, flags=flags)\n",
      "C:\\Users\\skyri\\anaconda3\\lib\\site-packages\\matplotlib\\backends\\backend_agg.py:201: RuntimeWarning: Glyph 8722 missing from current font.\n",
      "  font.set_text(s, 0, flags=flags)\n"
     ]
    },
    {
     "data": {
      "image/png": "[encoded data removed]",
      "text/plain": [
       "<Figure size 864x360 with 1 Axes>"
      ]
     },
     "metadata": {
      "needs_background": "light"
     },
     "output_type": "display_data"
    },
    {
     "name": "stderr",
     "output_type": "stream",
     "text": [
      "C:\\Users\\skyri\\anaconda3\\lib\\site-packages\\matplotlib\\backends\\backend_agg.py:238: RuntimeWarning: Glyph 8722 missing from current font.\n",
      "  font.set_text(s, 0.0, flags=flags)\n",
      "C:\\Users\\skyri\\anaconda3\\lib\\site-packages\\matplotlib\\backends\\backend_agg.py:201: RuntimeWarning: Glyph 8722 missing from current font.\n",
      "  font.set_text(s, 0, flags=flags)\n"
     ]
    },
    {
     "data": {
      "image/png": "[encoded data removed]",
      "text/plain": [
       "<Figure size 864x360 with 1 Axes>"
      ]
     },
     "metadata": {
      "needs_background": "light"
     },
     "output_type": "display_data"
    }
   ],
   "source": [
    "x_2_train_scaled = normalize(x_2_train, x_2_train, \"x_train_scaled\")\n",
    "x_2_val_scaled = normalize(x_2_train, x_2_val, \"x_val_scaled\")\n",
    "x_2_test_scaled = normalize(x_2_train, x_2_test, \"x_test_scaled\")"
   ]
  },
  {
   "cell_type": "code",
   "execution_count": 25,
   "id": "86eb4799",
   "metadata": {},
   "outputs": [
    {
     "name": "stderr",
     "output_type": "stream",
     "text": [
      "C:\\Users\\skyri\\anaconda3\\lib\\site-packages\\matplotlib\\backends\\backend_agg.py:238: RuntimeWarning: Glyph 8722 missing from current font.\n",
      "  font.set_text(s, 0.0, flags=flags)\n",
      "C:\\Users\\skyri\\anaconda3\\lib\\site-packages\\matplotlib\\backends\\backend_agg.py:201: RuntimeWarning: Glyph 8722 missing from current font.\n",
      "  font.set_text(s, 0, flags=flags)\n"
     ]
    },
    {
     "data": {
      "image/png": "[encoded data removed]",
      "text/plain": [
       "<Figure size 864x360 with 1 Axes>"
      ]
     },
     "metadata": {
      "needs_background": "light"
     },
     "output_type": "display_data"
    },
    {
     "name": "stderr",
     "output_type": "stream",
     "text": [
      "C:\\Users\\skyri\\anaconda3\\lib\\site-packages\\matplotlib\\backends\\backend_agg.py:238: RuntimeWarning: Glyph 8722 missing from current font.\n",
      "  font.set_text(s, 0.0, flags=flags)\n",
      "C:\\Users\\skyri\\anaconda3\\lib\\site-packages\\matplotlib\\backends\\backend_agg.py:201: RuntimeWarning: Glyph 8722 missing from current font.\n",
      "  font.set_text(s, 0, flags=flags)\n"
     ]
    },
    {
     "data": {
      "image/png": "[encoded data removed]",
      "text/plain": [
       "<Figure size 864x360 with 1 Axes>"
      ]
     },
     "metadata": {
      "needs_background": "light"
     },
     "output_type": "display_data"
    },
    {
     "name": "stderr",
     "output_type": "stream",
     "text": [
      "C:\\Users\\skyri\\anaconda3\\lib\\site-packages\\matplotlib\\backends\\backend_agg.py:238: RuntimeWarning: Glyph 8722 missing from current font.\n",
      "  font.set_text(s, 0.0, flags=flags)\n",
      "C:\\Users\\skyri\\anaconda3\\lib\\site-packages\\matplotlib\\backends\\backend_agg.py:201: RuntimeWarning: Glyph 8722 missing from current font.\n",
      "  font.set_text(s, 0, flags=flags)\n"
     ]
    },
    {
     "data": {
      "image/png": "[encoded data removed]",
      "text/plain": [
       "<Figure size 864x360 with 1 Axes>"
      ]
     },
     "metadata": {
      "needs_background": "light"
     },
     "output_type": "display_data"
    }
   ],
   "source": [
    "x_3_train_scaled = normalize(x_3_train, x_3_train, \"x_train_scaled\")\n",
    "x_3_val_scaled = normalize(x_3_train, x_3_val, \"x_val_scaled\")\n",
    "x_3_test_scaled = normalize(x_3_train, x_3_test, \"x_test_scaled\")"
   ]
  },
  {
   "cell_type": "markdown",
   "id": "c77bd765",
   "metadata": {},
   "source": [
    "- y"
   ]
  },
  {
   "cell_type": "code",
   "execution_count": 26,
   "id": "60504f81",
   "metadata": {},
   "outputs": [
    {
     "data": {
      "text/html": [
       "<div>\n",
       "<style scoped>\n",
       "    .dataframe tbody tr th:only-of-type {\n",
       "        vertical-align: middle;\n",
       "    }\n",
       "\n",
       "    .dataframe tbody tr th {\n",
       "        vertical-align: top;\n",
       "    }\n",
       "\n",
       "    .dataframe thead th {\n",
       "        text-align: right;\n",
       "    }\n",
       "</style>\n",
       "<table border=\"1\" class=\"dataframe\">\n",
       "  <thead>\n",
       "    <tr style=\"text-align: right;\">\n",
       "      <th></th>\n",
       "      <th>일시</th>\n",
       "      <th>광진구</th>\n",
       "      <th>동대문구</th>\n",
       "      <th>성동구</th>\n",
       "      <th>중랑구</th>\n",
       "    </tr>\n",
       "  </thead>\n",
       "  <tbody>\n",
       "    <tr>\n",
       "      <th>0</th>\n",
       "      <td>20180101</td>\n",
       "      <td>0.592</td>\n",
       "      <td>0.368</td>\n",
       "      <td>0.580</td>\n",
       "      <td>0.162</td>\n",
       "    </tr>\n",
       "    <tr>\n",
       "      <th>1</th>\n",
       "      <td>20180102</td>\n",
       "      <td>0.840</td>\n",
       "      <td>0.614</td>\n",
       "      <td>1.034</td>\n",
       "      <td>0.260</td>\n",
       "    </tr>\n",
       "    <tr>\n",
       "      <th>2</th>\n",
       "      <td>20180103</td>\n",
       "      <td>0.828</td>\n",
       "      <td>0.576</td>\n",
       "      <td>0.952</td>\n",
       "      <td>0.288</td>\n",
       "    </tr>\n",
       "    <tr>\n",
       "      <th>3</th>\n",
       "      <td>20180104</td>\n",
       "      <td>0.792</td>\n",
       "      <td>0.542</td>\n",
       "      <td>0.914</td>\n",
       "      <td>0.292</td>\n",
       "    </tr>\n",
       "    <tr>\n",
       "      <th>4</th>\n",
       "      <td>20180105</td>\n",
       "      <td>0.818</td>\n",
       "      <td>0.602</td>\n",
       "      <td>0.994</td>\n",
       "      <td>0.308</td>\n",
       "    </tr>\n",
       "  </tbody>\n",
       "</table>\n",
       "</div>"
      ],
      "text/plain": [
       "         일시    광진구   동대문구    성동구    중랑구\n",
       "0  20180101  0.592  0.368  0.580  0.162\n",
       "1  20180102  0.840  0.614  1.034  0.260\n",
       "2  20180103  0.828  0.576  0.952  0.288\n",
       "3  20180104  0.792  0.542  0.914  0.292\n",
       "4  20180105  0.818  0.602  0.994  0.308"
      ]
     },
     "execution_count": 26,
     "metadata": {},
     "output_type": "execute_result"
    }
   ],
   "source": [
    "data = pd.read_csv(\"./target/train.csv\")\n",
    "data.head()"
   ]
  },
  {
   "cell_type": "code",
   "execution_count": 27,
   "id": "0e775ee8",
   "metadata": {},
   "outputs": [],
   "source": [
    "def converting_to_real_dt(col):\n",
    "    new_col = []\n",
    "    format_t = '%Y%m%d'\n",
    "    for i in col:\n",
    "        dt = datetime.datetime.strptime(str(i), format_t).date()\n",
    "        new_col.append(dt)\n",
    "    return new_col\n",
    "\n",
    "data[\"date\"] = converting_to_real_dt(data[\"일시\"])\n",
    "data.drop([\"일시\"], axis=1, inplace=True)"
   ]
  },
  {
   "cell_type": "code",
   "execution_count": 28,
   "id": "800d2f2f",
   "metadata": {},
   "outputs": [],
   "source": [
    "data[\"광진구\"] = min_max_scaler.fit_transform(data[\"광진구\"].to_numpy().reshape(-1,1))\n",
    "data[\"동대문구\"] = min_max_scaler.fit_transform(data[\"동대문구\"].to_numpy().reshape(-1,1))\n",
    "data[\"성동구\"] = min_max_scaler.fit_transform(data[\"성동구\"].to_numpy().reshape(-1,1))\n",
    "data[\"중랑구\"] = min_max_scaler.fit_transform(data[\"중랑구\"].to_numpy().reshape(-1,1))"
   ]
  },
  {
   "cell_type": "code",
   "execution_count": 29,
   "id": "8a6cf6a0",
   "metadata": {
    "scrolled": true
   },
   "outputs": [
    {
     "name": "stderr",
     "output_type": "stream",
     "text": [
      "<ipython-input-29-78f9fba920fa>:2: SettingWithCopyWarning: \n",
      "A value is trying to be set on a copy of a slice from a DataFrame.\n",
      "Try using .loc[row_indexer,col_indexer] = value instead\n",
      "\n",
      "See the caveats in the documentation: https://pandas.pydata.org/pandas-docs/stable/user_guide/indexing.html#returning-a-view-versus-a-copy\n",
      "  data_1[\"real\"] = data_1[\"광진구\"]\n",
      "C:\\Users\\skyri\\anaconda3\\lib\\site-packages\\pandas\\core\\frame.py:4308: SettingWithCopyWarning: \n",
      "A value is trying to be set on a copy of a slice from a DataFrame\n",
      "\n",
      "See the caveats in the documentation: https://pandas.pydata.org/pandas-docs/stable/user_guide/indexing.html#returning-a-view-versus-a-copy\n",
      "  return super().drop(\n",
      "<ipython-input-29-78f9fba920fa>:5: SettingWithCopyWarning: \n",
      "A value is trying to be set on a copy of a slice from a DataFrame.\n",
      "Try using .loc[row_indexer,col_indexer] = value instead\n",
      "\n",
      "See the caveats in the documentation: https://pandas.pydata.org/pandas-docs/stable/user_guide/indexing.html#returning-a-view-versus-a-copy\n",
      "  data_2[\"real\"] = data_2[\"동대문구\"]\n",
      "<ipython-input-29-78f9fba920fa>:8: SettingWithCopyWarning: \n",
      "A value is trying to be set on a copy of a slice from a DataFrame.\n",
      "Try using .loc[row_indexer,col_indexer] = value instead\n",
      "\n",
      "See the caveats in the documentation: https://pandas.pydata.org/pandas-docs/stable/user_guide/indexing.html#returning-a-view-versus-a-copy\n",
      "  data_3[\"real\"] = data_3[\"성동구\"]\n",
      "<ipython-input-29-78f9fba920fa>:11: SettingWithCopyWarning: \n",
      "A value is trying to be set on a copy of a slice from a DataFrame.\n",
      "Try using .loc[row_indexer,col_indexer] = value instead\n",
      "\n",
      "See the caveats in the documentation: https://pandas.pydata.org/pandas-docs/stable/user_guide/indexing.html#returning-a-view-versus-a-copy\n",
      "  data_4[\"real\"] = data_4[\"중랑구\"]\n"
     ]
    }
   ],
   "source": [
    "data_1 = data[[\"date\", \"광진구\"]]\n",
    "data_1[\"real\"] = data_1[\"광진구\"]\n",
    "data_1.drop([\"광진구\"], axis=1, inplace=True)\n",
    "data_2 = data[[\"date\", \"동대문구\"]]\n",
    "data_2[\"real\"] = data_2[\"동대문구\"]\n",
    "data_2.drop([\"동대문구\"], axis=1, inplace=True)\n",
    "data_3 = data[[\"date\", \"성동구\"]]\n",
    "data_3[\"real\"] = data_3[\"성동구\"]\n",
    "data_3.drop([\"성동구\"], axis=1, inplace=True)\n",
    "data_4 = data[[\"date\", \"중랑구\"]]\n",
    "data_4[\"real\"] = data_4[\"중랑구\"]\n",
    "data_4.drop([\"중랑구\"], axis=1, inplace=True)"
   ]
  },
  {
   "cell_type": "code",
   "execution_count": 30,
   "id": "d5e95824",
   "metadata": {},
   "outputs": [],
   "source": [
    "data_1_train, data_1_val, data_1_test = spliting(data_1)\n",
    "data_2_train, data_2_val, data_2_test = spliting(data_2)\n",
    "data_3_train, data_3_val, data_3_test = spliting(data_3)\n",
    "data_4_train, data_4_val, data_4_test = spliting(data_4)"
   ]
  },
  {
   "cell_type": "code",
   "execution_count": 31,
   "id": "f2973d02",
   "metadata": {},
   "outputs": [],
   "source": [
    "y_1_train = data_1_train[[\"real\"]]\n",
    "y_2_train = data_2_train[[\"real\"]]\n",
    "y_3_train = data_3_train[[\"real\"]]\n",
    "y_4_train = data_4_train[[\"real\"]]"
   ]
  },
  {
   "cell_type": "code",
   "execution_count": 32,
   "id": "dec30dac",
   "metadata": {},
   "outputs": [],
   "source": [
    "y_1_val = data_1_val[[\"real\"]]\n",
    "y_2_val = data_2_val[[\"real\"]]\n",
    "y_3_val = data_3_val[[\"real\"]]\n",
    "y_4_val = data_4_val[[\"real\"]]"
   ]
  },
  {
   "cell_type": "code",
   "execution_count": 33,
   "id": "7dd8df58",
   "metadata": {},
   "outputs": [],
   "source": [
    "y_1_test = data_1_test[[\"real\"]]\n",
    "y_2_test = data_2_test[[\"real\"]]\n",
    "y_3_test = data_3_test[[\"real\"]]\n",
    "y_4_test = data_4_test[[\"real\"]]"
   ]
  },
  {
   "cell_type": "markdown",
   "id": "12b23b04",
   "metadata": {},
   "source": [
    "- 섞기"
   ]
  },
  {
   "cell_type": "code",
   "execution_count": 34,
   "id": "8c95bf5c",
   "metadata": {},
   "outputs": [
    {
     "data": {
      "text/html": [
       "<div>\n",
       "<style scoped>\n",
       "    .dataframe tbody tr th:only-of-type {\n",
       "        vertical-align: middle;\n",
       "    }\n",
       "\n",
       "    .dataframe tbody tr th {\n",
       "        vertical-align: top;\n",
       "    }\n",
       "\n",
       "    .dataframe thead th {\n",
       "        text-align: right;\n",
       "    }\n",
       "</style>\n",
       "<table border=\"1\" class=\"dataframe\">\n",
       "  <thead>\n",
       "    <tr style=\"text-align: right;\">\n",
       "      <th></th>\n",
       "      <th>date</th>\n",
       "      <th>real</th>\n",
       "      <th>clear_day</th>\n",
       "      <th>day_view_time</th>\n",
       "      <th>lst</th>\n",
       "      <th>bike_place</th>\n",
       "      <th>bike</th>\n",
       "      <th>population</th>\n",
       "    </tr>\n",
       "  </thead>\n",
       "  <tbody>\n",
       "    <tr>\n",
       "      <th>0</th>\n",
       "      <td>2019-04-30</td>\n",
       "      <td>0.638567</td>\n",
       "      <td>0.590487</td>\n",
       "      <td>0.739256</td>\n",
       "      <td>-0.097905</td>\n",
       "      <td>0.416778</td>\n",
       "      <td>0.432349</td>\n",
       "      <td>-0.213926</td>\n",
       "    </tr>\n",
       "    <tr>\n",
       "      <th>1</th>\n",
       "      <td>2019-09-22</td>\n",
       "      <td>0.298340</td>\n",
       "      <td>-1.685117</td>\n",
       "      <td>1.400100</td>\n",
       "      <td>0.414161</td>\n",
       "      <td>0.416778</td>\n",
       "      <td>0.432349</td>\n",
       "      <td>0.605215</td>\n",
       "    </tr>\n",
       "    <tr>\n",
       "      <th>2</th>\n",
       "      <td>2020-05-13</td>\n",
       "      <td>0.606033</td>\n",
       "      <td>-0.084583</td>\n",
       "      <td>0.116838</td>\n",
       "      <td>0.798081</td>\n",
       "      <td>2.978791</td>\n",
       "      <td>2.890326</td>\n",
       "      <td>-1.023174</td>\n",
       "    </tr>\n",
       "    <tr>\n",
       "      <th>3</th>\n",
       "      <td>2018-04-10</td>\n",
       "      <td>0.172550</td>\n",
       "      <td>0.420114</td>\n",
       "      <td>-0.350105</td>\n",
       "      <td>0.577021</td>\n",
       "      <td>-1.120430</td>\n",
       "      <td>-1.130604</td>\n",
       "      <td>0.714272</td>\n",
       "    </tr>\n",
       "    <tr>\n",
       "      <th>4</th>\n",
       "      <td>2018-03-25</td>\n",
       "      <td>0.142123</td>\n",
       "      <td>0.054578</td>\n",
       "      <td>-0.497097</td>\n",
       "      <td>0.141505</td>\n",
       "      <td>-1.291231</td>\n",
       "      <td>-1.330983</td>\n",
       "      <td>0.768727</td>\n",
       "    </tr>\n",
       "    <tr>\n",
       "      <th>...</th>\n",
       "      <td>...</td>\n",
       "      <td>...</td>\n",
       "      <td>...</td>\n",
       "      <td>...</td>\n",
       "      <td>...</td>\n",
       "      <td>...</td>\n",
       "      <td>...</td>\n",
       "      <td>...</td>\n",
       "    </tr>\n",
       "    <tr>\n",
       "      <th>872</th>\n",
       "      <td>2019-04-10</td>\n",
       "      <td>0.216544</td>\n",
       "      <td>-0.930731</td>\n",
       "      <td>-1.136330</td>\n",
       "      <td>-0.754372</td>\n",
       "      <td>0.416778</td>\n",
       "      <td>0.432349</td>\n",
       "      <td>0.474878</td>\n",
       "    </tr>\n",
       "    <tr>\n",
       "      <th>873</th>\n",
       "      <td>2019-08-02</td>\n",
       "      <td>0.521470</td>\n",
       "      <td>-0.117621</td>\n",
       "      <td>-0.253664</td>\n",
       "      <td>1.334516</td>\n",
       "      <td>0.416778</td>\n",
       "      <td>0.432349</td>\n",
       "      <td>-1.875446</td>\n",
       "    </tr>\n",
       "    <tr>\n",
       "      <th>874</th>\n",
       "      <td>2019-03-15</td>\n",
       "      <td>0.182561</td>\n",
       "      <td>1.700487</td>\n",
       "      <td>-1.146188</td>\n",
       "      <td>-0.707398</td>\n",
       "      <td>0.416778</td>\n",
       "      <td>0.432349</td>\n",
       "      <td>0.696999</td>\n",
       "    </tr>\n",
       "    <tr>\n",
       "      <th>875</th>\n",
       "      <td>2019-10-29</td>\n",
       "      <td>0.506191</td>\n",
       "      <td>-0.996019</td>\n",
       "      <td>-0.350105</td>\n",
       "      <td>-0.197962</td>\n",
       "      <td>0.416778</td>\n",
       "      <td>0.432349</td>\n",
       "      <td>-0.620966</td>\n",
       "    </tr>\n",
       "    <tr>\n",
       "      <th>876</th>\n",
       "      <td>2018-05-17</td>\n",
       "      <td>0.033456</td>\n",
       "      <td>0.633930</td>\n",
       "      <td>0.841254</td>\n",
       "      <td>0.496650</td>\n",
       "      <td>-0.949629</td>\n",
       "      <td>-0.997019</td>\n",
       "      <td>0.282286</td>\n",
       "    </tr>\n",
       "  </tbody>\n",
       "</table>\n",
       "<p>877 rows × 8 columns</p>\n",
       "</div>"
      ],
      "text/plain": [
       "           date      real  clear_day  day_view_time       lst  bike_place  \\\n",
       "0    2019-04-30  0.638567   0.590487       0.739256 -0.097905    0.416778   \n",
       "1    2019-09-22  0.298340  -1.685117       1.400100  0.414161    0.416778   \n",
       "2    2020-05-13  0.606033  -0.084583       0.116838  0.798081    2.978791   \n",
       "3    2018-04-10  0.172550   0.420114      -0.350105  0.577021   -1.120430   \n",
       "4    2018-03-25  0.142123   0.054578      -0.497097  0.141505   -1.291231   \n",
       "..          ...       ...        ...            ...       ...         ...   \n",
       "872  2019-04-10  0.216544  -0.930731      -1.136330 -0.754372    0.416778   \n",
       "873  2019-08-02  0.521470  -0.117621      -0.253664  1.334516    0.416778   \n",
       "874  2019-03-15  0.182561   1.700487      -1.146188 -0.707398    0.416778   \n",
       "875  2019-10-29  0.506191  -0.996019      -0.350105 -0.197962    0.416778   \n",
       "876  2018-05-17  0.033456   0.633930       0.841254  0.496650   -0.949629   \n",
       "\n",
       "         bike  population  \n",
       "0    0.432349   -0.213926  \n",
       "1    0.432349    0.605215  \n",
       "2    2.890326   -1.023174  \n",
       "3   -1.130604    0.714272  \n",
       "4   -1.330983    0.768727  \n",
       "..        ...         ...  \n",
       "872  0.432349    0.474878  \n",
       "873  0.432349   -1.875446  \n",
       "874  0.432349    0.696999  \n",
       "875  0.432349   -0.620966  \n",
       "876 -0.997019    0.282286  \n",
       "\n",
       "[877 rows x 8 columns]"
      ]
     },
     "execution_count": 34,
     "metadata": {},
     "output_type": "execute_result"
    }
   ],
   "source": [
    "train_1 = pd.concat([data_1_train, x_1_train_scaled], axis=1)\n",
    "train_1 = train_1.sample(frac=1, random_state=1212).reset_index(drop=True)\n",
    "train_1"
   ]
  },
  {
   "cell_type": "code",
   "execution_count": 35,
   "id": "0e32f613",
   "metadata": {},
   "outputs": [
    {
     "name": "stdout",
     "output_type": "stream",
     "text": [
      "                            OLS Regression Results                            \n",
      "==============================================================================\n",
      "Dep. Variable:                   real   R-squared:                       0.577\n",
      "Model:                            OLS   Adj. R-squared:                  0.574\n",
      "Method:                 Least Squares   F-statistic:                     197.5\n",
      "Date:                Tue, 13 Dec 2022   Prob (F-statistic):          1.34e-158\n",
      "Time:                        06:50:52   Log-Likelihood:                 489.02\n",
      "No. Observations:                 877   AIC:                            -964.0\n",
      "Df Residuals:                     870   BIC:                            -930.6\n",
      "Df Model:                           6                                         \n",
      "Covariance Type:            nonrobust                                         \n",
      "=================================================================================\n",
      "                    coef    std err          t      P>|t|      [0.025      0.975]\n",
      "---------------------------------------------------------------------------------\n",
      "const             0.3397      0.005     72.318      0.000       0.330       0.349\n",
      "clear_day        -0.0038      0.005     -0.776      0.438      -0.013       0.006\n",
      "day_view_time     0.0041      0.005      0.840      0.401      -0.006       0.014\n",
      "lst               0.1532      0.006     26.079      0.000       0.142       0.165\n",
      "bike_place       -0.9204      0.128     -7.164      0.000      -1.173      -0.668\n",
      "bike              1.0159      0.129      7.852      0.000       0.762       1.270\n",
      "population        0.0141      0.006      2.437      0.015       0.003       0.026\n",
      "==============================================================================\n",
      "Omnibus:                       12.919   Durbin-Watson:                   2.016\n",
      "Prob(Omnibus):                  0.002   Jarque-Bera (JB):               19.605\n",
      "Skew:                          -0.106   Prob(JB):                     5.53e-05\n",
      "Kurtosis:                       3.701   Cond. No.                         59.2\n",
      "==============================================================================\n",
      "\n",
      "Notes:\n",
      "[1] Standard Errors assume that the covariance matrix of the errors is correctly specified.\n"
     ]
    }
   ],
   "source": [
    "x = sm.add_constant(train_1[['clear_day', 'day_view_time', 'lst', 'bike_place', 'bike', 'population']]) # adding a constant\n",
    "y = train_1[[\"real\"]]\n",
    "model = sm.OLS(y, x).fit()\n",
    "predictions = model.predict(x)\n",
    "print_model = model.summary()\n",
    "print(print_model)"
   ]
  },
  {
   "cell_type": "code",
   "execution_count": 45,
   "id": "2bfa1ca2",
   "metadata": {},
   "outputs": [],
   "source": [
    "x = train_1[['clear_day', 'day_view_time', 'lst', 'bike_place', 'bike', 'population']].to_numpy()\n",
    "y = train_1[[\"real\"]].to_numpy()"
   ]
  },
  {
   "cell_type": "code",
   "execution_count": 46,
   "id": "39ddbfee",
   "metadata": {},
   "outputs": [],
   "source": [
    "model = tf.keras.Sequential([\n",
    "    tf.keras.layers.Dense(units=32, activation='relu', input_shape=(6,)),\n",
    "    tf.keras.layers.Dense(units=8, activation='relu'),\n",
    "    tf.keras.layers.Dense(units=1),\n",
    "])"
   ]
  },
  {
   "cell_type": "code",
   "execution_count": 47,
   "id": "eea9aa98",
   "metadata": {},
   "outputs": [],
   "source": [
    "model.compile(optimizer='adam', loss='mse', metrics=['accuracy'])"
   ]
  },
  {
   "cell_type": "code",
   "execution_count": 49,
   "id": "02e8168f",
   "metadata": {},
   "outputs": [
    {
     "ename": "KeyboardInterrupt",
     "evalue": "",
     "output_type": "error",
     "traceback": [
      "\u001b[1;31m---------------------------------------------------------------------------\u001b[0m",
      "\u001b[1;31mKeyboardInterrupt\u001b[0m                         Traceback (most recent call last)",
      "\u001b[1;32m<ipython-input-49-191af339ffe4>\u001b[0m in \u001b[0;36m<module>\u001b[1;34m\u001b[0m\n\u001b[1;32m----> 1\u001b[1;33m \u001b[0mhist\u001b[0m \u001b[1;33m=\u001b[0m \u001b[0mmodel\u001b[0m\u001b[1;33m.\u001b[0m\u001b[0mfit\u001b[0m\u001b[1;33m(\u001b[0m\u001b[0mx\u001b[0m\u001b[1;33m,\u001b[0m \u001b[0my\u001b[0m\u001b[1;33m,\u001b[0m \u001b[0mepochs\u001b[0m \u001b[1;33m=\u001b[0m \u001b[1;36m500\u001b[0m\u001b[1;33m,\u001b[0m \u001b[0mverbose\u001b[0m\u001b[1;33m=\u001b[0m\u001b[1;36m0\u001b[0m\u001b[1;33m,\u001b[0m \u001b[0mbatch_size\u001b[0m\u001b[1;33m=\u001b[0m\u001b[1;36m1\u001b[0m\u001b[1;33m)\u001b[0m\u001b[1;33m\u001b[0m\u001b[1;33m\u001b[0m\u001b[0m\n\u001b[0m\u001b[0;32m      2\u001b[0m \u001b[0mmodel\u001b[0m\u001b[1;33m.\u001b[0m\u001b[0msummary\u001b[0m\u001b[1;33m(\u001b[0m\u001b[1;33m)\u001b[0m\u001b[1;33m\u001b[0m\u001b[1;33m\u001b[0m\u001b[0m\n",
      "\u001b[1;32m~\\anaconda3\\lib\\site-packages\\keras\\utils\\traceback_utils.py\u001b[0m in \u001b[0;36merror_handler\u001b[1;34m(*args, **kwargs)\u001b[0m\n\u001b[0;32m     63\u001b[0m         \u001b[0mfiltered_tb\u001b[0m \u001b[1;33m=\u001b[0m \u001b[1;32mNone\u001b[0m\u001b[1;33m\u001b[0m\u001b[1;33m\u001b[0m\u001b[0m\n\u001b[0;32m     64\u001b[0m         \u001b[1;32mtry\u001b[0m\u001b[1;33m:\u001b[0m\u001b[1;33m\u001b[0m\u001b[1;33m\u001b[0m\u001b[0m\n\u001b[1;32m---> 65\u001b[1;33m             \u001b[1;32mreturn\u001b[0m \u001b[0mfn\u001b[0m\u001b[1;33m(\u001b[0m\u001b[1;33m*\u001b[0m\u001b[0margs\u001b[0m\u001b[1;33m,\u001b[0m \u001b[1;33m**\u001b[0m\u001b[0mkwargs\u001b[0m\u001b[1;33m)\u001b[0m\u001b[1;33m\u001b[0m\u001b[1;33m\u001b[0m\u001b[0m\n\u001b[0m\u001b[0;32m     66\u001b[0m         \u001b[1;32mexcept\u001b[0m \u001b[0mException\u001b[0m \u001b[1;32mas\u001b[0m \u001b[0me\u001b[0m\u001b[1;33m:\u001b[0m\u001b[1;33m\u001b[0m\u001b[1;33m\u001b[0m\u001b[0m\n\u001b[0;32m     67\u001b[0m             \u001b[0mfiltered_tb\u001b[0m \u001b[1;33m=\u001b[0m \u001b[0m_process_traceback_frames\u001b[0m\u001b[1;33m(\u001b[0m\u001b[0me\u001b[0m\u001b[1;33m.\u001b[0m\u001b[0m__traceback__\u001b[0m\u001b[1;33m)\u001b[0m\u001b[1;33m\u001b[0m\u001b[1;33m\u001b[0m\u001b[0m\n",
      "\u001b[1;32m~\\anaconda3\\lib\\site-packages\\keras\\engine\\training.py\u001b[0m in \u001b[0;36mfit\u001b[1;34m(self, x, y, batch_size, epochs, verbose, callbacks, validation_split, validation_data, shuffle, class_weight, sample_weight, initial_epoch, steps_per_epoch, validation_steps, validation_batch_size, validation_freq, max_queue_size, workers, use_multiprocessing)\u001b[0m\n\u001b[0;32m   1639\u001b[0m                 \u001b[0mcallbacks\u001b[0m\u001b[1;33m.\u001b[0m\u001b[0mon_epoch_begin\u001b[0m\u001b[1;33m(\u001b[0m\u001b[0mepoch\u001b[0m\u001b[1;33m)\u001b[0m\u001b[1;33m\u001b[0m\u001b[1;33m\u001b[0m\u001b[0m\n\u001b[0;32m   1640\u001b[0m                 \u001b[1;32mwith\u001b[0m \u001b[0mdata_handler\u001b[0m\u001b[1;33m.\u001b[0m\u001b[0mcatch_stop_iteration\u001b[0m\u001b[1;33m(\u001b[0m\u001b[1;33m)\u001b[0m\u001b[1;33m:\u001b[0m\u001b[1;33m\u001b[0m\u001b[1;33m\u001b[0m\u001b[0m\n\u001b[1;32m-> 1641\u001b[1;33m                     \u001b[1;32mfor\u001b[0m \u001b[0mstep\u001b[0m \u001b[1;32min\u001b[0m \u001b[0mdata_handler\u001b[0m\u001b[1;33m.\u001b[0m\u001b[0msteps\u001b[0m\u001b[1;33m(\u001b[0m\u001b[1;33m)\u001b[0m\u001b[1;33m:\u001b[0m\u001b[1;33m\u001b[0m\u001b[1;33m\u001b[0m\u001b[0m\n\u001b[0m\u001b[0;32m   1642\u001b[0m                         with tf.profiler.experimental.Trace(\n\u001b[0;32m   1643\u001b[0m                             \u001b[1;34m\"train\"\u001b[0m\u001b[1;33m,\u001b[0m\u001b[1;33m\u001b[0m\u001b[1;33m\u001b[0m\u001b[0m\n",
      "\u001b[1;32m~\\anaconda3\\lib\\site-packages\\keras\\engine\\data_adapter.py\u001b[0m in \u001b[0;36msteps\u001b[1;34m(self)\u001b[0m\n\u001b[0;32m   1369\u001b[0m             \u001b[1;32mif\u001b[0m \u001b[0mself\u001b[0m\u001b[1;33m.\u001b[0m\u001b[0m_insufficient_data\u001b[0m\u001b[1;33m:\u001b[0m  \u001b[1;31m# Set by `catch_stop_iteration`.\u001b[0m\u001b[1;33m\u001b[0m\u001b[1;33m\u001b[0m\u001b[0m\n\u001b[0;32m   1370\u001b[0m                 \u001b[1;32mbreak\u001b[0m\u001b[1;33m\u001b[0m\u001b[1;33m\u001b[0m\u001b[0m\n\u001b[1;32m-> 1371\u001b[1;33m             \u001b[0moriginal_spe\u001b[0m \u001b[1;33m=\u001b[0m \u001b[0mself\u001b[0m\u001b[1;33m.\u001b[0m\u001b[0m_steps_per_execution\u001b[0m\u001b[1;33m.\u001b[0m\u001b[0mnumpy\u001b[0m\u001b[1;33m(\u001b[0m\u001b[1;33m)\u001b[0m\u001b[1;33m.\u001b[0m\u001b[0mitem\u001b[0m\u001b[1;33m(\u001b[0m\u001b[1;33m)\u001b[0m\u001b[1;33m\u001b[0m\u001b[1;33m\u001b[0m\u001b[0m\n\u001b[0m\u001b[0;32m   1372\u001b[0m             can_run_full_execution = (\n\u001b[0;32m   1373\u001b[0m                 \u001b[0moriginal_spe\u001b[0m \u001b[1;33m==\u001b[0m \u001b[1;36m1\u001b[0m\u001b[1;33m\u001b[0m\u001b[1;33m\u001b[0m\u001b[0m\n",
      "\u001b[1;32m~\\anaconda3\\lib\\site-packages\\tensorflow\\python\\ops\\resource_variable_ops.py\u001b[0m in \u001b[0;36mnumpy\u001b[1;34m(self)\u001b[0m\n\u001b[0;32m    637\u001b[0m   \u001b[1;32mdef\u001b[0m \u001b[0mnumpy\u001b[0m\u001b[1;33m(\u001b[0m\u001b[0mself\u001b[0m\u001b[1;33m)\u001b[0m\u001b[1;33m:\u001b[0m\u001b[1;33m\u001b[0m\u001b[1;33m\u001b[0m\u001b[0m\n\u001b[0;32m    638\u001b[0m     \u001b[1;32mif\u001b[0m \u001b[0mcontext\u001b[0m\u001b[1;33m.\u001b[0m\u001b[0mexecuting_eagerly\u001b[0m\u001b[1;33m(\u001b[0m\u001b[1;33m)\u001b[0m\u001b[1;33m:\u001b[0m\u001b[1;33m\u001b[0m\u001b[1;33m\u001b[0m\u001b[0m\n\u001b[1;32m--> 639\u001b[1;33m       \u001b[1;32mreturn\u001b[0m \u001b[0mself\u001b[0m\u001b[1;33m.\u001b[0m\u001b[0mread_value\u001b[0m\u001b[1;33m(\u001b[0m\u001b[1;33m)\u001b[0m\u001b[1;33m.\u001b[0m\u001b[0mnumpy\u001b[0m\u001b[1;33m(\u001b[0m\u001b[1;33m)\u001b[0m\u001b[1;33m\u001b[0m\u001b[1;33m\u001b[0m\u001b[0m\n\u001b[0m\u001b[0;32m    640\u001b[0m     raise NotImplementedError(\n\u001b[0;32m    641\u001b[0m         \"numpy() is only available when eager execution is enabled.\")\n",
      "\u001b[1;32m~\\anaconda3\\lib\\site-packages\\tensorflow\\python\\ops\\resource_variable_ops.py\u001b[0m in \u001b[0;36mread_value\u001b[1;34m(self)\u001b[0m\n\u001b[0;32m    728\u001b[0m     \u001b[1;31m# Return an identity so it can get placed on whatever device the context\u001b[0m\u001b[1;33m\u001b[0m\u001b[1;33m\u001b[0m\u001b[1;33m\u001b[0m\u001b[0m\n\u001b[0;32m    729\u001b[0m     \u001b[1;31m# specifies instead of the device where the variable is.\u001b[0m\u001b[1;33m\u001b[0m\u001b[1;33m\u001b[0m\u001b[1;33m\u001b[0m\u001b[0m\n\u001b[1;32m--> 730\u001b[1;33m     \u001b[1;32mreturn\u001b[0m \u001b[0marray_ops\u001b[0m\u001b[1;33m.\u001b[0m\u001b[0midentity\u001b[0m\u001b[1;33m(\u001b[0m\u001b[0mvalue\u001b[0m\u001b[1;33m)\u001b[0m\u001b[1;33m\u001b[0m\u001b[1;33m\u001b[0m\u001b[0m\n\u001b[0m\u001b[0;32m    731\u001b[0m \u001b[1;33m\u001b[0m\u001b[0m\n\u001b[0;32m    732\u001b[0m   \u001b[1;32mdef\u001b[0m \u001b[0mread_value_no_copy\u001b[0m\u001b[1;33m(\u001b[0m\u001b[0mself\u001b[0m\u001b[1;33m)\u001b[0m\u001b[1;33m:\u001b[0m\u001b[1;33m\u001b[0m\u001b[1;33m\u001b[0m\u001b[0m\n",
      "\u001b[1;32m~\\anaconda3\\lib\\site-packages\\tensorflow\\python\\util\\traceback_utils.py\u001b[0m in \u001b[0;36merror_handler\u001b[1;34m(*args, **kwargs)\u001b[0m\n\u001b[0;32m    148\u001b[0m     \u001b[0mfiltered_tb\u001b[0m \u001b[1;33m=\u001b[0m \u001b[1;32mNone\u001b[0m\u001b[1;33m\u001b[0m\u001b[1;33m\u001b[0m\u001b[0m\n\u001b[0;32m    149\u001b[0m     \u001b[1;32mtry\u001b[0m\u001b[1;33m:\u001b[0m\u001b[1;33m\u001b[0m\u001b[1;33m\u001b[0m\u001b[0m\n\u001b[1;32m--> 150\u001b[1;33m       \u001b[1;32mreturn\u001b[0m \u001b[0mfn\u001b[0m\u001b[1;33m(\u001b[0m\u001b[1;33m*\u001b[0m\u001b[0margs\u001b[0m\u001b[1;33m,\u001b[0m \u001b[1;33m**\u001b[0m\u001b[0mkwargs\u001b[0m\u001b[1;33m)\u001b[0m\u001b[1;33m\u001b[0m\u001b[1;33m\u001b[0m\u001b[0m\n\u001b[0m\u001b[0;32m    151\u001b[0m     \u001b[1;32mexcept\u001b[0m \u001b[0mException\u001b[0m \u001b[1;32mas\u001b[0m \u001b[0me\u001b[0m\u001b[1;33m:\u001b[0m\u001b[1;33m\u001b[0m\u001b[1;33m\u001b[0m\u001b[0m\n\u001b[0;32m    152\u001b[0m       \u001b[0mfiltered_tb\u001b[0m \u001b[1;33m=\u001b[0m \u001b[0m_process_traceback_frames\u001b[0m\u001b[1;33m(\u001b[0m\u001b[0me\u001b[0m\u001b[1;33m.\u001b[0m\u001b[0m__traceback__\u001b[0m\u001b[1;33m)\u001b[0m\u001b[1;33m\u001b[0m\u001b[1;33m\u001b[0m\u001b[0m\n",
      "\u001b[1;32m~\\anaconda3\\lib\\site-packages\\tensorflow\\python\\util\\dispatch.py\u001b[0m in \u001b[0;36mop_dispatch_handler\u001b[1;34m(*args, **kwargs)\u001b[0m\n\u001b[0;32m   1174\u001b[0m       \u001b[1;31m# Fallback dispatch system (dispatch v1):\u001b[0m\u001b[1;33m\u001b[0m\u001b[1;33m\u001b[0m\u001b[1;33m\u001b[0m\u001b[0m\n\u001b[0;32m   1175\u001b[0m       \u001b[1;32mtry\u001b[0m\u001b[1;33m:\u001b[0m\u001b[1;33m\u001b[0m\u001b[1;33m\u001b[0m\u001b[0m\n\u001b[1;32m-> 1176\u001b[1;33m         \u001b[1;32mreturn\u001b[0m \u001b[0mdispatch_target\u001b[0m\u001b[1;33m(\u001b[0m\u001b[1;33m*\u001b[0m\u001b[0margs\u001b[0m\u001b[1;33m,\u001b[0m \u001b[1;33m**\u001b[0m\u001b[0mkwargs\u001b[0m\u001b[1;33m)\u001b[0m\u001b[1;33m\u001b[0m\u001b[1;33m\u001b[0m\u001b[0m\n\u001b[0m\u001b[0;32m   1177\u001b[0m       \u001b[1;32mexcept\u001b[0m \u001b[1;33m(\u001b[0m\u001b[0mTypeError\u001b[0m\u001b[1;33m,\u001b[0m \u001b[0mValueError\u001b[0m\u001b[1;33m)\u001b[0m\u001b[1;33m:\u001b[0m\u001b[1;33m\u001b[0m\u001b[1;33m\u001b[0m\u001b[0m\n\u001b[0;32m   1178\u001b[0m         \u001b[1;31m# Note: convert_to_eager_tensor currently raises a ValueError, not a\u001b[0m\u001b[1;33m\u001b[0m\u001b[1;33m\u001b[0m\u001b[1;33m\u001b[0m\u001b[0m\n",
      "\u001b[1;32m~\\anaconda3\\lib\\site-packages\\tensorflow\\python\\ops\\array_ops.py\u001b[0m in \u001b[0;36midentity\u001b[1;34m(input, name)\u001b[0m\n\u001b[0;32m    292\u001b[0m     \u001b[1;31m# variables. Variables have correct handle data when graph building.\u001b[0m\u001b[1;33m\u001b[0m\u001b[1;33m\u001b[0m\u001b[1;33m\u001b[0m\u001b[0m\n\u001b[0;32m    293\u001b[0m     \u001b[0minput\u001b[0m \u001b[1;33m=\u001b[0m \u001b[0mops\u001b[0m\u001b[1;33m.\u001b[0m\u001b[0mconvert_to_tensor\u001b[0m\u001b[1;33m(\u001b[0m\u001b[0minput\u001b[0m\u001b[1;33m)\u001b[0m\u001b[1;33m\u001b[0m\u001b[1;33m\u001b[0m\u001b[0m\n\u001b[1;32m--> 294\u001b[1;33m   \u001b[0mret\u001b[0m \u001b[1;33m=\u001b[0m \u001b[0mgen_array_ops\u001b[0m\u001b[1;33m.\u001b[0m\u001b[0midentity\u001b[0m\u001b[1;33m(\u001b[0m\u001b[0minput\u001b[0m\u001b[1;33m,\u001b[0m \u001b[0mname\u001b[0m\u001b[1;33m=\u001b[0m\u001b[0mname\u001b[0m\u001b[1;33m)\u001b[0m\u001b[1;33m\u001b[0m\u001b[1;33m\u001b[0m\u001b[0m\n\u001b[0m\u001b[0;32m    295\u001b[0m   \u001b[1;31m# Propagate handle data for happier shape inference for resource variables.\u001b[0m\u001b[1;33m\u001b[0m\u001b[1;33m\u001b[0m\u001b[1;33m\u001b[0m\u001b[0m\n\u001b[0;32m    296\u001b[0m   \u001b[1;32mif\u001b[0m \u001b[0mhasattr\u001b[0m\u001b[1;33m(\u001b[0m\u001b[0minput\u001b[0m\u001b[1;33m,\u001b[0m \u001b[1;34m\"_handle_data\"\u001b[0m\u001b[1;33m)\u001b[0m\u001b[1;33m:\u001b[0m\u001b[1;33m\u001b[0m\u001b[1;33m\u001b[0m\u001b[0m\n",
      "\u001b[1;32m~\\anaconda3\\lib\\site-packages\\tensorflow\\python\\ops\\gen_array_ops.py\u001b[0m in \u001b[0;36midentity\u001b[1;34m(input, name)\u001b[0m\n\u001b[0;32m   4833\u001b[0m   \u001b[1;32mif\u001b[0m \u001b[0mtld\u001b[0m\u001b[1;33m.\u001b[0m\u001b[0mis_eager\u001b[0m\u001b[1;33m:\u001b[0m\u001b[1;33m\u001b[0m\u001b[1;33m\u001b[0m\u001b[0m\n\u001b[0;32m   4834\u001b[0m     \u001b[1;32mtry\u001b[0m\u001b[1;33m:\u001b[0m\u001b[1;33m\u001b[0m\u001b[1;33m\u001b[0m\u001b[0m\n\u001b[1;32m-> 4835\u001b[1;33m       _result = pywrap_tfe.TFE_Py_FastPathExecute(\n\u001b[0m\u001b[0;32m   4836\u001b[0m         _ctx, \"Identity\", name, input)\n\u001b[0;32m   4837\u001b[0m       \u001b[1;32mreturn\u001b[0m \u001b[0m_result\u001b[0m\u001b[1;33m\u001b[0m\u001b[1;33m\u001b[0m\u001b[0m\n",
      "\u001b[1;31mKeyboardInterrupt\u001b[0m: "
     ]
    }
   ],
   "source": [
    "hist = model.fit(x, y, epochs = 500, verbose=0, batch_size=1)\n",
    "model.summary()"
   ]
  },
  {
   "cell_type": "code",
   "execution_count": null,
   "id": "da7d973a",
   "metadata": {},
   "outputs": [],
   "source": [
    "y_1_pred = model.predict(x_1_test_scaled)\n",
    "data_1_test[\"pred\"] = y_1_pred\n",
    "data_1_test.to_csv(\"./result/mlr_Gwang.csv\", encoding=\"utf-8\")\n",
    "model.evaluate(x_1_test_scaled, y_1_test)"
   ]
  },
  {
   "cell_type": "code",
   "execution_count": null,
   "id": "9cf92073",
   "metadata": {},
   "outputs": [],
   "source": []
  },
  {
   "cell_type": "code",
   "execution_count": null,
   "id": "1a995593",
   "metadata": {},
   "outputs": [],
   "source": []
  },
  {
   "cell_type": "code",
   "execution_count": null,
   "id": "e568fb26",
   "metadata": {},
   "outputs": [],
   "source": [
    "train_2 = pd.concat([data_2_train, x_2_train_scaled], axis=1)\n",
    "train_2 = train_2.sample(frac=1, random_state=1212).reset_index(drop=True)\n",
    "\n",
    "x = sm.add_constant(train_2[['clear_day', 'day_view_time', 'lst', 'bike_place', 'bike', 'population']]) # adding a constant\n",
    "y = train_2[[\"real\"]]\n",
    "model = sm.OLS(y, x).fit()\n",
    "predictions = model.predict(x)\n",
    "print_model = model.summary()\n",
    "print(print_model)"
   ]
  },
  {
   "cell_type": "code",
   "execution_count": null,
   "id": "7909d00a",
   "metadata": {},
   "outputs": [],
   "source": [
    "x = train_2[['clear_day', 'day_view_time', 'lst', 'bike_place', 'bike', 'population']].to_numpy()\n",
    "y = train_2[[\"real\"]].to_numpy()\n",
    "\n",
    "model = tf.keras.Sequential([\n",
    "    tf.keras.layers.Dense(units=32, activation='relu', input_shape=(6,)),\n",
    "    tf.keras.layers.Dense(units=8, activation='relu'),\n",
    "    tf.keras.layers.Dense(units=1),\n",
    "])\n",
    "\n",
    "model.compile(optimizer='adam', loss='mse', metrics=['accuracy'])\n",
    "\n",
    "hist = model.fit(x, y, epochs = 500, verbose=0, batch_size=1)\n",
    "model.summary()"
   ]
  },
  {
   "cell_type": "code",
   "execution_count": null,
   "id": "650b14c5",
   "metadata": {},
   "outputs": [],
   "source": [
    "y_2_pred = model.predict(x_2_test_scaled)\n",
    "data_2_test[\"pred\"] = y_2_pred\n",
    "data_2_test.to_csv(\"./result/mlr_Dong.csv\", encoding=\"utf-8\")\n",
    "model.evaluate(x_2_test_scaled, y_2_test)"
   ]
  },
  {
   "cell_type": "code",
   "execution_count": null,
   "id": "e85e4097",
   "metadata": {},
   "outputs": [],
   "source": []
  },
  {
   "cell_type": "code",
   "execution_count": null,
   "id": "8e94abb9",
   "metadata": {},
   "outputs": [],
   "source": []
  },
  {
   "cell_type": "code",
   "execution_count": null,
   "id": "2c65427e",
   "metadata": {},
   "outputs": [],
   "source": [
    "train_3 = pd.concat([data_3_train, x_3_train_scaled], axis=1)\n",
    "train_3 = train_3.sample(frac=1, random_state=1212).reset_index(drop=True)\n",
    "\n",
    "x = sm.add_constant(train_3[['clear_day', 'day_view_time', 'lst', 'bike_place', 'bike', 'population']]) # adding a constant\n",
    "y = train_3[[\"real\"]]\n",
    "model = sm.OLS(y, x).fit()\n",
    "predictions = model.predict(x)\n",
    "print_model = model.summary()\n",
    "print(print_model)"
   ]
  },
  {
   "cell_type": "code",
   "execution_count": null,
   "id": "254899b3",
   "metadata": {},
   "outputs": [],
   "source": [
    "x = train_3[['clear_day', 'day_view_time', 'lst', 'bike_place', 'bike', 'population']].to_numpy()\n",
    "y = train_3[[\"real\"]].to_numpy()\n",
    "\n",
    "model = tf.keras.Sequential([\n",
    "    tf.keras.layers.Dense(units=32, activation='relu', input_shape=(6,)),\n",
    "    tf.keras.layers.Dense(units=8, activation='relu'),\n",
    "    tf.keras.layers.Dense(units=1),\n",
    "])\n",
    "\n",
    "model.compile(optimizer='adam', loss='mse', metrics=['accuracy'])\n",
    "\n",
    "hist = model.fit(x, y, epochs = 500, verbose=0, batch_size=1)\n",
    "model.summary()"
   ]
  },
  {
   "cell_type": "code",
   "execution_count": null,
   "id": "f8c8d0d8",
   "metadata": {},
   "outputs": [],
   "source": [
    "y_3_pred = model.predict(x_3_test_scaled)\n",
    "data_3_test[\"pred\"] = y_3_pred\n",
    "data_3_test.to_csv(\"./result/mlr_Seong.csv\", encoding=\"utf-8\")\n",
    "model.evaluate(x_3_test_scaled, y_3_test)"
   ]
  },
  {
   "cell_type": "code",
   "execution_count": null,
   "id": "976f1d59",
   "metadata": {},
   "outputs": [],
   "source": []
  },
  {
   "cell_type": "code",
   "execution_count": null,
   "id": "69c9a29e",
   "metadata": {},
   "outputs": [],
   "source": []
  },
  {
   "cell_type": "code",
   "execution_count": null,
   "id": "f51b349f",
   "metadata": {},
   "outputs": [],
   "source": [
    "train_4 = pd.concat([data_4_train, x_4_train_scaled], axis=1)\n",
    "train_4 = train_4.sample(frac=1, random_state=1212).reset_index(drop=True)\n",
    "\n",
    "x = sm.add_constant(train_4[['clear_day', 'day_view_time', 'lst', 'bike_place', 'bike', 'population']]) # adding a constant\n",
    "y = train_4[[\"real\"]]\n",
    "model = sm.OLS(y, x).fit()\n",
    "predictions = model.predict(x)\n",
    "print_model = model.summary()\n",
    "print(print_model)"
   ]
  },
  {
   "cell_type": "code",
   "execution_count": null,
   "id": "ad31bab4",
   "metadata": {},
   "outputs": [],
   "source": [
    "x = train_4[['clear_day', 'day_view_time', 'lst', 'bike_place', 'bike', 'population']].to_numpy()\n",
    "y = train_4[[\"real\"]].to_numpy()\n",
    "\n",
    "model = tf.keras.Sequential([\n",
    "    tf.keras.layers.Dense(units=32, activation='relu', input_shape=(6,)),\n",
    "    tf.keras.layers.Dense(units=8, activation='relu'),\n",
    "    tf.keras.layers.Dense(units=1),\n",
    "])\n",
    "\n",
    "model.compile(optimizer='adam', loss='mse', metrics=['accuracy'])\n",
    "\n",
    "hist = model.fit(x, y, epochs = 500, verbose=0, batch_size=1)\n",
    "model.summary()"
   ]
  },
  {
   "cell_type": "code",
   "execution_count": null,
   "id": "85ee90d1",
   "metadata": {},
   "outputs": [],
   "source": [
    "y_4_pred = model.predict(x_4_test_scaled)\n",
    "data_4_test[\"pred\"] = y_4_pred\n",
    "data_4_test.to_csv(\"./result/mlr_Jung.csv\", encoding=\"utf-8\")\n",
    "model.evaluate(x_4_test_scaled, y_4_test)"
   ]
  }
 ],
 "metadata": {
  "kernelspec": {
   "display_name": "Python 3",
   "language": "python",
   "name": "python3"
  },
  "language_info": {
   "codemirror_mode": {
    "name": "ipython",
    "version": 3
   },
   "file_extension": ".py",
   "mimetype": "text/x-python",
   "name": "python",
   "nbconvert_exporter": "python",
   "pygments_lexer": "ipython3",
   "version": "3.8.8"
  }
 },
 "nbformat": 4,
 "nbformat_minor": 5
}
